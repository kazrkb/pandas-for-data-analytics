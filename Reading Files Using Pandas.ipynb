{
 "cells": [
  {
   "cell_type": "markdown",
   "id": "1b622ee4",
   "metadata": {},
   "source": [
    "# Reading files using pandas"
   ]
  },
  {
   "cell_type": "code",
   "execution_count": 1,
   "id": "41912209",
   "metadata": {},
   "outputs": [],
   "source": [
    "import pandas as pd"
   ]
  },
  {
   "cell_type": "code",
   "execution_count": 2,
   "id": "d1da4068",
   "metadata": {},
   "outputs": [],
   "source": [
    "df = pd.read_csv(r\"D:\\Data Analyst Bootcamp\\Pandas for Data Analytics\\data\\countries of the world.csv\")"
   ]
  },
  {
   "cell_type": "code",
   "execution_count": 3,
   "id": "cef4fabd",
   "metadata": {},
   "outputs": [
    {
     "data": {
      "application/vnd.microsoft.datawrangler.viewer.v0+json": {
       "columns": [
        {
         "name": "index",
         "rawType": "int64",
         "type": "integer"
        },
        {
         "name": "Country",
         "rawType": "object",
         "type": "string"
        },
        {
         "name": "Region",
         "rawType": "object",
         "type": "string"
        }
       ],
       "ref": "c9da497c-7281-4424-b189-18fbdf2dffa2",
       "rows": [
        [
         "0",
         "Afghanistan ",
         "ASIA (EX. NEAR EAST)         "
        ],
        [
         "1",
         "Albania ",
         "EASTERN EUROPE                     "
        ],
        [
         "2",
         "Algeria ",
         "NORTHERN AFRICA                    "
        ],
        [
         "3",
         "American Samoa ",
         "OCEANIA                            "
        ],
        [
         "4",
         "Andorra ",
         "WESTERN EUROPE                     "
        ],
        [
         "5",
         "Angola ",
         "SUB-SAHARAN AFRICA                 "
        ],
        [
         "6",
         "Anguilla ",
         "LATIN AMER. & CARIB    "
        ],
        [
         "7",
         "Antigua & Barbuda ",
         "LATIN AMER. & CARIB    "
        ],
        [
         "8",
         "Argentina ",
         "LATIN AMER. & CARIB    "
        ],
        [
         "9",
         "Armenia ",
         "C.W. OF IND. STATES "
        ],
        [
         "10",
         "Aruba ",
         "LATIN AMER. & CARIB    "
        ],
        [
         "11",
         "Australia ",
         "OCEANIA                            "
        ],
        [
         "12",
         "Austria ",
         "WESTERN EUROPE                     "
        ],
        [
         "13",
         "Azerbaijan ",
         "C.W. OF IND. STATES "
        ],
        [
         "14",
         "Bahamas, The ",
         "LATIN AMER. & CARIB    "
        ],
        [
         "15",
         "Bahrain ",
         "NEAR EAST                          "
        ],
        [
         "16",
         "Bangladesh ",
         "ASIA (EX. NEAR EAST)         "
        ],
        [
         "17",
         "Barbados ",
         "LATIN AMER. & CARIB    "
        ],
        [
         "18",
         "Belarus ",
         "C.W. OF IND. STATES "
        ],
        [
         "19",
         "Belgium ",
         "WESTERN EUROPE                     "
        ],
        [
         "20",
         "Belize ",
         "LATIN AMER. & CARIB    "
        ],
        [
         "21",
         "Benin ",
         "SUB-SAHARAN AFRICA                 "
        ],
        [
         "22",
         "Bermuda ",
         "NORTHERN AMERICA                   "
        ],
        [
         "23",
         "Bhutan ",
         "ASIA (EX. NEAR EAST)         "
        ],
        [
         "24",
         "Bolivia ",
         "LATIN AMER. & CARIB    "
        ],
        [
         "25",
         "Bosnia & Herzegovina ",
         "EASTERN EUROPE                     "
        ],
        [
         "26",
         "Botswana ",
         "SUB-SAHARAN AFRICA                 "
        ],
        [
         "27",
         "Brazil ",
         "LATIN AMER. & CARIB    "
        ],
        [
         "28",
         "British Virgin Is. ",
         "LATIN AMER. & CARIB    "
        ],
        [
         "29",
         "Brunei ",
         "ASIA (EX. NEAR EAST)         "
        ],
        [
         "30",
         "Bulgaria ",
         "EASTERN EUROPE                     "
        ],
        [
         "31",
         "Burkina Faso ",
         "SUB-SAHARAN AFRICA                 "
        ],
        [
         "32",
         "Burma ",
         "ASIA (EX. NEAR EAST)         "
        ],
        [
         "33",
         "Burundi ",
         "SUB-SAHARAN AFRICA                 "
        ],
        [
         "34",
         "Cambodia ",
         "ASIA (EX. NEAR EAST)         "
        ],
        [
         "35",
         "Cameroon ",
         "SUB-SAHARAN AFRICA                 "
        ],
        [
         "36",
         "Canada ",
         "NORTHERN AMERICA                   "
        ],
        [
         "37",
         "Cape Verde ",
         "SUB-SAHARAN AFRICA                 "
        ],
        [
         "38",
         "Cayman Islands ",
         "LATIN AMER. & CARIB    "
        ],
        [
         "39",
         "Central African Rep. ",
         "SUB-SAHARAN AFRICA                 "
        ],
        [
         "40",
         "Chad ",
         "SUB-SAHARAN AFRICA                 "
        ],
        [
         "41",
         "Chile ",
         "LATIN AMER. & CARIB    "
        ],
        [
         "42",
         "China ",
         "ASIA (EX. NEAR EAST)         "
        ],
        [
         "43",
         "Colombia ",
         "LATIN AMER. & CARIB    "
        ],
        [
         "44",
         "Comoros ",
         "SUB-SAHARAN AFRICA                 "
        ],
        [
         "45",
         "Congo, Dem. Rep. ",
         "SUB-SAHARAN AFRICA                 "
        ],
        [
         "46",
         "Congo, Repub. of the ",
         "SUB-SAHARAN AFRICA                 "
        ],
        [
         "47",
         "Cook Islands ",
         "OCEANIA                            "
        ],
        [
         "48",
         "Costa Rica ",
         "LATIN AMER. & CARIB    "
        ],
        [
         "49",
         "Cote d'Ivoire ",
         "SUB-SAHARAN AFRICA                 "
        ]
       ],
       "shape": {
        "columns": 2,
        "rows": 227
       }
      },
      "text/html": [
       "<div>\n",
       "<style scoped>\n",
       "    .dataframe tbody tr th:only-of-type {\n",
       "        vertical-align: middle;\n",
       "    }\n",
       "\n",
       "    .dataframe tbody tr th {\n",
       "        vertical-align: top;\n",
       "    }\n",
       "\n",
       "    .dataframe thead th {\n",
       "        text-align: right;\n",
       "    }\n",
       "</style>\n",
       "<table border=\"1\" class=\"dataframe\">\n",
       "  <thead>\n",
       "    <tr style=\"text-align: right;\">\n",
       "      <th></th>\n",
       "      <th>Country</th>\n",
       "      <th>Region</th>\n",
       "    </tr>\n",
       "  </thead>\n",
       "  <tbody>\n",
       "    <tr>\n",
       "      <th>0</th>\n",
       "      <td>Afghanistan</td>\n",
       "      <td>ASIA (EX. NEAR EAST)</td>\n",
       "    </tr>\n",
       "    <tr>\n",
       "      <th>1</th>\n",
       "      <td>Albania</td>\n",
       "      <td>EASTERN EUROPE</td>\n",
       "    </tr>\n",
       "    <tr>\n",
       "      <th>2</th>\n",
       "      <td>Algeria</td>\n",
       "      <td>NORTHERN AFRICA</td>\n",
       "    </tr>\n",
       "    <tr>\n",
       "      <th>3</th>\n",
       "      <td>American Samoa</td>\n",
       "      <td>OCEANIA</td>\n",
       "    </tr>\n",
       "    <tr>\n",
       "      <th>4</th>\n",
       "      <td>Andorra</td>\n",
       "      <td>WESTERN EUROPE</td>\n",
       "    </tr>\n",
       "    <tr>\n",
       "      <th>...</th>\n",
       "      <td>...</td>\n",
       "      <td>...</td>\n",
       "    </tr>\n",
       "    <tr>\n",
       "      <th>222</th>\n",
       "      <td>West Bank</td>\n",
       "      <td>NEAR EAST</td>\n",
       "    </tr>\n",
       "    <tr>\n",
       "      <th>223</th>\n",
       "      <td>Western Sahara</td>\n",
       "      <td>NORTHERN AFRICA</td>\n",
       "    </tr>\n",
       "    <tr>\n",
       "      <th>224</th>\n",
       "      <td>Yemen</td>\n",
       "      <td>NEAR EAST</td>\n",
       "    </tr>\n",
       "    <tr>\n",
       "      <th>225</th>\n",
       "      <td>Zambia</td>\n",
       "      <td>SUB-SAHARAN AFRICA</td>\n",
       "    </tr>\n",
       "    <tr>\n",
       "      <th>226</th>\n",
       "      <td>Zimbabwe</td>\n",
       "      <td>SUB-SAHARAN AFRICA</td>\n",
       "    </tr>\n",
       "  </tbody>\n",
       "</table>\n",
       "<p>227 rows × 2 columns</p>\n",
       "</div>"
      ],
      "text/plain": [
       "             Country                               Region\n",
       "0       Afghanistan         ASIA (EX. NEAR EAST)         \n",
       "1           Albania   EASTERN EUROPE                     \n",
       "2           Algeria   NORTHERN AFRICA                    \n",
       "3    American Samoa   OCEANIA                            \n",
       "4           Andorra   WESTERN EUROPE                     \n",
       "..               ...                                  ...\n",
       "222       West Bank   NEAR EAST                          \n",
       "223  Western Sahara   NORTHERN AFRICA                    \n",
       "224           Yemen   NEAR EAST                          \n",
       "225          Zambia   SUB-SAHARAN AFRICA                 \n",
       "226        Zimbabwe   SUB-SAHARAN AFRICA                 \n",
       "\n",
       "[227 rows x 2 columns]"
      ]
     },
     "execution_count": 3,
     "metadata": {},
     "output_type": "execute_result"
    }
   ],
   "source": [
    "df"
   ]
  },
  {
   "cell_type": "code",
   "execution_count": 4,
   "id": "b92c5a0f",
   "metadata": {},
   "outputs": [
    {
     "data": {
      "application/vnd.microsoft.datawrangler.viewer.v0+json": {
       "columns": [
        {
         "name": "index",
         "rawType": "int64",
         "type": "integer"
        },
        {
         "name": "Country",
         "rawType": "object",
         "type": "string"
        },
        {
         "name": "Region",
         "rawType": "object",
         "type": "string"
        }
       ],
       "ref": "fef3d2f0-74e0-4d56-914e-82aaa0b431f4",
       "rows": [
        [
         "0",
         "Afghanistan ",
         "ASIA (EX. NEAR EAST)         "
        ],
        [
         "1",
         "Albania ",
         "EASTERN EUROPE                     "
        ],
        [
         "2",
         "Algeria ",
         "NORTHERN AFRICA                    "
        ],
        [
         "3",
         "American Samoa ",
         "OCEANIA                            "
        ],
        [
         "4",
         "Andorra ",
         "WESTERN EUROPE                     "
        ],
        [
         "5",
         "Angola ",
         "SUB-SAHARAN AFRICA                 "
        ],
        [
         "6",
         "Anguilla ",
         "LATIN AMER. & CARIB    "
        ],
        [
         "7",
         "Antigua & Barbuda ",
         "LATIN AMER. & CARIB    "
        ],
        [
         "8",
         "Argentina ",
         "LATIN AMER. & CARIB    "
        ],
        [
         "9",
         "Armenia ",
         "C.W. OF IND. STATES "
        ],
        [
         "10",
         "Aruba ",
         "LATIN AMER. & CARIB    "
        ],
        [
         "11",
         "Australia ",
         "OCEANIA                            "
        ],
        [
         "12",
         "Austria ",
         "WESTERN EUROPE                     "
        ],
        [
         "13",
         "Azerbaijan ",
         "C.W. OF IND. STATES "
        ],
        [
         "14",
         "Bahamas, The ",
         "LATIN AMER. & CARIB    "
        ],
        [
         "15",
         "Bahrain ",
         "NEAR EAST                          "
        ],
        [
         "16",
         "Bangladesh ",
         "ASIA (EX. NEAR EAST)         "
        ],
        [
         "17",
         "Barbados ",
         "LATIN AMER. & CARIB    "
        ],
        [
         "18",
         "Belarus ",
         "C.W. OF IND. STATES "
        ],
        [
         "19",
         "Belgium ",
         "WESTERN EUROPE                     "
        ],
        [
         "20",
         "Belize ",
         "LATIN AMER. & CARIB    "
        ],
        [
         "21",
         "Benin ",
         "SUB-SAHARAN AFRICA                 "
        ],
        [
         "22",
         "Bermuda ",
         "NORTHERN AMERICA                   "
        ],
        [
         "23",
         "Bhutan ",
         "ASIA (EX. NEAR EAST)         "
        ],
        [
         "24",
         "Bolivia ",
         "LATIN AMER. & CARIB    "
        ],
        [
         "25",
         "Bosnia & Herzegovina ",
         "EASTERN EUROPE                     "
        ],
        [
         "26",
         "Botswana ",
         "SUB-SAHARAN AFRICA                 "
        ],
        [
         "27",
         "Brazil ",
         "LATIN AMER. & CARIB    "
        ],
        [
         "28",
         "British Virgin Is. ",
         "LATIN AMER. & CARIB    "
        ],
        [
         "29",
         "Brunei ",
         "ASIA (EX. NEAR EAST)         "
        ],
        [
         "30",
         "Bulgaria ",
         "EASTERN EUROPE                     "
        ],
        [
         "31",
         "Burkina Faso ",
         "SUB-SAHARAN AFRICA                 "
        ],
        [
         "32",
         "Burma ",
         "ASIA (EX. NEAR EAST)         "
        ],
        [
         "33",
         "Burundi ",
         "SUB-SAHARAN AFRICA                 "
        ],
        [
         "34",
         "Cambodia ",
         "ASIA (EX. NEAR EAST)         "
        ],
        [
         "35",
         "Cameroon ",
         "SUB-SAHARAN AFRICA                 "
        ],
        [
         "36",
         "Canada ",
         "NORTHERN AMERICA                   "
        ],
        [
         "37",
         "Cape Verde ",
         "SUB-SAHARAN AFRICA                 "
        ],
        [
         "38",
         "Cayman Islands ",
         "LATIN AMER. & CARIB    "
        ],
        [
         "39",
         "Central African Rep. ",
         "SUB-SAHARAN AFRICA                 "
        ],
        [
         "40",
         "Chad ",
         "SUB-SAHARAN AFRICA                 "
        ],
        [
         "41",
         "Chile ",
         "LATIN AMER. & CARIB    "
        ],
        [
         "42",
         "China ",
         "ASIA (EX. NEAR EAST)         "
        ],
        [
         "43",
         "Colombia ",
         "LATIN AMER. & CARIB    "
        ],
        [
         "44",
         "Comoros ",
         "SUB-SAHARAN AFRICA                 "
        ],
        [
         "45",
         "Congo, Dem. Rep. ",
         "SUB-SAHARAN AFRICA                 "
        ],
        [
         "46",
         "Congo, Repub. of the ",
         "SUB-SAHARAN AFRICA                 "
        ],
        [
         "47",
         "Cook Islands ",
         "OCEANIA                            "
        ],
        [
         "48",
         "Costa Rica ",
         "LATIN AMER. & CARIB    "
        ],
        [
         "49",
         "Cote d'Ivoire ",
         "SUB-SAHARAN AFRICA                 "
        ]
       ],
       "shape": {
        "columns": 2,
        "rows": 227
       }
      },
      "text/html": [
       "<div>\n",
       "<style scoped>\n",
       "    .dataframe tbody tr th:only-of-type {\n",
       "        vertical-align: middle;\n",
       "    }\n",
       "\n",
       "    .dataframe tbody tr th {\n",
       "        vertical-align: top;\n",
       "    }\n",
       "\n",
       "    .dataframe thead th {\n",
       "        text-align: right;\n",
       "    }\n",
       "</style>\n",
       "<table border=\"1\" class=\"dataframe\">\n",
       "  <thead>\n",
       "    <tr style=\"text-align: right;\">\n",
       "      <th></th>\n",
       "      <th>Country</th>\n",
       "      <th>Region</th>\n",
       "    </tr>\n",
       "  </thead>\n",
       "  <tbody>\n",
       "    <tr>\n",
       "      <th>0</th>\n",
       "      <td>Afghanistan</td>\n",
       "      <td>ASIA (EX. NEAR EAST)</td>\n",
       "    </tr>\n",
       "    <tr>\n",
       "      <th>1</th>\n",
       "      <td>Albania</td>\n",
       "      <td>EASTERN EUROPE</td>\n",
       "    </tr>\n",
       "    <tr>\n",
       "      <th>2</th>\n",
       "      <td>Algeria</td>\n",
       "      <td>NORTHERN AFRICA</td>\n",
       "    </tr>\n",
       "    <tr>\n",
       "      <th>3</th>\n",
       "      <td>American Samoa</td>\n",
       "      <td>OCEANIA</td>\n",
       "    </tr>\n",
       "    <tr>\n",
       "      <th>4</th>\n",
       "      <td>Andorra</td>\n",
       "      <td>WESTERN EUROPE</td>\n",
       "    </tr>\n",
       "    <tr>\n",
       "      <th>...</th>\n",
       "      <td>...</td>\n",
       "      <td>...</td>\n",
       "    </tr>\n",
       "    <tr>\n",
       "      <th>222</th>\n",
       "      <td>West Bank</td>\n",
       "      <td>NEAR EAST</td>\n",
       "    </tr>\n",
       "    <tr>\n",
       "      <th>223</th>\n",
       "      <td>Western Sahara</td>\n",
       "      <td>NORTHERN AFRICA</td>\n",
       "    </tr>\n",
       "    <tr>\n",
       "      <th>224</th>\n",
       "      <td>Yemen</td>\n",
       "      <td>NEAR EAST</td>\n",
       "    </tr>\n",
       "    <tr>\n",
       "      <th>225</th>\n",
       "      <td>Zambia</td>\n",
       "      <td>SUB-SAHARAN AFRICA</td>\n",
       "    </tr>\n",
       "    <tr>\n",
       "      <th>226</th>\n",
       "      <td>Zimbabwe</td>\n",
       "      <td>SUB-SAHARAN AFRICA</td>\n",
       "    </tr>\n",
       "  </tbody>\n",
       "</table>\n",
       "<p>227 rows × 2 columns</p>\n",
       "</div>"
      ],
      "text/plain": [
       "             Country                               Region\n",
       "0       Afghanistan         ASIA (EX. NEAR EAST)         \n",
       "1           Albania   EASTERN EUROPE                     \n",
       "2           Algeria   NORTHERN AFRICA                    \n",
       "3    American Samoa   OCEANIA                            \n",
       "4           Andorra   WESTERN EUROPE                     \n",
       "..               ...                                  ...\n",
       "222       West Bank   NEAR EAST                          \n",
       "223  Western Sahara   NORTHERN AFRICA                    \n",
       "224           Yemen   NEAR EAST                          \n",
       "225          Zambia   SUB-SAHARAN AFRICA                 \n",
       "226        Zimbabwe   SUB-SAHARAN AFRICA                 \n",
       "\n",
       "[227 rows x 2 columns]"
      ]
     },
     "execution_count": 4,
     "metadata": {},
     "output_type": "execute_result"
    }
   ],
   "source": [
    "df = pd.read_table(r\"D:\\Data Analyst Bootcamp\\Pandas for Data Analytics\\data\\countries of the world.txt\", sep=(\"\\t\"))\n",
    "df"
   ]
  },
  {
   "cell_type": "code",
   "execution_count": 5,
   "id": "b2ef4c81",
   "metadata": {},
   "outputs": [
    {
     "data": {
      "application/vnd.microsoft.datawrangler.viewer.v0+json": {
       "columns": [
        {
         "name": "index",
         "rawType": "int64",
         "type": "integer"
        },
        {
         "name": "Country",
         "rawType": "object",
         "type": "string"
        },
        {
         "name": "Region",
         "rawType": "object",
         "type": "string"
        }
       ],
       "ref": "e31ab342-1eb1-48a6-a9c4-7b6cfba72d7d",
       "rows": [
        [
         "0",
         "Afghanistan ",
         "ASIA (EX. NEAR EAST)         "
        ],
        [
         "1",
         "Albania ",
         "EASTERN EUROPE                     "
        ],
        [
         "2",
         "Algeria ",
         "NORTHERN AFRICA                    "
        ],
        [
         "3",
         "American Samoa ",
         "OCEANIA                            "
        ],
        [
         "4",
         "Andorra ",
         "WESTERN EUROPE                     "
        ],
        [
         "5",
         "Angola ",
         "SUB-SAHARAN AFRICA                 "
        ],
        [
         "6",
         "Anguilla ",
         "LATIN AMER. & CARIB    "
        ],
        [
         "7",
         "Antigua & Barbuda ",
         "LATIN AMER. & CARIB    "
        ],
        [
         "8",
         "Argentina ",
         "LATIN AMER. & CARIB    "
        ],
        [
         "9",
         "Armenia ",
         "C.W. OF IND. STATES "
        ],
        [
         "10",
         "Aruba ",
         "LATIN AMER. & CARIB    "
        ],
        [
         "11",
         "Australia ",
         "OCEANIA                            "
        ],
        [
         "12",
         "Austria ",
         "WESTERN EUROPE                     "
        ],
        [
         "13",
         "Azerbaijan ",
         "C.W. OF IND. STATES "
        ],
        [
         "14",
         "Bahamas, The ",
         "LATIN AMER. & CARIB    "
        ],
        [
         "15",
         "Bahrain ",
         "NEAR EAST                          "
        ],
        [
         "16",
         "Bangladesh ",
         "ASIA (EX. NEAR EAST)         "
        ],
        [
         "17",
         "Barbados ",
         "LATIN AMER. & CARIB    "
        ],
        [
         "18",
         "Belarus ",
         "C.W. OF IND. STATES "
        ],
        [
         "19",
         "Belgium ",
         "WESTERN EUROPE                     "
        ],
        [
         "20",
         "Belize ",
         "LATIN AMER. & CARIB    "
        ],
        [
         "21",
         "Benin ",
         "SUB-SAHARAN AFRICA                 "
        ],
        [
         "22",
         "Bermuda ",
         "NORTHERN AMERICA                   "
        ],
        [
         "23",
         "Bhutan ",
         "ASIA (EX. NEAR EAST)         "
        ],
        [
         "24",
         "Bolivia ",
         "LATIN AMER. & CARIB    "
        ],
        [
         "25",
         "Bosnia & Herzegovina ",
         "EASTERN EUROPE                     "
        ],
        [
         "26",
         "Botswana ",
         "SUB-SAHARAN AFRICA                 "
        ],
        [
         "27",
         "Brazil ",
         "LATIN AMER. & CARIB    "
        ],
        [
         "28",
         "British Virgin Is. ",
         "LATIN AMER. & CARIB    "
        ],
        [
         "29",
         "Brunei ",
         "ASIA (EX. NEAR EAST)         "
        ],
        [
         "30",
         "Bulgaria ",
         "EASTERN EUROPE                     "
        ],
        [
         "31",
         "Burkina Faso ",
         "SUB-SAHARAN AFRICA                 "
        ],
        [
         "32",
         "Burma ",
         "ASIA (EX. NEAR EAST)         "
        ],
        [
         "33",
         "Burundi ",
         "SUB-SAHARAN AFRICA                 "
        ],
        [
         "34",
         "Cambodia ",
         "ASIA (EX. NEAR EAST)         "
        ],
        [
         "35",
         "Cameroon ",
         "SUB-SAHARAN AFRICA                 "
        ],
        [
         "36",
         "Canada ",
         "NORTHERN AMERICA                   "
        ],
        [
         "37",
         "Cape Verde ",
         "SUB-SAHARAN AFRICA                 "
        ],
        [
         "38",
         "Cayman Islands ",
         "LATIN AMER. & CARIB    "
        ],
        [
         "39",
         "Central African Rep. ",
         "SUB-SAHARAN AFRICA                 "
        ],
        [
         "40",
         "Chad ",
         "SUB-SAHARAN AFRICA                 "
        ],
        [
         "41",
         "Chile ",
         "LATIN AMER. & CARIB    "
        ],
        [
         "42",
         "China ",
         "ASIA (EX. NEAR EAST)         "
        ],
        [
         "43",
         "Colombia ",
         "LATIN AMER. & CARIB    "
        ],
        [
         "44",
         "Comoros ",
         "SUB-SAHARAN AFRICA                 "
        ],
        [
         "45",
         "Congo, Dem. Rep. ",
         "SUB-SAHARAN AFRICA                 "
        ],
        [
         "46",
         "Congo, Repub. of the ",
         "SUB-SAHARAN AFRICA                 "
        ],
        [
         "47",
         "Cook Islands ",
         "OCEANIA                            "
        ],
        [
         "48",
         "Costa Rica ",
         "LATIN AMER. & CARIB    "
        ],
        [
         "49",
         "Cote d'Ivoire ",
         "SUB-SAHARAN AFRICA                 "
        ]
       ],
       "shape": {
        "columns": 2,
        "rows": 227
       }
      },
      "text/html": [
       "<div>\n",
       "<style scoped>\n",
       "    .dataframe tbody tr th:only-of-type {\n",
       "        vertical-align: middle;\n",
       "    }\n",
       "\n",
       "    .dataframe tbody tr th {\n",
       "        vertical-align: top;\n",
       "    }\n",
       "\n",
       "    .dataframe thead th {\n",
       "        text-align: right;\n",
       "    }\n",
       "</style>\n",
       "<table border=\"1\" class=\"dataframe\">\n",
       "  <thead>\n",
       "    <tr style=\"text-align: right;\">\n",
       "      <th></th>\n",
       "      <th>Country</th>\n",
       "      <th>Region</th>\n",
       "    </tr>\n",
       "  </thead>\n",
       "  <tbody>\n",
       "    <tr>\n",
       "      <th>0</th>\n",
       "      <td>Afghanistan</td>\n",
       "      <td>ASIA (EX. NEAR EAST)</td>\n",
       "    </tr>\n",
       "    <tr>\n",
       "      <th>1</th>\n",
       "      <td>Albania</td>\n",
       "      <td>EASTERN EUROPE</td>\n",
       "    </tr>\n",
       "    <tr>\n",
       "      <th>2</th>\n",
       "      <td>Algeria</td>\n",
       "      <td>NORTHERN AFRICA</td>\n",
       "    </tr>\n",
       "    <tr>\n",
       "      <th>3</th>\n",
       "      <td>American Samoa</td>\n",
       "      <td>OCEANIA</td>\n",
       "    </tr>\n",
       "    <tr>\n",
       "      <th>4</th>\n",
       "      <td>Andorra</td>\n",
       "      <td>WESTERN EUROPE</td>\n",
       "    </tr>\n",
       "    <tr>\n",
       "      <th>...</th>\n",
       "      <td>...</td>\n",
       "      <td>...</td>\n",
       "    </tr>\n",
       "    <tr>\n",
       "      <th>222</th>\n",
       "      <td>West Bank</td>\n",
       "      <td>NEAR EAST</td>\n",
       "    </tr>\n",
       "    <tr>\n",
       "      <th>223</th>\n",
       "      <td>Western Sahara</td>\n",
       "      <td>NORTHERN AFRICA</td>\n",
       "    </tr>\n",
       "    <tr>\n",
       "      <th>224</th>\n",
       "      <td>Yemen</td>\n",
       "      <td>NEAR EAST</td>\n",
       "    </tr>\n",
       "    <tr>\n",
       "      <th>225</th>\n",
       "      <td>Zambia</td>\n",
       "      <td>SUB-SAHARAN AFRICA</td>\n",
       "    </tr>\n",
       "    <tr>\n",
       "      <th>226</th>\n",
       "      <td>Zimbabwe</td>\n",
       "      <td>SUB-SAHARAN AFRICA</td>\n",
       "    </tr>\n",
       "  </tbody>\n",
       "</table>\n",
       "<p>227 rows × 2 columns</p>\n",
       "</div>"
      ],
      "text/plain": [
       "             Country                               Region\n",
       "0       Afghanistan         ASIA (EX. NEAR EAST)         \n",
       "1           Albania   EASTERN EUROPE                     \n",
       "2           Algeria   NORTHERN AFRICA                    \n",
       "3    American Samoa   OCEANIA                            \n",
       "4           Andorra   WESTERN EUROPE                     \n",
       "..               ...                                  ...\n",
       "222       West Bank   NEAR EAST                          \n",
       "223  Western Sahara   NORTHERN AFRICA                    \n",
       "224           Yemen   NEAR EAST                          \n",
       "225          Zambia   SUB-SAHARAN AFRICA                 \n",
       "226        Zimbabwe   SUB-SAHARAN AFRICA                 \n",
       "\n",
       "[227 rows x 2 columns]"
      ]
     },
     "execution_count": 5,
     "metadata": {},
     "output_type": "execute_result"
    }
   ],
   "source": [
    "df = pd.read_table(r\"D:\\Data Analyst Bootcamp\\Pandas for Data Analytics\\data\\countries of the world.csv\", sep=(\",\"))\n",
    "df"
   ]
  },
  {
   "cell_type": "code",
   "execution_count": 10,
   "id": "1b033de5",
   "metadata": {},
   "outputs": [
    {
     "data": {
      "application/vnd.microsoft.datawrangler.viewer.v0+json": {
       "columns": [
        {
         "name": "index",
         "rawType": "int64",
         "type": "integer"
        },
        {
         "name": "12 Strong",
         "rawType": "object",
         "type": "unknown"
        },
        {
         "name": "A Fantastic Woman (Una Mujer Fantástica)",
         "rawType": "object",
         "type": "unknown"
        },
        {
         "name": "All The Money In The World",
         "rawType": "object",
         "type": "unknown"
        },
        {
         "name": "Bilal: A New Breed Of Hero",
         "rawType": "object",
         "type": "unknown"
        },
        {
         "name": "Call Me By Your Name",
         "rawType": "object",
         "type": "unknown"
        },
        {
         "name": "Darkest Hour",
         "rawType": "object",
         "type": "unknown"
        },
        {
         "name": "Den Of Thieves",
         "rawType": "object",
         "type": "unknown"
        },
        {
         "name": "Ferdinand",
         "rawType": "object",
         "type": "unknown"
        },
        {
         "name": "Fifty Shades Freed",
         "rawType": "object",
         "type": "unknown"
        },
        {
         "name": "Film Stars Don'T Die In Liverpool",
         "rawType": "object",
         "type": "unknown"
        },
        {
         "name": "Forever My Girl",
         "rawType": "object",
         "type": "unknown"
        },
        {
         "name": "Golden Exits",
         "rawType": "object",
         "type": "unknown"
        },
        {
         "name": "Hostiles",
         "rawType": "object",
         "type": "unknown"
        },
        {
         "name": "I, Tonya",
         "rawType": "object",
         "type": "unknown"
        },
        {
         "name": "Insidious: The Last Key",
         "rawType": "object",
         "type": "unknown"
        },
        {
         "name": "Jumanji: Welcome To The Jungle",
         "rawType": "object",
         "type": "unknown"
        },
        {
         "name": "Mary And The Witch'S Flower",
         "rawType": "object",
         "type": "unknown"
        },
        {
         "name": "Maze Runner: The Death Cure",
         "rawType": "object",
         "type": "unknown"
        },
        {
         "name": "Molly'S Game",
         "rawType": "object",
         "type": "unknown"
        },
        {
         "name": "Paddington 2",
         "rawType": "object",
         "type": "unknown"
        },
        {
         "name": "Padmaavat",
         "rawType": "object",
         "type": "unknown"
        },
        {
         "name": "Permission",
         "rawType": "object",
         "type": "unknown"
        },
        {
         "name": "Peter Rabbit",
         "rawType": "object",
         "type": "unknown"
        },
        {
         "name": "Phantom Thread",
         "rawType": "object",
         "type": "unknown"
        },
        {
         "name": "Pitch Perfect 3",
         "rawType": "object",
         "type": "unknown"
        },
        {
         "name": "Proud Mary",
         "rawType": "object",
         "type": "unknown"
        },
        {
         "name": "Sanpo Suru Shinryakusha",
         "rawType": "object",
         "type": "unknown"
        },
        {
         "name": "Star Wars: The Last Jedi",
         "rawType": "object",
         "type": "unknown"
        },
        {
         "name": "The 15:17 To Paris",
         "rawType": "object",
         "type": "unknown"
        },
        {
         "name": "The Commuter",
         "rawType": "object",
         "type": "unknown"
        },
        {
         "name": "The Disaster Artist",
         "rawType": "object",
         "type": "unknown"
        },
        {
         "name": "The Greatest Showman",
         "rawType": "object",
         "type": "unknown"
        },
        {
         "name": "The Insult (L'Insulte)",
         "rawType": "object",
         "type": "unknown"
        },
        {
         "name": "The Post",
         "rawType": "object",
         "type": "unknown"
        },
        {
         "name": "The Shape Of Water",
         "rawType": "object",
         "type": "unknown"
        },
        {
         "name": "Three Billboards Outside Ebbing, Missouri",
         "rawType": "object",
         "type": "unknown"
        },
        {
         "name": "Till The End Of The World",
         "rawType": "object",
         "type": "unknown"
        },
        {
         "name": "Winchester",
         "rawType": "object",
         "type": "unknown"
        }
       ],
       "ref": "a206343b-185c-4427-90b8-08577877e681",
       "rows": [
        [
         "0",
         "{'Genre': 'Action', 'Gross': '$453,173', 'IMDB Metascore': '54', 'Popcorn Score': 72, 'Rating': 'R', 'Tomato Score': 54}",
         "{'popcornscore': 83, 'rating': 'R', 'tomatoscore': 90}",
         "{'popcornscore': 71, 'rating': 'R', 'tomatoscore': 77}",
         "{'popcornscore': 91, 'rating': 'PG13', 'tomatoscore': 57}",
         "{'popcornscore': 87, 'rating': 'R', 'tomatoscore': 96}",
         "{'popcornscore': 84, 'rating': 'PG13', 'tomatoscore': 86}",
         "{'Genre': 'Action', 'Gross': '$491,898', 'IMDB Metascore': '49', 'Popcorn Score': 69, 'Rating': 'R', 'Tomato Score': 40}",
         "{'popcornscore': 49, 'rating': 'PG', 'tomatoscore': 71}",
         "{'Genre': 'Drama', 'Gross': 'unknown', 'IMDB Metascore': '34', 'Popcorn Score': 'unknown', 'Rating': 'unrated', 'Tomato Score': 'unkown'}",
         "{'popcornscore': 69, 'rating': 'R', 'tomatoscore': 78}",
         "{'popcornscore': 91, 'rating': 'PG', 'tomatoscore': 21}",
         "{'Genre': 'Drama', 'Gross': 'unknown', 'IMDB Metascore': '72', 'Popcorn Score': 'unknown', 'Rating': 'unrated', 'Tomato Score': 'unkown'}",
         "{'Genre': 'Adventure', 'Gross': '$548,886', 'IMDB Metascore': '65', 'Popcorn Score': 71, 'Rating': 'R', 'Tomato Score': 72}",
         "{'popcornscore': 89, 'rating': 'R', 'tomatoscore': 90}",
         "{'popcornscore': 51, 'rating': 'PG13', 'tomatoscore': 32}",
         "{'Genre': 'Action', 'Gross': '$760,867', 'IMDB Metascore': '58', 'Popcorn Score': 89, 'Rating': 'PG13', 'Tomato Score': 76}",
         "{'popcornscore': 78, 'rating': 'PG', 'tomatoscore': 84}",
         "{'Genre': 'Action', 'Gross': '$720,463', 'IMDB Metascore': '51', 'Popcorn Score': 71, 'Rating': 'PG13', 'Tomato Score': 43}",
         "{'popcornscore': 85, 'rating': 'R', 'tomatoscore': 82}",
         "{'Genre': 'Animation', 'Gross': '$184,414', 'IMDB Metascore': '88', 'Popcorn Score': 89, 'Rating': 'PG', 'Tomato Score': 100}",
         "{'popcornscore': 62, 'rating': 'NR', 'tomatoscore': 74}",
         "{'Genre': 'Comedy', 'Gross': 'unknown', 'IMDB Metascore': '53', 'Popcorn Score': 'unknown', 'Rating': 'unrated', 'Tomato Score': 'unkown'}",
         "{'Genre': 'Animation', 'Gross': 'unknown', 'IMDB Metascore': '56', 'Popcorn Score': 'unknown', 'Rating': 'unrated', 'Tomato Score': 'unkown'}",
         "{'popcornscore': 68, 'rating': 'R', 'tomatoscore': 91}",
         "{'popcornscore': 52, 'rating': 'PG13', 'tomatoscore': 31}",
         "{'popcornscore': 56, 'rating': 'R', 'tomatoscore': 26}",
         "{'Genre': 'Drama', 'Gross': 'unknown', 'IMDB Metascore': '65', 'Popcorn Score': 'unknown', 'Rating': 'unrated', 'Tomato Score': 'unkown'}",
         "{'popcornscore': 48, 'rating': 'PG13', 'tomatoscore': 91}",
         "{'Genre': 'Drama', 'Gross': 'unknown', 'IMDB Metascore': '52', 'Popcorn Score': 'unknown', 'Rating': 'unrated', 'Tomato Score': 'unkown'}",
         "{'popcornscore': 48, 'rating': 'PG13', 'tomatoscore': 58}",
         "{'popcornscore': 89, 'rating': 'R', 'tomatoscore': 91}",
         "{'Genre': 'Biography', 'Gross': '$627,248', 'IMDB Metascore': '48', 'Popcorn Score': 90, 'Rating': 'PG', 'Tomato Score': 55}",
         "{'popcornscore': 86, 'rating': 'R', 'tomatoscore': 89}",
         "{'Genre': 'Biography', 'Gross': '$463,228', 'IMDB Metascore': '83', 'Popcorn Score': 73, 'Rating': 'PG13', 'Tomato Score': 88}",
         "{'Genre': 'Adventure', 'Gross': '$448,287', 'IMDB Metascore': '86', 'Popcorn Score': 78, 'Rating': 'R', 'Tomato Score': 92}",
         "{'popcornscore': 87, 'rating': 'R', 'tomatoscore': 93}",
         "{'popcornscore': -1, 'rating': 'NR', 'tomatoscore': None}",
         "{'Genre': 'Biography', 'Gross': '$696,786', 'IMDB Metascore': '28', 'Popcorn Score': 40, 'Rating': 'PG13', 'Tomato Score': 12}"
        ]
       ],
       "shape": {
        "columns": 38,
        "rows": 1
       }
      },
      "text/html": [
       "<div>\n",
       "<style scoped>\n",
       "    .dataframe tbody tr th:only-of-type {\n",
       "        vertical-align: middle;\n",
       "    }\n",
       "\n",
       "    .dataframe tbody tr th {\n",
       "        vertical-align: top;\n",
       "    }\n",
       "\n",
       "    .dataframe thead th {\n",
       "        text-align: right;\n",
       "    }\n",
       "</style>\n",
       "<table border=\"1\" class=\"dataframe\">\n",
       "  <thead>\n",
       "    <tr style=\"text-align: right;\">\n",
       "      <th></th>\n",
       "      <th>12 Strong</th>\n",
       "      <th>A Fantastic Woman (Una Mujer Fantástica)</th>\n",
       "      <th>All The Money In The World</th>\n",
       "      <th>Bilal: A New Breed Of Hero</th>\n",
       "      <th>Call Me By Your Name</th>\n",
       "      <th>Darkest Hour</th>\n",
       "      <th>Den Of Thieves</th>\n",
       "      <th>Ferdinand</th>\n",
       "      <th>Fifty Shades Freed</th>\n",
       "      <th>Film Stars Don'T Die In Liverpool</th>\n",
       "      <th>...</th>\n",
       "      <th>The 15:17 To Paris</th>\n",
       "      <th>The Commuter</th>\n",
       "      <th>The Disaster Artist</th>\n",
       "      <th>The Greatest Showman</th>\n",
       "      <th>The Insult (L'Insulte)</th>\n",
       "      <th>The Post</th>\n",
       "      <th>The Shape Of Water</th>\n",
       "      <th>Three Billboards Outside Ebbing, Missouri</th>\n",
       "      <th>Till The End Of The World</th>\n",
       "      <th>Winchester</th>\n",
       "    </tr>\n",
       "  </thead>\n",
       "  <tbody>\n",
       "    <tr>\n",
       "      <th>0</th>\n",
       "      <td>{'Genre': 'Action', 'Gross': '$453,173', 'IMDB...</td>\n",
       "      <td>{'popcornscore': 83, 'rating': 'R', 'tomatosco...</td>\n",
       "      <td>{'popcornscore': 71, 'rating': 'R', 'tomatosco...</td>\n",
       "      <td>{'popcornscore': 91, 'rating': 'PG13', 'tomato...</td>\n",
       "      <td>{'popcornscore': 87, 'rating': 'R', 'tomatosco...</td>\n",
       "      <td>{'popcornscore': 84, 'rating': 'PG13', 'tomato...</td>\n",
       "      <td>{'Genre': 'Action', 'Gross': '$491,898', 'IMDB...</td>\n",
       "      <td>{'popcornscore': 49, 'rating': 'PG', 'tomatosc...</td>\n",
       "      <td>{'Genre': 'Drama', 'Gross': 'unknown', 'IMDB M...</td>\n",
       "      <td>{'popcornscore': 69, 'rating': 'R', 'tomatosco...</td>\n",
       "      <td>...</td>\n",
       "      <td>{'Genre': 'Drama', 'Gross': 'unknown', 'IMDB M...</td>\n",
       "      <td>{'popcornscore': 48, 'rating': 'PG13', 'tomato...</td>\n",
       "      <td>{'popcornscore': 89, 'rating': 'R', 'tomatosco...</td>\n",
       "      <td>{'Genre': 'Biography', 'Gross': '$627,248', 'I...</td>\n",
       "      <td>{'popcornscore': 86, 'rating': 'R', 'tomatosco...</td>\n",
       "      <td>{'Genre': 'Biography', 'Gross': '$463,228', 'I...</td>\n",
       "      <td>{'Genre': 'Adventure', 'Gross': '$448,287', 'I...</td>\n",
       "      <td>{'popcornscore': 87, 'rating': 'R', 'tomatosco...</td>\n",
       "      <td>{'popcornscore': -1, 'rating': 'NR', 'tomatosc...</td>\n",
       "      <td>{'Genre': 'Biography', 'Gross': '$696,786', 'I...</td>\n",
       "    </tr>\n",
       "  </tbody>\n",
       "</table>\n",
       "<p>1 rows × 38 columns</p>\n",
       "</div>"
      ],
      "text/plain": [
       "                                           12 Strong  \\\n",
       "0  {'Genre': 'Action', 'Gross': '$453,173', 'IMDB...   \n",
       "\n",
       "            A Fantastic Woman (Una Mujer Fantástica)  \\\n",
       "0  {'popcornscore': 83, 'rating': 'R', 'tomatosco...   \n",
       "\n",
       "                          All The Money In The World  \\\n",
       "0  {'popcornscore': 71, 'rating': 'R', 'tomatosco...   \n",
       "\n",
       "                          Bilal: A New Breed Of Hero  \\\n",
       "0  {'popcornscore': 91, 'rating': 'PG13', 'tomato...   \n",
       "\n",
       "                                Call Me By Your Name  \\\n",
       "0  {'popcornscore': 87, 'rating': 'R', 'tomatosco...   \n",
       "\n",
       "                                        Darkest Hour  \\\n",
       "0  {'popcornscore': 84, 'rating': 'PG13', 'tomato...   \n",
       "\n",
       "                                      Den Of Thieves  \\\n",
       "0  {'Genre': 'Action', 'Gross': '$491,898', 'IMDB...   \n",
       "\n",
       "                                           Ferdinand  \\\n",
       "0  {'popcornscore': 49, 'rating': 'PG', 'tomatosc...   \n",
       "\n",
       "                                  Fifty Shades Freed  \\\n",
       "0  {'Genre': 'Drama', 'Gross': 'unknown', 'IMDB M...   \n",
       "\n",
       "                   Film Stars Don'T Die In Liverpool  ...  \\\n",
       "0  {'popcornscore': 69, 'rating': 'R', 'tomatosco...  ...   \n",
       "\n",
       "                                  The 15:17 To Paris  \\\n",
       "0  {'Genre': 'Drama', 'Gross': 'unknown', 'IMDB M...   \n",
       "\n",
       "                                        The Commuter  \\\n",
       "0  {'popcornscore': 48, 'rating': 'PG13', 'tomato...   \n",
       "\n",
       "                                 The Disaster Artist  \\\n",
       "0  {'popcornscore': 89, 'rating': 'R', 'tomatosco...   \n",
       "\n",
       "                                The Greatest Showman  \\\n",
       "0  {'Genre': 'Biography', 'Gross': '$627,248', 'I...   \n",
       "\n",
       "                              The Insult (L'Insulte)  \\\n",
       "0  {'popcornscore': 86, 'rating': 'R', 'tomatosco...   \n",
       "\n",
       "                                            The Post  \\\n",
       "0  {'Genre': 'Biography', 'Gross': '$463,228', 'I...   \n",
       "\n",
       "                                  The Shape Of Water  \\\n",
       "0  {'Genre': 'Adventure', 'Gross': '$448,287', 'I...   \n",
       "\n",
       "           Three Billboards Outside Ebbing, Missouri  \\\n",
       "0  {'popcornscore': 87, 'rating': 'R', 'tomatosco...   \n",
       "\n",
       "                           Till The End Of The World  \\\n",
       "0  {'popcornscore': -1, 'rating': 'NR', 'tomatosc...   \n",
       "\n",
       "                                          Winchester  \n",
       "0  {'Genre': 'Biography', 'Gross': '$696,786', 'I...  \n",
       "\n",
       "[1 rows x 38 columns]"
      ]
     },
     "execution_count": 10,
     "metadata": {},
     "output_type": "execute_result"
    }
   ],
   "source": [
    "df = pd.read_json(r\"D:\\Data Analyst Bootcamp\\Pandas for Data Analytics\\data\\json_sample.json\")\n",
    "df"
   ]
  },
  {
   "cell_type": "code",
   "execution_count": 8,
   "id": "054adb82",
   "metadata": {},
   "outputs": [
    {
     "data": {
      "application/vnd.microsoft.datawrangler.viewer.v0+json": {
       "columns": [
        {
         "name": "index",
         "rawType": "int64",
         "type": "integer"
        },
        {
         "name": "Version",
         "rawType": "float64",
         "type": "float"
        },
        {
         "name": "MessageId",
         "rawType": "float64",
         "type": "float"
        },
        {
         "name": "DateRequest",
         "rawType": "object",
         "type": "unknown"
        },
        {
         "name": "TimeRequest",
         "rawType": "object",
         "type": "unknown"
        },
        {
         "name": "RequestingSite",
         "rawType": "object",
         "type": "unknown"
        },
        {
         "name": "ServicingSite",
         "rawType": "object",
         "type": "unknown"
        },
        {
         "name": "TaskDescription",
         "rawType": "object",
         "type": "unknown"
        },
        {
         "name": "CtImageFile",
         "rawType": "object",
         "type": "unknown"
        },
        {
         "name": "SeriesInstanceUid",
         "rawType": "object",
         "type": "unknown"
        },
        {
         "name": "DateService",
         "rawType": "object",
         "type": "unknown"
        },
        {
         "name": "TimeService",
         "rawType": "object",
         "type": "unknown"
        },
        {
         "name": "ResponseDescription",
         "rawType": "object",
         "type": "unknown"
        },
        {
         "name": "StudyInstanceUID",
         "rawType": "object",
         "type": "unknown"
        },
        {
         "name": "annotationVersion",
         "rawType": "float64",
         "type": "float"
        },
        {
         "name": "servicingRadiologistID",
         "rawType": "object",
         "type": "unknown"
        },
        {
         "name": "unblindedReadNodule",
         "rawType": "object",
         "type": "unknown"
        },
        {
         "name": "nonNodule",
         "rawType": "object",
         "type": "unknown"
        }
       ],
       "ref": "bfea0f67-6c73-41a0-9f29-15a3923f473e",
       "rows": [
        [
         "0",
         "1.8",
         "2980194.0",
         "2005-10-26",
         "00:00:00",
         "removed",
         "removed",
         "Second unblinded read",
         "removed",
         "1.3.6.1.4.1.14519.5.2.1.6279.6001.267957701183569638795986183786",
         "2005-10-26",
         "00:00:00",
         "1 - Reading complete",
         "1.3.6.1.4.1.14519.5.2.1.6279.6001.160881090830720390023167668360",
         null,
         null,
         null,
         null
        ],
        [
         "1",
         null,
         null,
         null,
         null,
         null,
         null,
         null,
         null,
         null,
         null,
         null,
         null,
         null,
         "3.12",
         "anon",
         "\n",
         "\n"
        ],
        [
         "2",
         null,
         null,
         null,
         null,
         null,
         null,
         null,
         null,
         null,
         null,
         null,
         null,
         null,
         "3.12",
         "anon",
         "\n      ",
         "\n      "
        ],
        [
         "3",
         null,
         null,
         null,
         null,
         null,
         null,
         null,
         null,
         null,
         null,
         null,
         null,
         null,
         "3.12",
         "anon",
         "\n",
         "\n"
        ],
        [
         "4",
         null,
         null,
         null,
         null,
         null,
         null,
         null,
         null,
         null,
         null,
         null,
         null,
         null,
         "3.12",
         "anon",
         "\n\t\t\t\t",
         "\n\t\t\t\t"
        ]
       ],
       "shape": {
        "columns": 17,
        "rows": 5
       }
      },
      "text/html": [
       "<div>\n",
       "<style scoped>\n",
       "    .dataframe tbody tr th:only-of-type {\n",
       "        vertical-align: middle;\n",
       "    }\n",
       "\n",
       "    .dataframe tbody tr th {\n",
       "        vertical-align: top;\n",
       "    }\n",
       "\n",
       "    .dataframe thead th {\n",
       "        text-align: right;\n",
       "    }\n",
       "</style>\n",
       "<table border=\"1\" class=\"dataframe\">\n",
       "  <thead>\n",
       "    <tr style=\"text-align: right;\">\n",
       "      <th></th>\n",
       "      <th>Version</th>\n",
       "      <th>MessageId</th>\n",
       "      <th>DateRequest</th>\n",
       "      <th>TimeRequest</th>\n",
       "      <th>RequestingSite</th>\n",
       "      <th>ServicingSite</th>\n",
       "      <th>TaskDescription</th>\n",
       "      <th>CtImageFile</th>\n",
       "      <th>SeriesInstanceUid</th>\n",
       "      <th>DateService</th>\n",
       "      <th>TimeService</th>\n",
       "      <th>ResponseDescription</th>\n",
       "      <th>StudyInstanceUID</th>\n",
       "      <th>annotationVersion</th>\n",
       "      <th>servicingRadiologistID</th>\n",
       "      <th>unblindedReadNodule</th>\n",
       "      <th>nonNodule</th>\n",
       "    </tr>\n",
       "  </thead>\n",
       "  <tbody>\n",
       "    <tr>\n",
       "      <th>0</th>\n",
       "      <td>1.8</td>\n",
       "      <td>2980194.0</td>\n",
       "      <td>2005-10-26</td>\n",
       "      <td>00:00:00</td>\n",
       "      <td>removed</td>\n",
       "      <td>removed</td>\n",
       "      <td>Second unblinded read</td>\n",
       "      <td>removed</td>\n",
       "      <td>1.3.6.1.4.1.14519.5.2.1.6279.6001.267957701183...</td>\n",
       "      <td>2005-10-26</td>\n",
       "      <td>00:00:00</td>\n",
       "      <td>1 - Reading complete</td>\n",
       "      <td>1.3.6.1.4.1.14519.5.2.1.6279.6001.160881090830...</td>\n",
       "      <td>NaN</td>\n",
       "      <td>None</td>\n",
       "      <td>None</td>\n",
       "      <td>None</td>\n",
       "    </tr>\n",
       "    <tr>\n",
       "      <th>1</th>\n",
       "      <td>NaN</td>\n",
       "      <td>NaN</td>\n",
       "      <td>None</td>\n",
       "      <td>None</td>\n",
       "      <td>None</td>\n",
       "      <td>None</td>\n",
       "      <td>None</td>\n",
       "      <td>None</td>\n",
       "      <td>None</td>\n",
       "      <td>None</td>\n",
       "      <td>None</td>\n",
       "      <td>None</td>\n",
       "      <td>None</td>\n",
       "      <td>3.12</td>\n",
       "      <td>anon</td>\n",
       "      <td>\\n</td>\n",
       "      <td>\\n</td>\n",
       "    </tr>\n",
       "    <tr>\n",
       "      <th>2</th>\n",
       "      <td>NaN</td>\n",
       "      <td>NaN</td>\n",
       "      <td>None</td>\n",
       "      <td>None</td>\n",
       "      <td>None</td>\n",
       "      <td>None</td>\n",
       "      <td>None</td>\n",
       "      <td>None</td>\n",
       "      <td>None</td>\n",
       "      <td>None</td>\n",
       "      <td>None</td>\n",
       "      <td>None</td>\n",
       "      <td>None</td>\n",
       "      <td>3.12</td>\n",
       "      <td>anon</td>\n",
       "      <td>\\n</td>\n",
       "      <td>\\n</td>\n",
       "    </tr>\n",
       "    <tr>\n",
       "      <th>3</th>\n",
       "      <td>NaN</td>\n",
       "      <td>NaN</td>\n",
       "      <td>None</td>\n",
       "      <td>None</td>\n",
       "      <td>None</td>\n",
       "      <td>None</td>\n",
       "      <td>None</td>\n",
       "      <td>None</td>\n",
       "      <td>None</td>\n",
       "      <td>None</td>\n",
       "      <td>None</td>\n",
       "      <td>None</td>\n",
       "      <td>None</td>\n",
       "      <td>3.12</td>\n",
       "      <td>anon</td>\n",
       "      <td>\\n</td>\n",
       "      <td>\\n</td>\n",
       "    </tr>\n",
       "    <tr>\n",
       "      <th>4</th>\n",
       "      <td>NaN</td>\n",
       "      <td>NaN</td>\n",
       "      <td>None</td>\n",
       "      <td>None</td>\n",
       "      <td>None</td>\n",
       "      <td>None</td>\n",
       "      <td>None</td>\n",
       "      <td>None</td>\n",
       "      <td>None</td>\n",
       "      <td>None</td>\n",
       "      <td>None</td>\n",
       "      <td>None</td>\n",
       "      <td>None</td>\n",
       "      <td>3.12</td>\n",
       "      <td>anon</td>\n",
       "      <td>\\n\\t\\t\\t\\t</td>\n",
       "      <td>\\n\\t\\t\\t\\t</td>\n",
       "    </tr>\n",
       "  </tbody>\n",
       "</table>\n",
       "</div>"
      ],
      "text/plain": [
       "   Version  MessageId DateRequest TimeRequest RequestingSite ServicingSite  \\\n",
       "0      1.8  2980194.0  2005-10-26    00:00:00        removed       removed   \n",
       "1      NaN        NaN        None        None           None          None   \n",
       "2      NaN        NaN        None        None           None          None   \n",
       "3      NaN        NaN        None        None           None          None   \n",
       "4      NaN        NaN        None        None           None          None   \n",
       "\n",
       "         TaskDescription CtImageFile  \\\n",
       "0  Second unblinded read     removed   \n",
       "1                   None        None   \n",
       "2                   None        None   \n",
       "3                   None        None   \n",
       "4                   None        None   \n",
       "\n",
       "                                   SeriesInstanceUid DateService TimeService  \\\n",
       "0  1.3.6.1.4.1.14519.5.2.1.6279.6001.267957701183...  2005-10-26    00:00:00   \n",
       "1                                               None        None        None   \n",
       "2                                               None        None        None   \n",
       "3                                               None        None        None   \n",
       "4                                               None        None        None   \n",
       "\n",
       "    ResponseDescription                                   StudyInstanceUID  \\\n",
       "0  1 - Reading complete  1.3.6.1.4.1.14519.5.2.1.6279.6001.160881090830...   \n",
       "1                  None                                               None   \n",
       "2                  None                                               None   \n",
       "3                  None                                               None   \n",
       "4                  None                                               None   \n",
       "\n",
       "   annotationVersion servicingRadiologistID unblindedReadNodule   nonNodule  \n",
       "0                NaN                   None                None        None  \n",
       "1               3.12                   anon                  \\n          \\n  \n",
       "2               3.12                   anon            \\n          \\n        \n",
       "3               3.12                   anon                  \\n          \\n  \n",
       "4               3.12                   anon          \\n\\t\\t\\t\\t  \\n\\t\\t\\t\\t  "
      ]
     },
     "execution_count": 8,
     "metadata": {},
     "output_type": "execute_result"
    }
   ],
   "source": [
    "df = pd.read_xml(r\"D:\\Data Analyst Bootcamp\\Pandas for Data Analytics\\data\\039.xml\")\n",
    "df"
   ]
  },
  {
   "cell_type": "code",
   "execution_count": 9,
   "id": "8d7ccf02",
   "metadata": {},
   "outputs": [
    {
     "data": {
      "application/vnd.microsoft.datawrangler.viewer.v0+json": {
       "columns": [
        {
         "name": "index",
         "rawType": "int64",
         "type": "integer"
        },
        {
         "name": "Version",
         "rawType": "float64",
         "type": "float"
        },
        {
         "name": "MessageId",
         "rawType": "float64",
         "type": "float"
        },
        {
         "name": "DateRequest",
         "rawType": "object",
         "type": "unknown"
        },
        {
         "name": "TimeRequest",
         "rawType": "object",
         "type": "unknown"
        },
        {
         "name": "RequestingSite",
         "rawType": "object",
         "type": "unknown"
        },
        {
         "name": "ServicingSite",
         "rawType": "object",
         "type": "unknown"
        },
        {
         "name": "TaskDescription",
         "rawType": "object",
         "type": "unknown"
        },
        {
         "name": "CtImageFile",
         "rawType": "object",
         "type": "unknown"
        },
        {
         "name": "SeriesInstanceUid",
         "rawType": "object",
         "type": "unknown"
        },
        {
         "name": "StudyInstanceUID",
         "rawType": "object",
         "type": "unknown"
        },
        {
         "name": "DateService",
         "rawType": "object",
         "type": "unknown"
        },
        {
         "name": "TimeService",
         "rawType": "object",
         "type": "unknown"
        },
        {
         "name": "ResponseDescription",
         "rawType": "object",
         "type": "unknown"
        },
        {
         "name": "ResponseComments",
         "rawType": "object",
         "type": "unknown"
        },
        {
         "name": "annotationVersion",
         "rawType": "float64",
         "type": "float"
        },
        {
         "name": "servicingRadiologistID",
         "rawType": "object",
         "type": "unknown"
        },
        {
         "name": "unblindedReadNodule",
         "rawType": "object",
         "type": "unknown"
        },
        {
         "name": "nonNodule",
         "rawType": "object",
         "type": "unknown"
        }
       ],
       "ref": "d7c44a5f-dab6-4cc3-99d6-fa26ccaaf010",
       "rows": [
        [
         "0",
         "1.7",
         "1152727.0",
         "2006-06-05",
         "17:08:37",
         "removed",
         "removed",
         "Second unblinded read",
         "removed",
         "1.3.6.1.4.1.14519.5.2.1.6279.6001.340202188094259402036602717327",
         "1.3.6.1.4.1.14519.5.2.1.6279.6001.584233139051825667176600857752",
         "2006-06-05",
         "17:08:37",
         "1 - Reading complete",
         "Merged, reader anonymized, unblinded responses",
         null,
         null,
         null,
         null
        ],
        [
         "1",
         null,
         null,
         null,
         null,
         null,
         null,
         null,
         null,
         null,
         null,
         null,
         null,
         null,
         null,
         "3.12",
         "anonymous",
         "\n   ",
         "\n   "
        ],
        [
         "2",
         null,
         null,
         null,
         null,
         null,
         null,
         null,
         null,
         null,
         null,
         null,
         null,
         null,
         null,
         "3.12",
         "anonymous",
         "\n   ",
         "\n   "
        ],
        [
         "3",
         null,
         null,
         null,
         null,
         null,
         null,
         null,
         null,
         null,
         null,
         null,
         null,
         null,
         null,
         "3.12",
         "anonymous",
         "\n   ",
         "\n   "
        ],
        [
         "4",
         null,
         null,
         null,
         null,
         null,
         null,
         null,
         null,
         null,
         null,
         null,
         null,
         null,
         null,
         "3.12",
         "anonymous",
         "\n   ",
         "\n   "
        ]
       ],
       "shape": {
        "columns": 18,
        "rows": 5
       }
      },
      "text/html": [
       "<div>\n",
       "<style scoped>\n",
       "    .dataframe tbody tr th:only-of-type {\n",
       "        vertical-align: middle;\n",
       "    }\n",
       "\n",
       "    .dataframe tbody tr th {\n",
       "        vertical-align: top;\n",
       "    }\n",
       "\n",
       "    .dataframe thead th {\n",
       "        text-align: right;\n",
       "    }\n",
       "</style>\n",
       "<table border=\"1\" class=\"dataframe\">\n",
       "  <thead>\n",
       "    <tr style=\"text-align: right;\">\n",
       "      <th></th>\n",
       "      <th>Version</th>\n",
       "      <th>MessageId</th>\n",
       "      <th>DateRequest</th>\n",
       "      <th>TimeRequest</th>\n",
       "      <th>RequestingSite</th>\n",
       "      <th>ServicingSite</th>\n",
       "      <th>TaskDescription</th>\n",
       "      <th>CtImageFile</th>\n",
       "      <th>SeriesInstanceUid</th>\n",
       "      <th>StudyInstanceUID</th>\n",
       "      <th>DateService</th>\n",
       "      <th>TimeService</th>\n",
       "      <th>ResponseDescription</th>\n",
       "      <th>ResponseComments</th>\n",
       "      <th>annotationVersion</th>\n",
       "      <th>servicingRadiologistID</th>\n",
       "      <th>unblindedReadNodule</th>\n",
       "      <th>nonNodule</th>\n",
       "    </tr>\n",
       "  </thead>\n",
       "  <tbody>\n",
       "    <tr>\n",
       "      <th>0</th>\n",
       "      <td>1.7</td>\n",
       "      <td>1152727.0</td>\n",
       "      <td>2006-06-05</td>\n",
       "      <td>17:08:37</td>\n",
       "      <td>removed</td>\n",
       "      <td>removed</td>\n",
       "      <td>Second unblinded read</td>\n",
       "      <td>removed</td>\n",
       "      <td>1.3.6.1.4.1.14519.5.2.1.6279.6001.340202188094...</td>\n",
       "      <td>1.3.6.1.4.1.14519.5.2.1.6279.6001.584233139051...</td>\n",
       "      <td>2006-06-05</td>\n",
       "      <td>17:08:37</td>\n",
       "      <td>1 - Reading complete</td>\n",
       "      <td>Merged, reader anonymized, unblinded responses</td>\n",
       "      <td>NaN</td>\n",
       "      <td>None</td>\n",
       "      <td>None</td>\n",
       "      <td>None</td>\n",
       "    </tr>\n",
       "    <tr>\n",
       "      <th>1</th>\n",
       "      <td>NaN</td>\n",
       "      <td>NaN</td>\n",
       "      <td>None</td>\n",
       "      <td>None</td>\n",
       "      <td>None</td>\n",
       "      <td>None</td>\n",
       "      <td>None</td>\n",
       "      <td>None</td>\n",
       "      <td>None</td>\n",
       "      <td>None</td>\n",
       "      <td>None</td>\n",
       "      <td>None</td>\n",
       "      <td>None</td>\n",
       "      <td>None</td>\n",
       "      <td>3.12</td>\n",
       "      <td>anonymous</td>\n",
       "      <td>\\n</td>\n",
       "      <td>\\n</td>\n",
       "    </tr>\n",
       "    <tr>\n",
       "      <th>2</th>\n",
       "      <td>NaN</td>\n",
       "      <td>NaN</td>\n",
       "      <td>None</td>\n",
       "      <td>None</td>\n",
       "      <td>None</td>\n",
       "      <td>None</td>\n",
       "      <td>None</td>\n",
       "      <td>None</td>\n",
       "      <td>None</td>\n",
       "      <td>None</td>\n",
       "      <td>None</td>\n",
       "      <td>None</td>\n",
       "      <td>None</td>\n",
       "      <td>None</td>\n",
       "      <td>3.12</td>\n",
       "      <td>anonymous</td>\n",
       "      <td>\\n</td>\n",
       "      <td>\\n</td>\n",
       "    </tr>\n",
       "    <tr>\n",
       "      <th>3</th>\n",
       "      <td>NaN</td>\n",
       "      <td>NaN</td>\n",
       "      <td>None</td>\n",
       "      <td>None</td>\n",
       "      <td>None</td>\n",
       "      <td>None</td>\n",
       "      <td>None</td>\n",
       "      <td>None</td>\n",
       "      <td>None</td>\n",
       "      <td>None</td>\n",
       "      <td>None</td>\n",
       "      <td>None</td>\n",
       "      <td>None</td>\n",
       "      <td>None</td>\n",
       "      <td>3.12</td>\n",
       "      <td>anonymous</td>\n",
       "      <td>\\n</td>\n",
       "      <td>\\n</td>\n",
       "    </tr>\n",
       "    <tr>\n",
       "      <th>4</th>\n",
       "      <td>NaN</td>\n",
       "      <td>NaN</td>\n",
       "      <td>None</td>\n",
       "      <td>None</td>\n",
       "      <td>None</td>\n",
       "      <td>None</td>\n",
       "      <td>None</td>\n",
       "      <td>None</td>\n",
       "      <td>None</td>\n",
       "      <td>None</td>\n",
       "      <td>None</td>\n",
       "      <td>None</td>\n",
       "      <td>None</td>\n",
       "      <td>None</td>\n",
       "      <td>3.12</td>\n",
       "      <td>anonymous</td>\n",
       "      <td>\\n</td>\n",
       "      <td>\\n</td>\n",
       "    </tr>\n",
       "  </tbody>\n",
       "</table>\n",
       "</div>"
      ],
      "text/plain": [
       "   Version  MessageId DateRequest TimeRequest RequestingSite ServicingSite  \\\n",
       "0      1.7  1152727.0  2006-06-05    17:08:37        removed       removed   \n",
       "1      NaN        NaN        None        None           None          None   \n",
       "2      NaN        NaN        None        None           None          None   \n",
       "3      NaN        NaN        None        None           None          None   \n",
       "4      NaN        NaN        None        None           None          None   \n",
       "\n",
       "         TaskDescription CtImageFile  \\\n",
       "0  Second unblinded read     removed   \n",
       "1                   None        None   \n",
       "2                   None        None   \n",
       "3                   None        None   \n",
       "4                   None        None   \n",
       "\n",
       "                                   SeriesInstanceUid  \\\n",
       "0  1.3.6.1.4.1.14519.5.2.1.6279.6001.340202188094...   \n",
       "1                                               None   \n",
       "2                                               None   \n",
       "3                                               None   \n",
       "4                                               None   \n",
       "\n",
       "                                    StudyInstanceUID DateService TimeService  \\\n",
       "0  1.3.6.1.4.1.14519.5.2.1.6279.6001.584233139051...  2006-06-05    17:08:37   \n",
       "1                                               None        None        None   \n",
       "2                                               None        None        None   \n",
       "3                                               None        None        None   \n",
       "4                                               None        None        None   \n",
       "\n",
       "    ResponseDescription                                ResponseComments  \\\n",
       "0  1 - Reading complete  Merged, reader anonymized, unblinded responses   \n",
       "1                  None                                            None   \n",
       "2                  None                                            None   \n",
       "3                  None                                            None   \n",
       "4                  None                                            None   \n",
       "\n",
       "   annotationVersion servicingRadiologistID unblindedReadNodule nonNodule  \n",
       "0                NaN                   None                None      None  \n",
       "1               3.12              anonymous               \\n        \\n     \n",
       "2               3.12              anonymous               \\n        \\n     \n",
       "3               3.12              anonymous               \\n        \\n     \n",
       "4               3.12              anonymous               \\n        \\n     "
      ]
     },
     "execution_count": 9,
     "metadata": {},
     "output_type": "execute_result"
    }
   ],
   "source": [
    "df = pd.read_xml(r\"D:\\Data Analyst Bootcamp\\Pandas for Data Analytics\\data\\161-resubmitted-correction-3-9-12.xml\")\n",
    "df"
   ]
  },
  {
   "cell_type": "code",
   "execution_count": null,
   "id": "44e3048e",
   "metadata": {},
   "outputs": [],
   "source": []
  }
 ],
 "metadata": {
  "kernelspec": {
   "display_name": "anaconda-ml-ai",
   "language": "python",
   "name": "python3"
  },
  "language_info": {
   "codemirror_mode": {
    "name": "ipython",
    "version": 3
   },
   "file_extension": ".py",
   "mimetype": "text/x-python",
   "name": "python",
   "nbconvert_exporter": "python",
   "pygments_lexer": "ipython3",
   "version": "3.11.11"
  }
 },
 "nbformat": 4,
 "nbformat_minor": 5
}
