{
 "cells": [
  {
   "cell_type": "markdown",
   "id": "1b622ee4",
   "metadata": {},
   "source": [
    "# Reading files using pandas"
   ]
  },
  {
   "cell_type": "code",
   "execution_count": 7,
   "id": "41912209",
   "metadata": {},
   "outputs": [],
   "source": [
    "import pandas as pd"
   ]
  },
  {
   "cell_type": "code",
   "execution_count": 8,
   "id": "d1da4068",
   "metadata": {},
   "outputs": [],
   "source": [
    "df = pd.read_csv(r\"D:\\Data Analyst Bootcamp\\Pandas for Data Analytics\\data\\countries of the world.csv\")"
   ]
  },
  {
   "cell_type": "code",
   "execution_count": 9,
   "id": "cef4fabd",
   "metadata": {},
   "outputs": [
    {
     "data": {
      "application/vnd.microsoft.datawrangler.viewer.v0+json": {
       "columns": [
        {
         "name": "index",
         "rawType": "int64",
         "type": "integer"
        },
        {
         "name": "Country",
         "rawType": "object",
         "type": "string"
        },
        {
         "name": "Region",
         "rawType": "object",
         "type": "string"
        }
       ],
       "ref": "e965e3a8-c9e3-477c-baf3-30fa50c82c15",
       "rows": [
        [
         "0",
         "Afghanistan ",
         "ASIA (EX. NEAR EAST)         "
        ],
        [
         "1",
         "Albania ",
         "EASTERN EUROPE                     "
        ],
        [
         "2",
         "Algeria ",
         "NORTHERN AFRICA                    "
        ],
        [
         "3",
         "American Samoa ",
         "OCEANIA                            "
        ],
        [
         "4",
         "Andorra ",
         "WESTERN EUROPE                     "
        ],
        [
         "5",
         "Angola ",
         "SUB-SAHARAN AFRICA                 "
        ],
        [
         "6",
         "Anguilla ",
         "LATIN AMER. & CARIB    "
        ],
        [
         "7",
         "Antigua & Barbuda ",
         "LATIN AMER. & CARIB    "
        ],
        [
         "8",
         "Argentina ",
         "LATIN AMER. & CARIB    "
        ],
        [
         "9",
         "Armenia ",
         "C.W. OF IND. STATES "
        ],
        [
         "10",
         "Aruba ",
         "LATIN AMER. & CARIB    "
        ],
        [
         "11",
         "Australia ",
         "OCEANIA                            "
        ],
        [
         "12",
         "Austria ",
         "WESTERN EUROPE                     "
        ],
        [
         "13",
         "Azerbaijan ",
         "C.W. OF IND. STATES "
        ],
        [
         "14",
         "Bahamas, The ",
         "LATIN AMER. & CARIB    "
        ],
        [
         "15",
         "Bahrain ",
         "NEAR EAST                          "
        ],
        [
         "16",
         "Bangladesh ",
         "ASIA (EX. NEAR EAST)         "
        ],
        [
         "17",
         "Barbados ",
         "LATIN AMER. & CARIB    "
        ],
        [
         "18",
         "Belarus ",
         "C.W. OF IND. STATES "
        ],
        [
         "19",
         "Belgium ",
         "WESTERN EUROPE                     "
        ],
        [
         "20",
         "Belize ",
         "LATIN AMER. & CARIB    "
        ],
        [
         "21",
         "Benin ",
         "SUB-SAHARAN AFRICA                 "
        ],
        [
         "22",
         "Bermuda ",
         "NORTHERN AMERICA                   "
        ],
        [
         "23",
         "Bhutan ",
         "ASIA (EX. NEAR EAST)         "
        ],
        [
         "24",
         "Bolivia ",
         "LATIN AMER. & CARIB    "
        ],
        [
         "25",
         "Bosnia & Herzegovina ",
         "EASTERN EUROPE                     "
        ],
        [
         "26",
         "Botswana ",
         "SUB-SAHARAN AFRICA                 "
        ],
        [
         "27",
         "Brazil ",
         "LATIN AMER. & CARIB    "
        ],
        [
         "28",
         "British Virgin Is. ",
         "LATIN AMER. & CARIB    "
        ],
        [
         "29",
         "Brunei ",
         "ASIA (EX. NEAR EAST)         "
        ],
        [
         "30",
         "Bulgaria ",
         "EASTERN EUROPE                     "
        ],
        [
         "31",
         "Burkina Faso ",
         "SUB-SAHARAN AFRICA                 "
        ],
        [
         "32",
         "Burma ",
         "ASIA (EX. NEAR EAST)         "
        ],
        [
         "33",
         "Burundi ",
         "SUB-SAHARAN AFRICA                 "
        ],
        [
         "34",
         "Cambodia ",
         "ASIA (EX. NEAR EAST)         "
        ],
        [
         "35",
         "Cameroon ",
         "SUB-SAHARAN AFRICA                 "
        ],
        [
         "36",
         "Canada ",
         "NORTHERN AMERICA                   "
        ],
        [
         "37",
         "Cape Verde ",
         "SUB-SAHARAN AFRICA                 "
        ],
        [
         "38",
         "Cayman Islands ",
         "LATIN AMER. & CARIB    "
        ],
        [
         "39",
         "Central African Rep. ",
         "SUB-SAHARAN AFRICA                 "
        ],
        [
         "40",
         "Chad ",
         "SUB-SAHARAN AFRICA                 "
        ],
        [
         "41",
         "Chile ",
         "LATIN AMER. & CARIB    "
        ],
        [
         "42",
         "China ",
         "ASIA (EX. NEAR EAST)         "
        ],
        [
         "43",
         "Colombia ",
         "LATIN AMER. & CARIB    "
        ],
        [
         "44",
         "Comoros ",
         "SUB-SAHARAN AFRICA                 "
        ],
        [
         "45",
         "Congo, Dem. Rep. ",
         "SUB-SAHARAN AFRICA                 "
        ],
        [
         "46",
         "Congo, Repub. of the ",
         "SUB-SAHARAN AFRICA                 "
        ],
        [
         "47",
         "Cook Islands ",
         "OCEANIA                            "
        ],
        [
         "48",
         "Costa Rica ",
         "LATIN AMER. & CARIB    "
        ],
        [
         "49",
         "Cote d'Ivoire ",
         "SUB-SAHARAN AFRICA                 "
        ]
       ],
       "shape": {
        "columns": 2,
        "rows": 227
       }
      },
      "text/html": [
       "<div>\n",
       "<style scoped>\n",
       "    .dataframe tbody tr th:only-of-type {\n",
       "        vertical-align: middle;\n",
       "    }\n",
       "\n",
       "    .dataframe tbody tr th {\n",
       "        vertical-align: top;\n",
       "    }\n",
       "\n",
       "    .dataframe thead th {\n",
       "        text-align: right;\n",
       "    }\n",
       "</style>\n",
       "<table border=\"1\" class=\"dataframe\">\n",
       "  <thead>\n",
       "    <tr style=\"text-align: right;\">\n",
       "      <th></th>\n",
       "      <th>Country</th>\n",
       "      <th>Region</th>\n",
       "    </tr>\n",
       "  </thead>\n",
       "  <tbody>\n",
       "    <tr>\n",
       "      <th>0</th>\n",
       "      <td>Afghanistan</td>\n",
       "      <td>ASIA (EX. NEAR EAST)</td>\n",
       "    </tr>\n",
       "    <tr>\n",
       "      <th>1</th>\n",
       "      <td>Albania</td>\n",
       "      <td>EASTERN EUROPE</td>\n",
       "    </tr>\n",
       "    <tr>\n",
       "      <th>2</th>\n",
       "      <td>Algeria</td>\n",
       "      <td>NORTHERN AFRICA</td>\n",
       "    </tr>\n",
       "    <tr>\n",
       "      <th>3</th>\n",
       "      <td>American Samoa</td>\n",
       "      <td>OCEANIA</td>\n",
       "    </tr>\n",
       "    <tr>\n",
       "      <th>4</th>\n",
       "      <td>Andorra</td>\n",
       "      <td>WESTERN EUROPE</td>\n",
       "    </tr>\n",
       "    <tr>\n",
       "      <th>...</th>\n",
       "      <td>...</td>\n",
       "      <td>...</td>\n",
       "    </tr>\n",
       "    <tr>\n",
       "      <th>222</th>\n",
       "      <td>West Bank</td>\n",
       "      <td>NEAR EAST</td>\n",
       "    </tr>\n",
       "    <tr>\n",
       "      <th>223</th>\n",
       "      <td>Western Sahara</td>\n",
       "      <td>NORTHERN AFRICA</td>\n",
       "    </tr>\n",
       "    <tr>\n",
       "      <th>224</th>\n",
       "      <td>Yemen</td>\n",
       "      <td>NEAR EAST</td>\n",
       "    </tr>\n",
       "    <tr>\n",
       "      <th>225</th>\n",
       "      <td>Zambia</td>\n",
       "      <td>SUB-SAHARAN AFRICA</td>\n",
       "    </tr>\n",
       "    <tr>\n",
       "      <th>226</th>\n",
       "      <td>Zimbabwe</td>\n",
       "      <td>SUB-SAHARAN AFRICA</td>\n",
       "    </tr>\n",
       "  </tbody>\n",
       "</table>\n",
       "<p>227 rows × 2 columns</p>\n",
       "</div>"
      ],
      "text/plain": [
       "             Country                               Region\n",
       "0       Afghanistan         ASIA (EX. NEAR EAST)         \n",
       "1           Albania   EASTERN EUROPE                     \n",
       "2           Algeria   NORTHERN AFRICA                    \n",
       "3    American Samoa   OCEANIA                            \n",
       "4           Andorra   WESTERN EUROPE                     \n",
       "..               ...                                  ...\n",
       "222       West Bank   NEAR EAST                          \n",
       "223  Western Sahara   NORTHERN AFRICA                    \n",
       "224           Yemen   NEAR EAST                          \n",
       "225          Zambia   SUB-SAHARAN AFRICA                 \n",
       "226        Zimbabwe   SUB-SAHARAN AFRICA                 \n",
       "\n",
       "[227 rows x 2 columns]"
      ]
     },
     "execution_count": 9,
     "metadata": {},
     "output_type": "execute_result"
    }
   ],
   "source": [
    "df"
   ]
  },
  {
   "cell_type": "code",
   "execution_count": 10,
   "id": "b92c5a0f",
   "metadata": {},
   "outputs": [
    {
     "data": {
      "application/vnd.microsoft.datawrangler.viewer.v0+json": {
       "columns": [
        {
         "name": "index",
         "rawType": "int64",
         "type": "integer"
        },
        {
         "name": "Country",
         "rawType": "object",
         "type": "string"
        },
        {
         "name": "Region",
         "rawType": "object",
         "type": "string"
        }
       ],
       "ref": "26b84546-3b79-445f-af79-9984e941af8c",
       "rows": [
        [
         "0",
         "Afghanistan ",
         "ASIA (EX. NEAR EAST)         "
        ],
        [
         "1",
         "Albania ",
         "EASTERN EUROPE                     "
        ],
        [
         "2",
         "Algeria ",
         "NORTHERN AFRICA                    "
        ],
        [
         "3",
         "American Samoa ",
         "OCEANIA                            "
        ],
        [
         "4",
         "Andorra ",
         "WESTERN EUROPE                     "
        ],
        [
         "5",
         "Angola ",
         "SUB-SAHARAN AFRICA                 "
        ],
        [
         "6",
         "Anguilla ",
         "LATIN AMER. & CARIB    "
        ],
        [
         "7",
         "Antigua & Barbuda ",
         "LATIN AMER. & CARIB    "
        ],
        [
         "8",
         "Argentina ",
         "LATIN AMER. & CARIB    "
        ],
        [
         "9",
         "Armenia ",
         "C.W. OF IND. STATES "
        ],
        [
         "10",
         "Aruba ",
         "LATIN AMER. & CARIB    "
        ],
        [
         "11",
         "Australia ",
         "OCEANIA                            "
        ],
        [
         "12",
         "Austria ",
         "WESTERN EUROPE                     "
        ],
        [
         "13",
         "Azerbaijan ",
         "C.W. OF IND. STATES "
        ],
        [
         "14",
         "Bahamas, The ",
         "LATIN AMER. & CARIB    "
        ],
        [
         "15",
         "Bahrain ",
         "NEAR EAST                          "
        ],
        [
         "16",
         "Bangladesh ",
         "ASIA (EX. NEAR EAST)         "
        ],
        [
         "17",
         "Barbados ",
         "LATIN AMER. & CARIB    "
        ],
        [
         "18",
         "Belarus ",
         "C.W. OF IND. STATES "
        ],
        [
         "19",
         "Belgium ",
         "WESTERN EUROPE                     "
        ],
        [
         "20",
         "Belize ",
         "LATIN AMER. & CARIB    "
        ],
        [
         "21",
         "Benin ",
         "SUB-SAHARAN AFRICA                 "
        ],
        [
         "22",
         "Bermuda ",
         "NORTHERN AMERICA                   "
        ],
        [
         "23",
         "Bhutan ",
         "ASIA (EX. NEAR EAST)         "
        ],
        [
         "24",
         "Bolivia ",
         "LATIN AMER. & CARIB    "
        ],
        [
         "25",
         "Bosnia & Herzegovina ",
         "EASTERN EUROPE                     "
        ],
        [
         "26",
         "Botswana ",
         "SUB-SAHARAN AFRICA                 "
        ],
        [
         "27",
         "Brazil ",
         "LATIN AMER. & CARIB    "
        ],
        [
         "28",
         "British Virgin Is. ",
         "LATIN AMER. & CARIB    "
        ],
        [
         "29",
         "Brunei ",
         "ASIA (EX. NEAR EAST)         "
        ],
        [
         "30",
         "Bulgaria ",
         "EASTERN EUROPE                     "
        ],
        [
         "31",
         "Burkina Faso ",
         "SUB-SAHARAN AFRICA                 "
        ],
        [
         "32",
         "Burma ",
         "ASIA (EX. NEAR EAST)         "
        ],
        [
         "33",
         "Burundi ",
         "SUB-SAHARAN AFRICA                 "
        ],
        [
         "34",
         "Cambodia ",
         "ASIA (EX. NEAR EAST)         "
        ],
        [
         "35",
         "Cameroon ",
         "SUB-SAHARAN AFRICA                 "
        ],
        [
         "36",
         "Canada ",
         "NORTHERN AMERICA                   "
        ],
        [
         "37",
         "Cape Verde ",
         "SUB-SAHARAN AFRICA                 "
        ],
        [
         "38",
         "Cayman Islands ",
         "LATIN AMER. & CARIB    "
        ],
        [
         "39",
         "Central African Rep. ",
         "SUB-SAHARAN AFRICA                 "
        ],
        [
         "40",
         "Chad ",
         "SUB-SAHARAN AFRICA                 "
        ],
        [
         "41",
         "Chile ",
         "LATIN AMER. & CARIB    "
        ],
        [
         "42",
         "China ",
         "ASIA (EX. NEAR EAST)         "
        ],
        [
         "43",
         "Colombia ",
         "LATIN AMER. & CARIB    "
        ],
        [
         "44",
         "Comoros ",
         "SUB-SAHARAN AFRICA                 "
        ],
        [
         "45",
         "Congo, Dem. Rep. ",
         "SUB-SAHARAN AFRICA                 "
        ],
        [
         "46",
         "Congo, Repub. of the ",
         "SUB-SAHARAN AFRICA                 "
        ],
        [
         "47",
         "Cook Islands ",
         "OCEANIA                            "
        ],
        [
         "48",
         "Costa Rica ",
         "LATIN AMER. & CARIB    "
        ],
        [
         "49",
         "Cote d'Ivoire ",
         "SUB-SAHARAN AFRICA                 "
        ]
       ],
       "shape": {
        "columns": 2,
        "rows": 227
       }
      },
      "text/html": [
       "<div>\n",
       "<style scoped>\n",
       "    .dataframe tbody tr th:only-of-type {\n",
       "        vertical-align: middle;\n",
       "    }\n",
       "\n",
       "    .dataframe tbody tr th {\n",
       "        vertical-align: top;\n",
       "    }\n",
       "\n",
       "    .dataframe thead th {\n",
       "        text-align: right;\n",
       "    }\n",
       "</style>\n",
       "<table border=\"1\" class=\"dataframe\">\n",
       "  <thead>\n",
       "    <tr style=\"text-align: right;\">\n",
       "      <th></th>\n",
       "      <th>Country</th>\n",
       "      <th>Region</th>\n",
       "    </tr>\n",
       "  </thead>\n",
       "  <tbody>\n",
       "    <tr>\n",
       "      <th>0</th>\n",
       "      <td>Afghanistan</td>\n",
       "      <td>ASIA (EX. NEAR EAST)</td>\n",
       "    </tr>\n",
       "    <tr>\n",
       "      <th>1</th>\n",
       "      <td>Albania</td>\n",
       "      <td>EASTERN EUROPE</td>\n",
       "    </tr>\n",
       "    <tr>\n",
       "      <th>2</th>\n",
       "      <td>Algeria</td>\n",
       "      <td>NORTHERN AFRICA</td>\n",
       "    </tr>\n",
       "    <tr>\n",
       "      <th>3</th>\n",
       "      <td>American Samoa</td>\n",
       "      <td>OCEANIA</td>\n",
       "    </tr>\n",
       "    <tr>\n",
       "      <th>4</th>\n",
       "      <td>Andorra</td>\n",
       "      <td>WESTERN EUROPE</td>\n",
       "    </tr>\n",
       "    <tr>\n",
       "      <th>...</th>\n",
       "      <td>...</td>\n",
       "      <td>...</td>\n",
       "    </tr>\n",
       "    <tr>\n",
       "      <th>222</th>\n",
       "      <td>West Bank</td>\n",
       "      <td>NEAR EAST</td>\n",
       "    </tr>\n",
       "    <tr>\n",
       "      <th>223</th>\n",
       "      <td>Western Sahara</td>\n",
       "      <td>NORTHERN AFRICA</td>\n",
       "    </tr>\n",
       "    <tr>\n",
       "      <th>224</th>\n",
       "      <td>Yemen</td>\n",
       "      <td>NEAR EAST</td>\n",
       "    </tr>\n",
       "    <tr>\n",
       "      <th>225</th>\n",
       "      <td>Zambia</td>\n",
       "      <td>SUB-SAHARAN AFRICA</td>\n",
       "    </tr>\n",
       "    <tr>\n",
       "      <th>226</th>\n",
       "      <td>Zimbabwe</td>\n",
       "      <td>SUB-SAHARAN AFRICA</td>\n",
       "    </tr>\n",
       "  </tbody>\n",
       "</table>\n",
       "<p>227 rows × 2 columns</p>\n",
       "</div>"
      ],
      "text/plain": [
       "             Country                               Region\n",
       "0       Afghanistan         ASIA (EX. NEAR EAST)         \n",
       "1           Albania   EASTERN EUROPE                     \n",
       "2           Algeria   NORTHERN AFRICA                    \n",
       "3    American Samoa   OCEANIA                            \n",
       "4           Andorra   WESTERN EUROPE                     \n",
       "..               ...                                  ...\n",
       "222       West Bank   NEAR EAST                          \n",
       "223  Western Sahara   NORTHERN AFRICA                    \n",
       "224           Yemen   NEAR EAST                          \n",
       "225          Zambia   SUB-SAHARAN AFRICA                 \n",
       "226        Zimbabwe   SUB-SAHARAN AFRICA                 \n",
       "\n",
       "[227 rows x 2 columns]"
      ]
     },
     "execution_count": 10,
     "metadata": {},
     "output_type": "execute_result"
    }
   ],
   "source": [
    "df = pd.read_table(r\"D:\\Data Analyst Bootcamp\\Pandas for Data Analytics\\data\\countries of the world.txt\", sep=(\"\\t\"))\n",
    "df"
   ]
  },
  {
   "cell_type": "code",
   "execution_count": 11,
   "id": "b2ef4c81",
   "metadata": {},
   "outputs": [
    {
     "data": {
      "application/vnd.microsoft.datawrangler.viewer.v0+json": {
       "columns": [
        {
         "name": "index",
         "rawType": "int64",
         "type": "integer"
        },
        {
         "name": "Country",
         "rawType": "object",
         "type": "string"
        },
        {
         "name": "Region",
         "rawType": "object",
         "type": "string"
        }
       ],
       "ref": "df6c95b2-eac6-46f3-aa46-0ca71e278b4f",
       "rows": [
        [
         "0",
         "Afghanistan ",
         "ASIA (EX. NEAR EAST)         "
        ],
        [
         "1",
         "Albania ",
         "EASTERN EUROPE                     "
        ],
        [
         "2",
         "Algeria ",
         "NORTHERN AFRICA                    "
        ],
        [
         "3",
         "American Samoa ",
         "OCEANIA                            "
        ],
        [
         "4",
         "Andorra ",
         "WESTERN EUROPE                     "
        ],
        [
         "5",
         "Angola ",
         "SUB-SAHARAN AFRICA                 "
        ],
        [
         "6",
         "Anguilla ",
         "LATIN AMER. & CARIB    "
        ],
        [
         "7",
         "Antigua & Barbuda ",
         "LATIN AMER. & CARIB    "
        ],
        [
         "8",
         "Argentina ",
         "LATIN AMER. & CARIB    "
        ],
        [
         "9",
         "Armenia ",
         "C.W. OF IND. STATES "
        ],
        [
         "10",
         "Aruba ",
         "LATIN AMER. & CARIB    "
        ],
        [
         "11",
         "Australia ",
         "OCEANIA                            "
        ],
        [
         "12",
         "Austria ",
         "WESTERN EUROPE                     "
        ],
        [
         "13",
         "Azerbaijan ",
         "C.W. OF IND. STATES "
        ],
        [
         "14",
         "Bahamas, The ",
         "LATIN AMER. & CARIB    "
        ],
        [
         "15",
         "Bahrain ",
         "NEAR EAST                          "
        ],
        [
         "16",
         "Bangladesh ",
         "ASIA (EX. NEAR EAST)         "
        ],
        [
         "17",
         "Barbados ",
         "LATIN AMER. & CARIB    "
        ],
        [
         "18",
         "Belarus ",
         "C.W. OF IND. STATES "
        ],
        [
         "19",
         "Belgium ",
         "WESTERN EUROPE                     "
        ],
        [
         "20",
         "Belize ",
         "LATIN AMER. & CARIB    "
        ],
        [
         "21",
         "Benin ",
         "SUB-SAHARAN AFRICA                 "
        ],
        [
         "22",
         "Bermuda ",
         "NORTHERN AMERICA                   "
        ],
        [
         "23",
         "Bhutan ",
         "ASIA (EX. NEAR EAST)         "
        ],
        [
         "24",
         "Bolivia ",
         "LATIN AMER. & CARIB    "
        ],
        [
         "25",
         "Bosnia & Herzegovina ",
         "EASTERN EUROPE                     "
        ],
        [
         "26",
         "Botswana ",
         "SUB-SAHARAN AFRICA                 "
        ],
        [
         "27",
         "Brazil ",
         "LATIN AMER. & CARIB    "
        ],
        [
         "28",
         "British Virgin Is. ",
         "LATIN AMER. & CARIB    "
        ],
        [
         "29",
         "Brunei ",
         "ASIA (EX. NEAR EAST)         "
        ],
        [
         "30",
         "Bulgaria ",
         "EASTERN EUROPE                     "
        ],
        [
         "31",
         "Burkina Faso ",
         "SUB-SAHARAN AFRICA                 "
        ],
        [
         "32",
         "Burma ",
         "ASIA (EX. NEAR EAST)         "
        ],
        [
         "33",
         "Burundi ",
         "SUB-SAHARAN AFRICA                 "
        ],
        [
         "34",
         "Cambodia ",
         "ASIA (EX. NEAR EAST)         "
        ],
        [
         "35",
         "Cameroon ",
         "SUB-SAHARAN AFRICA                 "
        ],
        [
         "36",
         "Canada ",
         "NORTHERN AMERICA                   "
        ],
        [
         "37",
         "Cape Verde ",
         "SUB-SAHARAN AFRICA                 "
        ],
        [
         "38",
         "Cayman Islands ",
         "LATIN AMER. & CARIB    "
        ],
        [
         "39",
         "Central African Rep. ",
         "SUB-SAHARAN AFRICA                 "
        ],
        [
         "40",
         "Chad ",
         "SUB-SAHARAN AFRICA                 "
        ],
        [
         "41",
         "Chile ",
         "LATIN AMER. & CARIB    "
        ],
        [
         "42",
         "China ",
         "ASIA (EX. NEAR EAST)         "
        ],
        [
         "43",
         "Colombia ",
         "LATIN AMER. & CARIB    "
        ],
        [
         "44",
         "Comoros ",
         "SUB-SAHARAN AFRICA                 "
        ],
        [
         "45",
         "Congo, Dem. Rep. ",
         "SUB-SAHARAN AFRICA                 "
        ],
        [
         "46",
         "Congo, Repub. of the ",
         "SUB-SAHARAN AFRICA                 "
        ],
        [
         "47",
         "Cook Islands ",
         "OCEANIA                            "
        ],
        [
         "48",
         "Costa Rica ",
         "LATIN AMER. & CARIB    "
        ],
        [
         "49",
         "Cote d'Ivoire ",
         "SUB-SAHARAN AFRICA                 "
        ]
       ],
       "shape": {
        "columns": 2,
        "rows": 227
       }
      },
      "text/html": [
       "<div>\n",
       "<style scoped>\n",
       "    .dataframe tbody tr th:only-of-type {\n",
       "        vertical-align: middle;\n",
       "    }\n",
       "\n",
       "    .dataframe tbody tr th {\n",
       "        vertical-align: top;\n",
       "    }\n",
       "\n",
       "    .dataframe thead th {\n",
       "        text-align: right;\n",
       "    }\n",
       "</style>\n",
       "<table border=\"1\" class=\"dataframe\">\n",
       "  <thead>\n",
       "    <tr style=\"text-align: right;\">\n",
       "      <th></th>\n",
       "      <th>Country</th>\n",
       "      <th>Region</th>\n",
       "    </tr>\n",
       "  </thead>\n",
       "  <tbody>\n",
       "    <tr>\n",
       "      <th>0</th>\n",
       "      <td>Afghanistan</td>\n",
       "      <td>ASIA (EX. NEAR EAST)</td>\n",
       "    </tr>\n",
       "    <tr>\n",
       "      <th>1</th>\n",
       "      <td>Albania</td>\n",
       "      <td>EASTERN EUROPE</td>\n",
       "    </tr>\n",
       "    <tr>\n",
       "      <th>2</th>\n",
       "      <td>Algeria</td>\n",
       "      <td>NORTHERN AFRICA</td>\n",
       "    </tr>\n",
       "    <tr>\n",
       "      <th>3</th>\n",
       "      <td>American Samoa</td>\n",
       "      <td>OCEANIA</td>\n",
       "    </tr>\n",
       "    <tr>\n",
       "      <th>4</th>\n",
       "      <td>Andorra</td>\n",
       "      <td>WESTERN EUROPE</td>\n",
       "    </tr>\n",
       "    <tr>\n",
       "      <th>...</th>\n",
       "      <td>...</td>\n",
       "      <td>...</td>\n",
       "    </tr>\n",
       "    <tr>\n",
       "      <th>222</th>\n",
       "      <td>West Bank</td>\n",
       "      <td>NEAR EAST</td>\n",
       "    </tr>\n",
       "    <tr>\n",
       "      <th>223</th>\n",
       "      <td>Western Sahara</td>\n",
       "      <td>NORTHERN AFRICA</td>\n",
       "    </tr>\n",
       "    <tr>\n",
       "      <th>224</th>\n",
       "      <td>Yemen</td>\n",
       "      <td>NEAR EAST</td>\n",
       "    </tr>\n",
       "    <tr>\n",
       "      <th>225</th>\n",
       "      <td>Zambia</td>\n",
       "      <td>SUB-SAHARAN AFRICA</td>\n",
       "    </tr>\n",
       "    <tr>\n",
       "      <th>226</th>\n",
       "      <td>Zimbabwe</td>\n",
       "      <td>SUB-SAHARAN AFRICA</td>\n",
       "    </tr>\n",
       "  </tbody>\n",
       "</table>\n",
       "<p>227 rows × 2 columns</p>\n",
       "</div>"
      ],
      "text/plain": [
       "             Country                               Region\n",
       "0       Afghanistan         ASIA (EX. NEAR EAST)         \n",
       "1           Albania   EASTERN EUROPE                     \n",
       "2           Algeria   NORTHERN AFRICA                    \n",
       "3    American Samoa   OCEANIA                            \n",
       "4           Andorra   WESTERN EUROPE                     \n",
       "..               ...                                  ...\n",
       "222       West Bank   NEAR EAST                          \n",
       "223  Western Sahara   NORTHERN AFRICA                    \n",
       "224           Yemen   NEAR EAST                          \n",
       "225          Zambia   SUB-SAHARAN AFRICA                 \n",
       "226        Zimbabwe   SUB-SAHARAN AFRICA                 \n",
       "\n",
       "[227 rows x 2 columns]"
      ]
     },
     "execution_count": 11,
     "metadata": {},
     "output_type": "execute_result"
    }
   ],
   "source": [
    "df = pd.read_table(r\"D:\\Data Analyst Bootcamp\\Pandas for Data Analytics\\data\\countries of the world.csv\", sep=(\",\"))\n",
    "df"
   ]
  },
  {
   "cell_type": "code",
   "execution_count": 12,
   "id": "1b033de5",
   "metadata": {},
   "outputs": [
    {
     "data": {
      "application/vnd.microsoft.datawrangler.viewer.v0+json": {
       "columns": [
        {
         "name": "index",
         "rawType": "int64",
         "type": "integer"
        },
        {
         "name": "12 Strong",
         "rawType": "object",
         "type": "unknown"
        },
        {
         "name": "A Fantastic Woman (Una Mujer Fantástica)",
         "rawType": "object",
         "type": "unknown"
        },
        {
         "name": "All The Money In The World",
         "rawType": "object",
         "type": "unknown"
        },
        {
         "name": "Bilal: A New Breed Of Hero",
         "rawType": "object",
         "type": "unknown"
        },
        {
         "name": "Call Me By Your Name",
         "rawType": "object",
         "type": "unknown"
        },
        {
         "name": "Darkest Hour",
         "rawType": "object",
         "type": "unknown"
        },
        {
         "name": "Den Of Thieves",
         "rawType": "object",
         "type": "unknown"
        },
        {
         "name": "Ferdinand",
         "rawType": "object",
         "type": "unknown"
        },
        {
         "name": "Fifty Shades Freed",
         "rawType": "object",
         "type": "unknown"
        },
        {
         "name": "Film Stars Don'T Die In Liverpool",
         "rawType": "object",
         "type": "unknown"
        },
        {
         "name": "Forever My Girl",
         "rawType": "object",
         "type": "unknown"
        },
        {
         "name": "Golden Exits",
         "rawType": "object",
         "type": "unknown"
        },
        {
         "name": "Hostiles",
         "rawType": "object",
         "type": "unknown"
        },
        {
         "name": "I, Tonya",
         "rawType": "object",
         "type": "unknown"
        },
        {
         "name": "Insidious: The Last Key",
         "rawType": "object",
         "type": "unknown"
        },
        {
         "name": "Jumanji: Welcome To The Jungle",
         "rawType": "object",
         "type": "unknown"
        },
        {
         "name": "Mary And The Witch'S Flower",
         "rawType": "object",
         "type": "unknown"
        },
        {
         "name": "Maze Runner: The Death Cure",
         "rawType": "object",
         "type": "unknown"
        },
        {
         "name": "Molly'S Game",
         "rawType": "object",
         "type": "unknown"
        },
        {
         "name": "Paddington 2",
         "rawType": "object",
         "type": "unknown"
        },
        {
         "name": "Padmaavat",
         "rawType": "object",
         "type": "unknown"
        },
        {
         "name": "Permission",
         "rawType": "object",
         "type": "unknown"
        },
        {
         "name": "Peter Rabbit",
         "rawType": "object",
         "type": "unknown"
        },
        {
         "name": "Phantom Thread",
         "rawType": "object",
         "type": "unknown"
        },
        {
         "name": "Pitch Perfect 3",
         "rawType": "object",
         "type": "unknown"
        },
        {
         "name": "Proud Mary",
         "rawType": "object",
         "type": "unknown"
        },
        {
         "name": "Sanpo Suru Shinryakusha",
         "rawType": "object",
         "type": "unknown"
        },
        {
         "name": "Star Wars: The Last Jedi",
         "rawType": "object",
         "type": "unknown"
        },
        {
         "name": "The 15:17 To Paris",
         "rawType": "object",
         "type": "unknown"
        },
        {
         "name": "The Commuter",
         "rawType": "object",
         "type": "unknown"
        },
        {
         "name": "The Disaster Artist",
         "rawType": "object",
         "type": "unknown"
        },
        {
         "name": "The Greatest Showman",
         "rawType": "object",
         "type": "unknown"
        },
        {
         "name": "The Insult (L'Insulte)",
         "rawType": "object",
         "type": "unknown"
        },
        {
         "name": "The Post",
         "rawType": "object",
         "type": "unknown"
        },
        {
         "name": "The Shape Of Water",
         "rawType": "object",
         "type": "unknown"
        },
        {
         "name": "Three Billboards Outside Ebbing, Missouri",
         "rawType": "object",
         "type": "unknown"
        },
        {
         "name": "Till The End Of The World",
         "rawType": "object",
         "type": "unknown"
        },
        {
         "name": "Winchester",
         "rawType": "object",
         "type": "unknown"
        }
       ],
       "ref": "179056f8-b7a6-4189-99f7-509cca7c2e6e",
       "rows": [
        [
         "0",
         "{'Genre': 'Action', 'Gross': '$453,173', 'IMDB Metascore': '54', 'Popcorn Score': 72, 'Rating': 'R', 'Tomato Score': 54}",
         "{'popcornscore': 83, 'rating': 'R', 'tomatoscore': 90}",
         "{'popcornscore': 71, 'rating': 'R', 'tomatoscore': 77}",
         "{'popcornscore': 91, 'rating': 'PG13', 'tomatoscore': 57}",
         "{'popcornscore': 87, 'rating': 'R', 'tomatoscore': 96}",
         "{'popcornscore': 84, 'rating': 'PG13', 'tomatoscore': 86}",
         "{'Genre': 'Action', 'Gross': '$491,898', 'IMDB Metascore': '49', 'Popcorn Score': 69, 'Rating': 'R', 'Tomato Score': 40}",
         "{'popcornscore': 49, 'rating': 'PG', 'tomatoscore': 71}",
         "{'Genre': 'Drama', 'Gross': 'unknown', 'IMDB Metascore': '34', 'Popcorn Score': 'unknown', 'Rating': 'unrated', 'Tomato Score': 'unkown'}",
         "{'popcornscore': 69, 'rating': 'R', 'tomatoscore': 78}",
         "{'popcornscore': 91, 'rating': 'PG', 'tomatoscore': 21}",
         "{'Genre': 'Drama', 'Gross': 'unknown', 'IMDB Metascore': '72', 'Popcorn Score': 'unknown', 'Rating': 'unrated', 'Tomato Score': 'unkown'}",
         "{'Genre': 'Adventure', 'Gross': '$548,886', 'IMDB Metascore': '65', 'Popcorn Score': 71, 'Rating': 'R', 'Tomato Score': 72}",
         "{'popcornscore': 89, 'rating': 'R', 'tomatoscore': 90}",
         "{'popcornscore': 51, 'rating': 'PG13', 'tomatoscore': 32}",
         "{'Genre': 'Action', 'Gross': '$760,867', 'IMDB Metascore': '58', 'Popcorn Score': 89, 'Rating': 'PG13', 'Tomato Score': 76}",
         "{'popcornscore': 78, 'rating': 'PG', 'tomatoscore': 84}",
         "{'Genre': 'Action', 'Gross': '$720,463', 'IMDB Metascore': '51', 'Popcorn Score': 71, 'Rating': 'PG13', 'Tomato Score': 43}",
         "{'popcornscore': 85, 'rating': 'R', 'tomatoscore': 82}",
         "{'Genre': 'Animation', 'Gross': '$184,414', 'IMDB Metascore': '88', 'Popcorn Score': 89, 'Rating': 'PG', 'Tomato Score': 100}",
         "{'popcornscore': 62, 'rating': 'NR', 'tomatoscore': 74}",
         "{'Genre': 'Comedy', 'Gross': 'unknown', 'IMDB Metascore': '53', 'Popcorn Score': 'unknown', 'Rating': 'unrated', 'Tomato Score': 'unkown'}",
         "{'Genre': 'Animation', 'Gross': 'unknown', 'IMDB Metascore': '56', 'Popcorn Score': 'unknown', 'Rating': 'unrated', 'Tomato Score': 'unkown'}",
         "{'popcornscore': 68, 'rating': 'R', 'tomatoscore': 91}",
         "{'popcornscore': 52, 'rating': 'PG13', 'tomatoscore': 31}",
         "{'popcornscore': 56, 'rating': 'R', 'tomatoscore': 26}",
         "{'Genre': 'Drama', 'Gross': 'unknown', 'IMDB Metascore': '65', 'Popcorn Score': 'unknown', 'Rating': 'unrated', 'Tomato Score': 'unkown'}",
         "{'popcornscore': 48, 'rating': 'PG13', 'tomatoscore': 91}",
         "{'Genre': 'Drama', 'Gross': 'unknown', 'IMDB Metascore': '52', 'Popcorn Score': 'unknown', 'Rating': 'unrated', 'Tomato Score': 'unkown'}",
         "{'popcornscore': 48, 'rating': 'PG13', 'tomatoscore': 58}",
         "{'popcornscore': 89, 'rating': 'R', 'tomatoscore': 91}",
         "{'Genre': 'Biography', 'Gross': '$627,248', 'IMDB Metascore': '48', 'Popcorn Score': 90, 'Rating': 'PG', 'Tomato Score': 55}",
         "{'popcornscore': 86, 'rating': 'R', 'tomatoscore': 89}",
         "{'Genre': 'Biography', 'Gross': '$463,228', 'IMDB Metascore': '83', 'Popcorn Score': 73, 'Rating': 'PG13', 'Tomato Score': 88}",
         "{'Genre': 'Adventure', 'Gross': '$448,287', 'IMDB Metascore': '86', 'Popcorn Score': 78, 'Rating': 'R', 'Tomato Score': 92}",
         "{'popcornscore': 87, 'rating': 'R', 'tomatoscore': 93}",
         "{'popcornscore': -1, 'rating': 'NR', 'tomatoscore': None}",
         "{'Genre': 'Biography', 'Gross': '$696,786', 'IMDB Metascore': '28', 'Popcorn Score': 40, 'Rating': 'PG13', 'Tomato Score': 12}"
        ]
       ],
       "shape": {
        "columns": 38,
        "rows": 1
       }
      },
      "text/html": [
       "<div>\n",
       "<style scoped>\n",
       "    .dataframe tbody tr th:only-of-type {\n",
       "        vertical-align: middle;\n",
       "    }\n",
       "\n",
       "    .dataframe tbody tr th {\n",
       "        vertical-align: top;\n",
       "    }\n",
       "\n",
       "    .dataframe thead th {\n",
       "        text-align: right;\n",
       "    }\n",
       "</style>\n",
       "<table border=\"1\" class=\"dataframe\">\n",
       "  <thead>\n",
       "    <tr style=\"text-align: right;\">\n",
       "      <th></th>\n",
       "      <th>12 Strong</th>\n",
       "      <th>A Fantastic Woman (Una Mujer Fantástica)</th>\n",
       "      <th>All The Money In The World</th>\n",
       "      <th>Bilal: A New Breed Of Hero</th>\n",
       "      <th>Call Me By Your Name</th>\n",
       "      <th>Darkest Hour</th>\n",
       "      <th>Den Of Thieves</th>\n",
       "      <th>Ferdinand</th>\n",
       "      <th>Fifty Shades Freed</th>\n",
       "      <th>Film Stars Don'T Die In Liverpool</th>\n",
       "      <th>...</th>\n",
       "      <th>The 15:17 To Paris</th>\n",
       "      <th>The Commuter</th>\n",
       "      <th>The Disaster Artist</th>\n",
       "      <th>The Greatest Showman</th>\n",
       "      <th>The Insult (L'Insulte)</th>\n",
       "      <th>The Post</th>\n",
       "      <th>The Shape Of Water</th>\n",
       "      <th>Three Billboards Outside Ebbing, Missouri</th>\n",
       "      <th>Till The End Of The World</th>\n",
       "      <th>Winchester</th>\n",
       "    </tr>\n",
       "  </thead>\n",
       "  <tbody>\n",
       "    <tr>\n",
       "      <th>0</th>\n",
       "      <td>{'Genre': 'Action', 'Gross': '$453,173', 'IMDB...</td>\n",
       "      <td>{'popcornscore': 83, 'rating': 'R', 'tomatosco...</td>\n",
       "      <td>{'popcornscore': 71, 'rating': 'R', 'tomatosco...</td>\n",
       "      <td>{'popcornscore': 91, 'rating': 'PG13', 'tomato...</td>\n",
       "      <td>{'popcornscore': 87, 'rating': 'R', 'tomatosco...</td>\n",
       "      <td>{'popcornscore': 84, 'rating': 'PG13', 'tomato...</td>\n",
       "      <td>{'Genre': 'Action', 'Gross': '$491,898', 'IMDB...</td>\n",
       "      <td>{'popcornscore': 49, 'rating': 'PG', 'tomatosc...</td>\n",
       "      <td>{'Genre': 'Drama', 'Gross': 'unknown', 'IMDB M...</td>\n",
       "      <td>{'popcornscore': 69, 'rating': 'R', 'tomatosco...</td>\n",
       "      <td>...</td>\n",
       "      <td>{'Genre': 'Drama', 'Gross': 'unknown', 'IMDB M...</td>\n",
       "      <td>{'popcornscore': 48, 'rating': 'PG13', 'tomato...</td>\n",
       "      <td>{'popcornscore': 89, 'rating': 'R', 'tomatosco...</td>\n",
       "      <td>{'Genre': 'Biography', 'Gross': '$627,248', 'I...</td>\n",
       "      <td>{'popcornscore': 86, 'rating': 'R', 'tomatosco...</td>\n",
       "      <td>{'Genre': 'Biography', 'Gross': '$463,228', 'I...</td>\n",
       "      <td>{'Genre': 'Adventure', 'Gross': '$448,287', 'I...</td>\n",
       "      <td>{'popcornscore': 87, 'rating': 'R', 'tomatosco...</td>\n",
       "      <td>{'popcornscore': -1, 'rating': 'NR', 'tomatosc...</td>\n",
       "      <td>{'Genre': 'Biography', 'Gross': '$696,786', 'I...</td>\n",
       "    </tr>\n",
       "  </tbody>\n",
       "</table>\n",
       "<p>1 rows × 38 columns</p>\n",
       "</div>"
      ],
      "text/plain": [
       "                                           12 Strong  \\\n",
       "0  {'Genre': 'Action', 'Gross': '$453,173', 'IMDB...   \n",
       "\n",
       "            A Fantastic Woman (Una Mujer Fantástica)  \\\n",
       "0  {'popcornscore': 83, 'rating': 'R', 'tomatosco...   \n",
       "\n",
       "                          All The Money In The World  \\\n",
       "0  {'popcornscore': 71, 'rating': 'R', 'tomatosco...   \n",
       "\n",
       "                          Bilal: A New Breed Of Hero  \\\n",
       "0  {'popcornscore': 91, 'rating': 'PG13', 'tomato...   \n",
       "\n",
       "                                Call Me By Your Name  \\\n",
       "0  {'popcornscore': 87, 'rating': 'R', 'tomatosco...   \n",
       "\n",
       "                                        Darkest Hour  \\\n",
       "0  {'popcornscore': 84, 'rating': 'PG13', 'tomato...   \n",
       "\n",
       "                                      Den Of Thieves  \\\n",
       "0  {'Genre': 'Action', 'Gross': '$491,898', 'IMDB...   \n",
       "\n",
       "                                           Ferdinand  \\\n",
       "0  {'popcornscore': 49, 'rating': 'PG', 'tomatosc...   \n",
       "\n",
       "                                  Fifty Shades Freed  \\\n",
       "0  {'Genre': 'Drama', 'Gross': 'unknown', 'IMDB M...   \n",
       "\n",
       "                   Film Stars Don'T Die In Liverpool  ...  \\\n",
       "0  {'popcornscore': 69, 'rating': 'R', 'tomatosco...  ...   \n",
       "\n",
       "                                  The 15:17 To Paris  \\\n",
       "0  {'Genre': 'Drama', 'Gross': 'unknown', 'IMDB M...   \n",
       "\n",
       "                                        The Commuter  \\\n",
       "0  {'popcornscore': 48, 'rating': 'PG13', 'tomato...   \n",
       "\n",
       "                                 The Disaster Artist  \\\n",
       "0  {'popcornscore': 89, 'rating': 'R', 'tomatosco...   \n",
       "\n",
       "                                The Greatest Showman  \\\n",
       "0  {'Genre': 'Biography', 'Gross': '$627,248', 'I...   \n",
       "\n",
       "                              The Insult (L'Insulte)  \\\n",
       "0  {'popcornscore': 86, 'rating': 'R', 'tomatosco...   \n",
       "\n",
       "                                            The Post  \\\n",
       "0  {'Genre': 'Biography', 'Gross': '$463,228', 'I...   \n",
       "\n",
       "                                  The Shape Of Water  \\\n",
       "0  {'Genre': 'Adventure', 'Gross': '$448,287', 'I...   \n",
       "\n",
       "           Three Billboards Outside Ebbing, Missouri  \\\n",
       "0  {'popcornscore': 87, 'rating': 'R', 'tomatosco...   \n",
       "\n",
       "                           Till The End Of The World  \\\n",
       "0  {'popcornscore': -1, 'rating': 'NR', 'tomatosc...   \n",
       "\n",
       "                                          Winchester  \n",
       "0  {'Genre': 'Biography', 'Gross': '$696,786', 'I...  \n",
       "\n",
       "[1 rows x 38 columns]"
      ]
     },
     "execution_count": 12,
     "metadata": {},
     "output_type": "execute_result"
    }
   ],
   "source": [
    "df = pd.read_json(r\"D:\\Data Analyst Bootcamp\\Pandas for Data Analytics\\data\\json_sample.json\")\n",
    "df"
   ]
  },
  {
   "cell_type": "code",
   "execution_count": 13,
   "id": "054adb82",
   "metadata": {},
   "outputs": [
    {
     "data": {
      "application/vnd.microsoft.datawrangler.viewer.v0+json": {
       "columns": [
        {
         "name": "index",
         "rawType": "int64",
         "type": "integer"
        },
        {
         "name": "Version",
         "rawType": "float64",
         "type": "float"
        },
        {
         "name": "MessageId",
         "rawType": "float64",
         "type": "float"
        },
        {
         "name": "DateRequest",
         "rawType": "object",
         "type": "unknown"
        },
        {
         "name": "TimeRequest",
         "rawType": "object",
         "type": "unknown"
        },
        {
         "name": "RequestingSite",
         "rawType": "object",
         "type": "unknown"
        },
        {
         "name": "ServicingSite",
         "rawType": "object",
         "type": "unknown"
        },
        {
         "name": "TaskDescription",
         "rawType": "object",
         "type": "unknown"
        },
        {
         "name": "CtImageFile",
         "rawType": "object",
         "type": "unknown"
        },
        {
         "name": "SeriesInstanceUid",
         "rawType": "object",
         "type": "unknown"
        },
        {
         "name": "DateService",
         "rawType": "object",
         "type": "unknown"
        },
        {
         "name": "TimeService",
         "rawType": "object",
         "type": "unknown"
        },
        {
         "name": "ResponseDescription",
         "rawType": "object",
         "type": "unknown"
        },
        {
         "name": "StudyInstanceUID",
         "rawType": "object",
         "type": "unknown"
        },
        {
         "name": "annotationVersion",
         "rawType": "float64",
         "type": "float"
        },
        {
         "name": "servicingRadiologistID",
         "rawType": "object",
         "type": "unknown"
        },
        {
         "name": "unblindedReadNodule",
         "rawType": "object",
         "type": "unknown"
        },
        {
         "name": "nonNodule",
         "rawType": "object",
         "type": "unknown"
        }
       ],
       "ref": "4ddf9fa8-90d7-4477-8476-d5128d259318",
       "rows": [
        [
         "0",
         "1.8",
         "2980194.0",
         "2005-10-26",
         "00:00:00",
         "removed",
         "removed",
         "Second unblinded read",
         "removed",
         "1.3.6.1.4.1.14519.5.2.1.6279.6001.267957701183569638795986183786",
         "2005-10-26",
         "00:00:00",
         "1 - Reading complete",
         "1.3.6.1.4.1.14519.5.2.1.6279.6001.160881090830720390023167668360",
         null,
         null,
         null,
         null
        ],
        [
         "1",
         null,
         null,
         null,
         null,
         null,
         null,
         null,
         null,
         null,
         null,
         null,
         null,
         null,
         "3.12",
         "anon",
         "\n",
         "\n"
        ],
        [
         "2",
         null,
         null,
         null,
         null,
         null,
         null,
         null,
         null,
         null,
         null,
         null,
         null,
         null,
         "3.12",
         "anon",
         "\n      ",
         "\n      "
        ],
        [
         "3",
         null,
         null,
         null,
         null,
         null,
         null,
         null,
         null,
         null,
         null,
         null,
         null,
         null,
         "3.12",
         "anon",
         "\n",
         "\n"
        ],
        [
         "4",
         null,
         null,
         null,
         null,
         null,
         null,
         null,
         null,
         null,
         null,
         null,
         null,
         null,
         "3.12",
         "anon",
         "\n\t\t\t\t",
         "\n\t\t\t\t"
        ]
       ],
       "shape": {
        "columns": 17,
        "rows": 5
       }
      },
      "text/html": [
       "<div>\n",
       "<style scoped>\n",
       "    .dataframe tbody tr th:only-of-type {\n",
       "        vertical-align: middle;\n",
       "    }\n",
       "\n",
       "    .dataframe tbody tr th {\n",
       "        vertical-align: top;\n",
       "    }\n",
       "\n",
       "    .dataframe thead th {\n",
       "        text-align: right;\n",
       "    }\n",
       "</style>\n",
       "<table border=\"1\" class=\"dataframe\">\n",
       "  <thead>\n",
       "    <tr style=\"text-align: right;\">\n",
       "      <th></th>\n",
       "      <th>Version</th>\n",
       "      <th>MessageId</th>\n",
       "      <th>DateRequest</th>\n",
       "      <th>TimeRequest</th>\n",
       "      <th>RequestingSite</th>\n",
       "      <th>ServicingSite</th>\n",
       "      <th>TaskDescription</th>\n",
       "      <th>CtImageFile</th>\n",
       "      <th>SeriesInstanceUid</th>\n",
       "      <th>DateService</th>\n",
       "      <th>TimeService</th>\n",
       "      <th>ResponseDescription</th>\n",
       "      <th>StudyInstanceUID</th>\n",
       "      <th>annotationVersion</th>\n",
       "      <th>servicingRadiologistID</th>\n",
       "      <th>unblindedReadNodule</th>\n",
       "      <th>nonNodule</th>\n",
       "    </tr>\n",
       "  </thead>\n",
       "  <tbody>\n",
       "    <tr>\n",
       "      <th>0</th>\n",
       "      <td>1.8</td>\n",
       "      <td>2980194.0</td>\n",
       "      <td>2005-10-26</td>\n",
       "      <td>00:00:00</td>\n",
       "      <td>removed</td>\n",
       "      <td>removed</td>\n",
       "      <td>Second unblinded read</td>\n",
       "      <td>removed</td>\n",
       "      <td>1.3.6.1.4.1.14519.5.2.1.6279.6001.267957701183...</td>\n",
       "      <td>2005-10-26</td>\n",
       "      <td>00:00:00</td>\n",
       "      <td>1 - Reading complete</td>\n",
       "      <td>1.3.6.1.4.1.14519.5.2.1.6279.6001.160881090830...</td>\n",
       "      <td>NaN</td>\n",
       "      <td>None</td>\n",
       "      <td>None</td>\n",
       "      <td>None</td>\n",
       "    </tr>\n",
       "    <tr>\n",
       "      <th>1</th>\n",
       "      <td>NaN</td>\n",
       "      <td>NaN</td>\n",
       "      <td>None</td>\n",
       "      <td>None</td>\n",
       "      <td>None</td>\n",
       "      <td>None</td>\n",
       "      <td>None</td>\n",
       "      <td>None</td>\n",
       "      <td>None</td>\n",
       "      <td>None</td>\n",
       "      <td>None</td>\n",
       "      <td>None</td>\n",
       "      <td>None</td>\n",
       "      <td>3.12</td>\n",
       "      <td>anon</td>\n",
       "      <td>\\n</td>\n",
       "      <td>\\n</td>\n",
       "    </tr>\n",
       "    <tr>\n",
       "      <th>2</th>\n",
       "      <td>NaN</td>\n",
       "      <td>NaN</td>\n",
       "      <td>None</td>\n",
       "      <td>None</td>\n",
       "      <td>None</td>\n",
       "      <td>None</td>\n",
       "      <td>None</td>\n",
       "      <td>None</td>\n",
       "      <td>None</td>\n",
       "      <td>None</td>\n",
       "      <td>None</td>\n",
       "      <td>None</td>\n",
       "      <td>None</td>\n",
       "      <td>3.12</td>\n",
       "      <td>anon</td>\n",
       "      <td>\\n</td>\n",
       "      <td>\\n</td>\n",
       "    </tr>\n",
       "    <tr>\n",
       "      <th>3</th>\n",
       "      <td>NaN</td>\n",
       "      <td>NaN</td>\n",
       "      <td>None</td>\n",
       "      <td>None</td>\n",
       "      <td>None</td>\n",
       "      <td>None</td>\n",
       "      <td>None</td>\n",
       "      <td>None</td>\n",
       "      <td>None</td>\n",
       "      <td>None</td>\n",
       "      <td>None</td>\n",
       "      <td>None</td>\n",
       "      <td>None</td>\n",
       "      <td>3.12</td>\n",
       "      <td>anon</td>\n",
       "      <td>\\n</td>\n",
       "      <td>\\n</td>\n",
       "    </tr>\n",
       "    <tr>\n",
       "      <th>4</th>\n",
       "      <td>NaN</td>\n",
       "      <td>NaN</td>\n",
       "      <td>None</td>\n",
       "      <td>None</td>\n",
       "      <td>None</td>\n",
       "      <td>None</td>\n",
       "      <td>None</td>\n",
       "      <td>None</td>\n",
       "      <td>None</td>\n",
       "      <td>None</td>\n",
       "      <td>None</td>\n",
       "      <td>None</td>\n",
       "      <td>None</td>\n",
       "      <td>3.12</td>\n",
       "      <td>anon</td>\n",
       "      <td>\\n\\t\\t\\t\\t</td>\n",
       "      <td>\\n\\t\\t\\t\\t</td>\n",
       "    </tr>\n",
       "  </tbody>\n",
       "</table>\n",
       "</div>"
      ],
      "text/plain": [
       "   Version  MessageId DateRequest TimeRequest RequestingSite ServicingSite  \\\n",
       "0      1.8  2980194.0  2005-10-26    00:00:00        removed       removed   \n",
       "1      NaN        NaN        None        None           None          None   \n",
       "2      NaN        NaN        None        None           None          None   \n",
       "3      NaN        NaN        None        None           None          None   \n",
       "4      NaN        NaN        None        None           None          None   \n",
       "\n",
       "         TaskDescription CtImageFile  \\\n",
       "0  Second unblinded read     removed   \n",
       "1                   None        None   \n",
       "2                   None        None   \n",
       "3                   None        None   \n",
       "4                   None        None   \n",
       "\n",
       "                                   SeriesInstanceUid DateService TimeService  \\\n",
       "0  1.3.6.1.4.1.14519.5.2.1.6279.6001.267957701183...  2005-10-26    00:00:00   \n",
       "1                                               None        None        None   \n",
       "2                                               None        None        None   \n",
       "3                                               None        None        None   \n",
       "4                                               None        None        None   \n",
       "\n",
       "    ResponseDescription                                   StudyInstanceUID  \\\n",
       "0  1 - Reading complete  1.3.6.1.4.1.14519.5.2.1.6279.6001.160881090830...   \n",
       "1                  None                                               None   \n",
       "2                  None                                               None   \n",
       "3                  None                                               None   \n",
       "4                  None                                               None   \n",
       "\n",
       "   annotationVersion servicingRadiologistID unblindedReadNodule   nonNodule  \n",
       "0                NaN                   None                None        None  \n",
       "1               3.12                   anon                  \\n          \\n  \n",
       "2               3.12                   anon            \\n          \\n        \n",
       "3               3.12                   anon                  \\n          \\n  \n",
       "4               3.12                   anon          \\n\\t\\t\\t\\t  \\n\\t\\t\\t\\t  "
      ]
     },
     "execution_count": 13,
     "metadata": {},
     "output_type": "execute_result"
    }
   ],
   "source": [
    "df = pd.read_xml(r\"D:\\Data Analyst Bootcamp\\Pandas for Data Analytics\\data\\039.xml\")\n",
    "df"
   ]
  },
  {
   "cell_type": "markdown",
   "id": "436f16b2",
   "metadata": {},
   "source": [
    "## Reading and Displaying XML Data as a Table\n",
    "Let's read the XML file and display its contents as a table using pandas. This makes it easier to view and analyze the data."
   ]
  },
  {
   "cell_type": "code",
   "execution_count": 14,
   "id": "4ff273ab",
   "metadata": {},
   "outputs": [
    {
     "data": {
      "application/vnd.microsoft.datawrangler.viewer.v0+json": {
       "columns": [
        {
         "name": "index",
         "rawType": "int64",
         "type": "integer"
        },
        {
         "name": "Version",
         "rawType": "float64",
         "type": "float"
        },
        {
         "name": "MessageId",
         "rawType": "float64",
         "type": "float"
        },
        {
         "name": "DateRequest",
         "rawType": "object",
         "type": "unknown"
        },
        {
         "name": "TimeRequest",
         "rawType": "object",
         "type": "unknown"
        },
        {
         "name": "RequestingSite",
         "rawType": "object",
         "type": "unknown"
        },
        {
         "name": "ServicingSite",
         "rawType": "object",
         "type": "unknown"
        },
        {
         "name": "TaskDescription",
         "rawType": "object",
         "type": "unknown"
        },
        {
         "name": "CtImageFile",
         "rawType": "object",
         "type": "unknown"
        },
        {
         "name": "SeriesInstanceUid",
         "rawType": "object",
         "type": "unknown"
        },
        {
         "name": "DateService",
         "rawType": "object",
         "type": "unknown"
        },
        {
         "name": "TimeService",
         "rawType": "object",
         "type": "unknown"
        },
        {
         "name": "ResponseDescription",
         "rawType": "object",
         "type": "unknown"
        },
        {
         "name": "StudyInstanceUID",
         "rawType": "object",
         "type": "unknown"
        },
        {
         "name": "annotationVersion",
         "rawType": "float64",
         "type": "float"
        },
        {
         "name": "servicingRadiologistID",
         "rawType": "object",
         "type": "unknown"
        },
        {
         "name": "unblindedReadNodule",
         "rawType": "object",
         "type": "unknown"
        },
        {
         "name": "nonNodule",
         "rawType": "object",
         "type": "unknown"
        }
       ],
       "ref": "421daabb-6aaf-4292-9cb8-6e5f9263ece1",
       "rows": [
        [
         "0",
         "1.8",
         "2980194.0",
         "2005-10-26",
         "00:00:00",
         "removed",
         "removed",
         "Second unblinded read",
         "removed",
         "1.3.6.1.4.1.14519.5.2.1.6279.6001.267957701183569638795986183786",
         "2005-10-26",
         "00:00:00",
         "1 - Reading complete",
         "1.3.6.1.4.1.14519.5.2.1.6279.6001.160881090830720390023167668360",
         null,
         null,
         null,
         null
        ],
        [
         "1",
         null,
         null,
         null,
         null,
         null,
         null,
         null,
         null,
         null,
         null,
         null,
         null,
         null,
         "3.12",
         "anon",
         "\n",
         "\n"
        ],
        [
         "2",
         null,
         null,
         null,
         null,
         null,
         null,
         null,
         null,
         null,
         null,
         null,
         null,
         null,
         "3.12",
         "anon",
         "\n      ",
         "\n      "
        ],
        [
         "3",
         null,
         null,
         null,
         null,
         null,
         null,
         null,
         null,
         null,
         null,
         null,
         null,
         null,
         "3.12",
         "anon",
         "\n",
         "\n"
        ],
        [
         "4",
         null,
         null,
         null,
         null,
         null,
         null,
         null,
         null,
         null,
         null,
         null,
         null,
         null,
         "3.12",
         "anon",
         "\n\t\t\t\t",
         "\n\t\t\t\t"
        ]
       ],
       "shape": {
        "columns": 17,
        "rows": 5
       }
      },
      "text/html": [
       "<div>\n",
       "<style scoped>\n",
       "    .dataframe tbody tr th:only-of-type {\n",
       "        vertical-align: middle;\n",
       "    }\n",
       "\n",
       "    .dataframe tbody tr th {\n",
       "        vertical-align: top;\n",
       "    }\n",
       "\n",
       "    .dataframe thead th {\n",
       "        text-align: right;\n",
       "    }\n",
       "</style>\n",
       "<table border=\"1\" class=\"dataframe\">\n",
       "  <thead>\n",
       "    <tr style=\"text-align: right;\">\n",
       "      <th></th>\n",
       "      <th>Version</th>\n",
       "      <th>MessageId</th>\n",
       "      <th>DateRequest</th>\n",
       "      <th>TimeRequest</th>\n",
       "      <th>RequestingSite</th>\n",
       "      <th>ServicingSite</th>\n",
       "      <th>TaskDescription</th>\n",
       "      <th>CtImageFile</th>\n",
       "      <th>SeriesInstanceUid</th>\n",
       "      <th>DateService</th>\n",
       "      <th>TimeService</th>\n",
       "      <th>ResponseDescription</th>\n",
       "      <th>StudyInstanceUID</th>\n",
       "      <th>annotationVersion</th>\n",
       "      <th>servicingRadiologistID</th>\n",
       "      <th>unblindedReadNodule</th>\n",
       "      <th>nonNodule</th>\n",
       "    </tr>\n",
       "  </thead>\n",
       "  <tbody>\n",
       "    <tr>\n",
       "      <th>0</th>\n",
       "      <td>1.8</td>\n",
       "      <td>2980194.0</td>\n",
       "      <td>2005-10-26</td>\n",
       "      <td>00:00:00</td>\n",
       "      <td>removed</td>\n",
       "      <td>removed</td>\n",
       "      <td>Second unblinded read</td>\n",
       "      <td>removed</td>\n",
       "      <td>1.3.6.1.4.1.14519.5.2.1.6279.6001.267957701183...</td>\n",
       "      <td>2005-10-26</td>\n",
       "      <td>00:00:00</td>\n",
       "      <td>1 - Reading complete</td>\n",
       "      <td>1.3.6.1.4.1.14519.5.2.1.6279.6001.160881090830...</td>\n",
       "      <td>NaN</td>\n",
       "      <td>None</td>\n",
       "      <td>None</td>\n",
       "      <td>None</td>\n",
       "    </tr>\n",
       "    <tr>\n",
       "      <th>1</th>\n",
       "      <td>NaN</td>\n",
       "      <td>NaN</td>\n",
       "      <td>None</td>\n",
       "      <td>None</td>\n",
       "      <td>None</td>\n",
       "      <td>None</td>\n",
       "      <td>None</td>\n",
       "      <td>None</td>\n",
       "      <td>None</td>\n",
       "      <td>None</td>\n",
       "      <td>None</td>\n",
       "      <td>None</td>\n",
       "      <td>None</td>\n",
       "      <td>3.12</td>\n",
       "      <td>anon</td>\n",
       "      <td>\\n</td>\n",
       "      <td>\\n</td>\n",
       "    </tr>\n",
       "    <tr>\n",
       "      <th>2</th>\n",
       "      <td>NaN</td>\n",
       "      <td>NaN</td>\n",
       "      <td>None</td>\n",
       "      <td>None</td>\n",
       "      <td>None</td>\n",
       "      <td>None</td>\n",
       "      <td>None</td>\n",
       "      <td>None</td>\n",
       "      <td>None</td>\n",
       "      <td>None</td>\n",
       "      <td>None</td>\n",
       "      <td>None</td>\n",
       "      <td>None</td>\n",
       "      <td>3.12</td>\n",
       "      <td>anon</td>\n",
       "      <td>\\n</td>\n",
       "      <td>\\n</td>\n",
       "    </tr>\n",
       "    <tr>\n",
       "      <th>3</th>\n",
       "      <td>NaN</td>\n",
       "      <td>NaN</td>\n",
       "      <td>None</td>\n",
       "      <td>None</td>\n",
       "      <td>None</td>\n",
       "      <td>None</td>\n",
       "      <td>None</td>\n",
       "      <td>None</td>\n",
       "      <td>None</td>\n",
       "      <td>None</td>\n",
       "      <td>None</td>\n",
       "      <td>None</td>\n",
       "      <td>None</td>\n",
       "      <td>3.12</td>\n",
       "      <td>anon</td>\n",
       "      <td>\\n</td>\n",
       "      <td>\\n</td>\n",
       "    </tr>\n",
       "    <tr>\n",
       "      <th>4</th>\n",
       "      <td>NaN</td>\n",
       "      <td>NaN</td>\n",
       "      <td>None</td>\n",
       "      <td>None</td>\n",
       "      <td>None</td>\n",
       "      <td>None</td>\n",
       "      <td>None</td>\n",
       "      <td>None</td>\n",
       "      <td>None</td>\n",
       "      <td>None</td>\n",
       "      <td>None</td>\n",
       "      <td>None</td>\n",
       "      <td>None</td>\n",
       "      <td>3.12</td>\n",
       "      <td>anon</td>\n",
       "      <td>\\n\\t\\t\\t\\t</td>\n",
       "      <td>\\n\\t\\t\\t\\t</td>\n",
       "    </tr>\n",
       "  </tbody>\n",
       "</table>\n",
       "</div>"
      ],
      "text/plain": [
       "   Version  MessageId DateRequest TimeRequest RequestingSite ServicingSite  \\\n",
       "0      1.8  2980194.0  2005-10-26    00:00:00        removed       removed   \n",
       "1      NaN        NaN        None        None           None          None   \n",
       "2      NaN        NaN        None        None           None          None   \n",
       "3      NaN        NaN        None        None           None          None   \n",
       "4      NaN        NaN        None        None           None          None   \n",
       "\n",
       "         TaskDescription CtImageFile  \\\n",
       "0  Second unblinded read     removed   \n",
       "1                   None        None   \n",
       "2                   None        None   \n",
       "3                   None        None   \n",
       "4                   None        None   \n",
       "\n",
       "                                   SeriesInstanceUid DateService TimeService  \\\n",
       "0  1.3.6.1.4.1.14519.5.2.1.6279.6001.267957701183...  2005-10-26    00:00:00   \n",
       "1                                               None        None        None   \n",
       "2                                               None        None        None   \n",
       "3                                               None        None        None   \n",
       "4                                               None        None        None   \n",
       "\n",
       "    ResponseDescription                                   StudyInstanceUID  \\\n",
       "0  1 - Reading complete  1.3.6.1.4.1.14519.5.2.1.6279.6001.160881090830...   \n",
       "1                  None                                               None   \n",
       "2                  None                                               None   \n",
       "3                  None                                               None   \n",
       "4                  None                                               None   \n",
       "\n",
       "   annotationVersion servicingRadiologistID unblindedReadNodule   nonNodule  \n",
       "0                NaN                   None                None        None  \n",
       "1               3.12                   anon                  \\n          \\n  \n",
       "2               3.12                   anon            \\n          \\n        \n",
       "3               3.12                   anon                  \\n          \\n  \n",
       "4               3.12                   anon          \\n\\t\\t\\t\\t  \\n\\t\\t\\t\\t  "
      ]
     },
     "execution_count": 14,
     "metadata": {},
     "output_type": "execute_result"
    }
   ],
   "source": [
    "# Display the XML data as a table\n",
    "df"
   ]
  },
  {
   "cell_type": "code",
   "execution_count": 15,
   "id": "4330e83c",
   "metadata": {},
   "outputs": [
    {
     "data": {
      "application/vnd.microsoft.datawrangler.viewer.v0+json": {
       "columns": [
        {
         "name": "index",
         "rawType": "int64",
         "type": "integer"
        },
        {
         "name": "Version",
         "rawType": "float64",
         "type": "float"
        },
        {
         "name": "MessageId",
         "rawType": "float64",
         "type": "float"
        },
        {
         "name": "DateRequest",
         "rawType": "object",
         "type": "string"
        },
        {
         "name": "TimeRequest",
         "rawType": "object",
         "type": "string"
        },
        {
         "name": "RequestingSite",
         "rawType": "object",
         "type": "string"
        },
        {
         "name": "ServicingSite",
         "rawType": "object",
         "type": "string"
        },
        {
         "name": "TaskDescription",
         "rawType": "object",
         "type": "string"
        },
        {
         "name": "CtImageFile",
         "rawType": "object",
         "type": "string"
        },
        {
         "name": "SeriesInstanceUid",
         "rawType": "object",
         "type": "string"
        },
        {
         "name": "DateService",
         "rawType": "object",
         "type": "string"
        },
        {
         "name": "TimeService",
         "rawType": "object",
         "type": "string"
        },
        {
         "name": "ResponseDescription",
         "rawType": "object",
         "type": "string"
        },
        {
         "name": "StudyInstanceUID",
         "rawType": "object",
         "type": "string"
        },
        {
         "name": "annotationVersion",
         "rawType": "float64",
         "type": "float"
        },
        {
         "name": "servicingRadiologistID",
         "rawType": "object",
         "type": "string"
        },
        {
         "name": "unblindedReadNodule",
         "rawType": "object",
         "type": "string"
        },
        {
         "name": "nonNodule",
         "rawType": "object",
         "type": "string"
        }
       ],
       "ref": "cb01d3e2-96f2-4252-a8f2-b2ee87c4c6b3",
       "rows": [],
       "shape": {
        "columns": 17,
        "rows": 0
       }
      },
      "text/html": [
       "<div>\n",
       "<style scoped>\n",
       "    .dataframe tbody tr th:only-of-type {\n",
       "        vertical-align: middle;\n",
       "    }\n",
       "\n",
       "    .dataframe tbody tr th {\n",
       "        vertical-align: top;\n",
       "    }\n",
       "\n",
       "    .dataframe thead th {\n",
       "        text-align: right;\n",
       "    }\n",
       "</style>\n",
       "<table border=\"1\" class=\"dataframe\">\n",
       "  <thead>\n",
       "    <tr style=\"text-align: right;\">\n",
       "      <th></th>\n",
       "      <th>Version</th>\n",
       "      <th>MessageId</th>\n",
       "      <th>DateRequest</th>\n",
       "      <th>TimeRequest</th>\n",
       "      <th>RequestingSite</th>\n",
       "      <th>ServicingSite</th>\n",
       "      <th>TaskDescription</th>\n",
       "      <th>CtImageFile</th>\n",
       "      <th>SeriesInstanceUid</th>\n",
       "      <th>DateService</th>\n",
       "      <th>TimeService</th>\n",
       "      <th>ResponseDescription</th>\n",
       "      <th>StudyInstanceUID</th>\n",
       "      <th>annotationVersion</th>\n",
       "      <th>servicingRadiologistID</th>\n",
       "      <th>unblindedReadNodule</th>\n",
       "      <th>nonNodule</th>\n",
       "    </tr>\n",
       "  </thead>\n",
       "  <tbody>\n",
       "  </tbody>\n",
       "</table>\n",
       "</div>"
      ],
      "text/plain": [
       "Empty DataFrame\n",
       "Columns: [Version, MessageId, DateRequest, TimeRequest, RequestingSite, ServicingSite, TaskDescription, CtImageFile, SeriesInstanceUid, DateService, TimeService, ResponseDescription, StudyInstanceUID, annotationVersion, servicingRadiologistID, unblindedReadNodule, nonNodule]\n",
       "Index: []"
      ]
     },
     "execution_count": 15,
     "metadata": {},
     "output_type": "execute_result"
    }
   ],
   "source": [
    "# Display rows containing 'nodule' or 'non nodule' information\n",
    "# Adjust the column name below to match the actual column containing this information\n",
    "nodule_info = df[df.apply(lambda row: row.astype(str).str.contains('nodule', case=False).any(), axis=1)]\n",
    "nodule_info"
   ]
  },
  {
   "cell_type": "code",
   "execution_count": 16,
   "id": "8d7ccf02",
   "metadata": {},
   "outputs": [
    {
     "data": {
      "application/vnd.microsoft.datawrangler.viewer.v0+json": {
       "columns": [
        {
         "name": "index",
         "rawType": "int64",
         "type": "integer"
        },
        {
         "name": "Version",
         "rawType": "float64",
         "type": "float"
        },
        {
         "name": "MessageId",
         "rawType": "float64",
         "type": "float"
        },
        {
         "name": "DateRequest",
         "rawType": "object",
         "type": "unknown"
        },
        {
         "name": "TimeRequest",
         "rawType": "object",
         "type": "unknown"
        },
        {
         "name": "RequestingSite",
         "rawType": "object",
         "type": "unknown"
        },
        {
         "name": "ServicingSite",
         "rawType": "object",
         "type": "unknown"
        },
        {
         "name": "TaskDescription",
         "rawType": "object",
         "type": "unknown"
        },
        {
         "name": "CtImageFile",
         "rawType": "object",
         "type": "unknown"
        },
        {
         "name": "SeriesInstanceUid",
         "rawType": "object",
         "type": "unknown"
        },
        {
         "name": "StudyInstanceUID",
         "rawType": "object",
         "type": "unknown"
        },
        {
         "name": "DateService",
         "rawType": "object",
         "type": "unknown"
        },
        {
         "name": "TimeService",
         "rawType": "object",
         "type": "unknown"
        },
        {
         "name": "ResponseDescription",
         "rawType": "object",
         "type": "unknown"
        },
        {
         "name": "ResponseComments",
         "rawType": "object",
         "type": "unknown"
        },
        {
         "name": "annotationVersion",
         "rawType": "float64",
         "type": "float"
        },
        {
         "name": "servicingRadiologistID",
         "rawType": "object",
         "type": "unknown"
        },
        {
         "name": "unblindedReadNodule",
         "rawType": "object",
         "type": "unknown"
        },
        {
         "name": "nonNodule",
         "rawType": "object",
         "type": "unknown"
        }
       ],
       "ref": "7a8590be-eb84-40c8-b8f7-e7e53111dbad",
       "rows": [
        [
         "0",
         "1.7",
         "1152727.0",
         "2006-06-05",
         "17:08:37",
         "removed",
         "removed",
         "Second unblinded read",
         "removed",
         "1.3.6.1.4.1.14519.5.2.1.6279.6001.340202188094259402036602717327",
         "1.3.6.1.4.1.14519.5.2.1.6279.6001.584233139051825667176600857752",
         "2006-06-05",
         "17:08:37",
         "1 - Reading complete",
         "Merged, reader anonymized, unblinded responses",
         null,
         null,
         null,
         null
        ],
        [
         "1",
         null,
         null,
         null,
         null,
         null,
         null,
         null,
         null,
         null,
         null,
         null,
         null,
         null,
         null,
         "3.12",
         "anonymous",
         "\n   ",
         "\n   "
        ],
        [
         "2",
         null,
         null,
         null,
         null,
         null,
         null,
         null,
         null,
         null,
         null,
         null,
         null,
         null,
         null,
         "3.12",
         "anonymous",
         "\n   ",
         "\n   "
        ],
        [
         "3",
         null,
         null,
         null,
         null,
         null,
         null,
         null,
         null,
         null,
         null,
         null,
         null,
         null,
         null,
         "3.12",
         "anonymous",
         "\n   ",
         "\n   "
        ],
        [
         "4",
         null,
         null,
         null,
         null,
         null,
         null,
         null,
         null,
         null,
         null,
         null,
         null,
         null,
         null,
         "3.12",
         "anonymous",
         "\n   ",
         "\n   "
        ]
       ],
       "shape": {
        "columns": 18,
        "rows": 5
       }
      },
      "text/html": [
       "<div>\n",
       "<style scoped>\n",
       "    .dataframe tbody tr th:only-of-type {\n",
       "        vertical-align: middle;\n",
       "    }\n",
       "\n",
       "    .dataframe tbody tr th {\n",
       "        vertical-align: top;\n",
       "    }\n",
       "\n",
       "    .dataframe thead th {\n",
       "        text-align: right;\n",
       "    }\n",
       "</style>\n",
       "<table border=\"1\" class=\"dataframe\">\n",
       "  <thead>\n",
       "    <tr style=\"text-align: right;\">\n",
       "      <th></th>\n",
       "      <th>Version</th>\n",
       "      <th>MessageId</th>\n",
       "      <th>DateRequest</th>\n",
       "      <th>TimeRequest</th>\n",
       "      <th>RequestingSite</th>\n",
       "      <th>ServicingSite</th>\n",
       "      <th>TaskDescription</th>\n",
       "      <th>CtImageFile</th>\n",
       "      <th>SeriesInstanceUid</th>\n",
       "      <th>StudyInstanceUID</th>\n",
       "      <th>DateService</th>\n",
       "      <th>TimeService</th>\n",
       "      <th>ResponseDescription</th>\n",
       "      <th>ResponseComments</th>\n",
       "      <th>annotationVersion</th>\n",
       "      <th>servicingRadiologistID</th>\n",
       "      <th>unblindedReadNodule</th>\n",
       "      <th>nonNodule</th>\n",
       "    </tr>\n",
       "  </thead>\n",
       "  <tbody>\n",
       "    <tr>\n",
       "      <th>0</th>\n",
       "      <td>1.7</td>\n",
       "      <td>1152727.0</td>\n",
       "      <td>2006-06-05</td>\n",
       "      <td>17:08:37</td>\n",
       "      <td>removed</td>\n",
       "      <td>removed</td>\n",
       "      <td>Second unblinded read</td>\n",
       "      <td>removed</td>\n",
       "      <td>1.3.6.1.4.1.14519.5.2.1.6279.6001.340202188094...</td>\n",
       "      <td>1.3.6.1.4.1.14519.5.2.1.6279.6001.584233139051...</td>\n",
       "      <td>2006-06-05</td>\n",
       "      <td>17:08:37</td>\n",
       "      <td>1 - Reading complete</td>\n",
       "      <td>Merged, reader anonymized, unblinded responses</td>\n",
       "      <td>NaN</td>\n",
       "      <td>None</td>\n",
       "      <td>None</td>\n",
       "      <td>None</td>\n",
       "    </tr>\n",
       "    <tr>\n",
       "      <th>1</th>\n",
       "      <td>NaN</td>\n",
       "      <td>NaN</td>\n",
       "      <td>None</td>\n",
       "      <td>None</td>\n",
       "      <td>None</td>\n",
       "      <td>None</td>\n",
       "      <td>None</td>\n",
       "      <td>None</td>\n",
       "      <td>None</td>\n",
       "      <td>None</td>\n",
       "      <td>None</td>\n",
       "      <td>None</td>\n",
       "      <td>None</td>\n",
       "      <td>None</td>\n",
       "      <td>3.12</td>\n",
       "      <td>anonymous</td>\n",
       "      <td>\\n</td>\n",
       "      <td>\\n</td>\n",
       "    </tr>\n",
       "    <tr>\n",
       "      <th>2</th>\n",
       "      <td>NaN</td>\n",
       "      <td>NaN</td>\n",
       "      <td>None</td>\n",
       "      <td>None</td>\n",
       "      <td>None</td>\n",
       "      <td>None</td>\n",
       "      <td>None</td>\n",
       "      <td>None</td>\n",
       "      <td>None</td>\n",
       "      <td>None</td>\n",
       "      <td>None</td>\n",
       "      <td>None</td>\n",
       "      <td>None</td>\n",
       "      <td>None</td>\n",
       "      <td>3.12</td>\n",
       "      <td>anonymous</td>\n",
       "      <td>\\n</td>\n",
       "      <td>\\n</td>\n",
       "    </tr>\n",
       "    <tr>\n",
       "      <th>3</th>\n",
       "      <td>NaN</td>\n",
       "      <td>NaN</td>\n",
       "      <td>None</td>\n",
       "      <td>None</td>\n",
       "      <td>None</td>\n",
       "      <td>None</td>\n",
       "      <td>None</td>\n",
       "      <td>None</td>\n",
       "      <td>None</td>\n",
       "      <td>None</td>\n",
       "      <td>None</td>\n",
       "      <td>None</td>\n",
       "      <td>None</td>\n",
       "      <td>None</td>\n",
       "      <td>3.12</td>\n",
       "      <td>anonymous</td>\n",
       "      <td>\\n</td>\n",
       "      <td>\\n</td>\n",
       "    </tr>\n",
       "    <tr>\n",
       "      <th>4</th>\n",
       "      <td>NaN</td>\n",
       "      <td>NaN</td>\n",
       "      <td>None</td>\n",
       "      <td>None</td>\n",
       "      <td>None</td>\n",
       "      <td>None</td>\n",
       "      <td>None</td>\n",
       "      <td>None</td>\n",
       "      <td>None</td>\n",
       "      <td>None</td>\n",
       "      <td>None</td>\n",
       "      <td>None</td>\n",
       "      <td>None</td>\n",
       "      <td>None</td>\n",
       "      <td>3.12</td>\n",
       "      <td>anonymous</td>\n",
       "      <td>\\n</td>\n",
       "      <td>\\n</td>\n",
       "    </tr>\n",
       "  </tbody>\n",
       "</table>\n",
       "</div>"
      ],
      "text/plain": [
       "   Version  MessageId DateRequest TimeRequest RequestingSite ServicingSite  \\\n",
       "0      1.7  1152727.0  2006-06-05    17:08:37        removed       removed   \n",
       "1      NaN        NaN        None        None           None          None   \n",
       "2      NaN        NaN        None        None           None          None   \n",
       "3      NaN        NaN        None        None           None          None   \n",
       "4      NaN        NaN        None        None           None          None   \n",
       "\n",
       "         TaskDescription CtImageFile  \\\n",
       "0  Second unblinded read     removed   \n",
       "1                   None        None   \n",
       "2                   None        None   \n",
       "3                   None        None   \n",
       "4                   None        None   \n",
       "\n",
       "                                   SeriesInstanceUid  \\\n",
       "0  1.3.6.1.4.1.14519.5.2.1.6279.6001.340202188094...   \n",
       "1                                               None   \n",
       "2                                               None   \n",
       "3                                               None   \n",
       "4                                               None   \n",
       "\n",
       "                                    StudyInstanceUID DateService TimeService  \\\n",
       "0  1.3.6.1.4.1.14519.5.2.1.6279.6001.584233139051...  2006-06-05    17:08:37   \n",
       "1                                               None        None        None   \n",
       "2                                               None        None        None   \n",
       "3                                               None        None        None   \n",
       "4                                               None        None        None   \n",
       "\n",
       "    ResponseDescription                                ResponseComments  \\\n",
       "0  1 - Reading complete  Merged, reader anonymized, unblinded responses   \n",
       "1                  None                                            None   \n",
       "2                  None                                            None   \n",
       "3                  None                                            None   \n",
       "4                  None                                            None   \n",
       "\n",
       "   annotationVersion servicingRadiologistID unblindedReadNodule nonNodule  \n",
       "0                NaN                   None                None      None  \n",
       "1               3.12              anonymous               \\n        \\n     \n",
       "2               3.12              anonymous               \\n        \\n     \n",
       "3               3.12              anonymous               \\n        \\n     \n",
       "4               3.12              anonymous               \\n        \\n     "
      ]
     },
     "execution_count": 16,
     "metadata": {},
     "output_type": "execute_result"
    }
   ],
   "source": [
    "df = pd.read_xml(r\"D:\\Data Analyst Bootcamp\\Pandas for Data Analytics\\data\\161-resubmitted-correction-3-9-12.xml\")\n",
    "df"
   ]
  },
  {
   "cell_type": "code",
   "execution_count": 17,
   "id": "44e3048e",
   "metadata": {},
   "outputs": [
    {
     "data": {
      "application/vnd.microsoft.datawrangler.viewer.v0+json": {
       "columns": [
        {
         "name": "index",
         "rawType": "int64",
         "type": "integer"
        },
        {
         "name": "Rank",
         "rawType": "int64",
         "type": "integer"
        },
        {
         "name": "CCA3",
         "rawType": "object",
         "type": "string"
        },
        {
         "name": "Country",
         "rawType": "object",
         "type": "string"
        },
        {
         "name": "Capital",
         "rawType": "object",
         "type": "string"
        },
        {
         "name": "Continent",
         "rawType": "object",
         "type": "string"
        },
        {
         "name": "2022 Population",
         "rawType": "int64",
         "type": "integer"
        },
        {
         "name": "2020 Population",
         "rawType": "int64",
         "type": "integer"
        },
        {
         "name": "2015 Population",
         "rawType": "int64",
         "type": "integer"
        },
        {
         "name": "2010 Population",
         "rawType": "int64",
         "type": "integer"
        },
        {
         "name": "2000 Population",
         "rawType": "int64",
         "type": "integer"
        },
        {
         "name": "1990 Population",
         "rawType": "int64",
         "type": "integer"
        },
        {
         "name": "1980 Population",
         "rawType": "int64",
         "type": "integer"
        },
        {
         "name": "1970 Population",
         "rawType": "int64",
         "type": "integer"
        },
        {
         "name": "Area (kmÂ²)",
         "rawType": "int64",
         "type": "integer"
        },
        {
         "name": "Density (per kmÂ²)",
         "rawType": "float64",
         "type": "float"
        },
        {
         "name": "Growth Rate",
         "rawType": "float64",
         "type": "float"
        },
        {
         "name": "World Population Percentage",
         "rawType": "float64",
         "type": "float"
        }
       ],
       "ref": "776b9833-1179-4127-b84b-3fa97ff408d2",
       "rows": [
        [
         "0",
         "36",
         "AFG",
         "Afghanistan",
         "Kabul",
         "Asia",
         "41128771",
         "38972230",
         "33753499",
         "28189672",
         "19542982",
         "10694796",
         "12486631",
         "10752971",
         "652230",
         "63.0587",
         "1.0257",
         "0.52"
        ],
        [
         "1",
         "138",
         "ALB",
         "Albania",
         "Tirana",
         "Europe",
         "2842321",
         "2866849",
         "2882481",
         "2913399",
         "3182021",
         "3295066",
         "2941651",
         "2324731",
         "28748",
         "98.8702",
         "0.9957",
         "0.04"
        ],
        [
         "2",
         "34",
         "DZA",
         "Algeria",
         "Algiers",
         "Africa",
         "44903225",
         "43451666",
         "39543154",
         "35856344",
         "30774621",
         "25518074",
         "18739378",
         "13795915",
         "2381741",
         "18.8531",
         "1.0164",
         "0.56"
        ],
        [
         "3",
         "213",
         "ASM",
         "American Samoa",
         "Pago Pago",
         "Oceania",
         "44273",
         "46189",
         "51368",
         "54849",
         "58230",
         "47818",
         "32886",
         "27075",
         "199",
         "222.4774",
         "0.9831",
         "0.0"
        ],
        [
         "4",
         "203",
         "AND",
         "Andorra",
         "Andorra la Vella",
         "Europe",
         "79824",
         "77700",
         "71746",
         "71519",
         "66097",
         "53569",
         "35611",
         "19860",
         "468",
         "170.5641",
         "1.01",
         "0.0"
        ],
        [
         "5",
         "42",
         "AGO",
         "Angola",
         "Luanda",
         "Africa",
         "35588987",
         "33428485",
         "28127721",
         "23364185",
         "16394062",
         "11828638",
         "8330047",
         "6029700",
         "1246700",
         "28.5466",
         "1.0315",
         "0.45"
        ],
        [
         "6",
         "224",
         "AIA",
         "Anguilla",
         "The Valley",
         "North America",
         "15857",
         "15585",
         "14525",
         "13172",
         "11047",
         "8316",
         "6560",
         "6283",
         "91",
         "174.2527",
         "1.0066",
         "0.0"
        ],
        [
         "7",
         "201",
         "ATG",
         "Antigua and Barbuda",
         "Saint Johnâ€™s",
         "North America",
         "93763",
         "92664",
         "89941",
         "85695",
         "75055",
         "63328",
         "64888",
         "64516",
         "442",
         "212.1335",
         "1.0058",
         "0.0"
        ],
        [
         "8",
         "33",
         "ARG",
         "Argentina",
         "Buenos Aires",
         "South America",
         "45510318",
         "45036032",
         "43257065",
         "41100123",
         "37070774",
         "32637657",
         "28024803",
         "23842803",
         "2780400",
         "16.3683",
         "1.0052",
         "0.57"
        ],
        [
         "9",
         "140",
         "ARM",
         "Armenia",
         "Yerevan",
         "Asia",
         "2780469",
         "2805608",
         "2878595",
         "2946293",
         "3168523",
         "3556539",
         "3135123",
         "2534377",
         "29743",
         "93.4831",
         "0.9962",
         "0.03"
        ],
        [
         "10",
         "198",
         "ABW",
         "Aruba",
         "Oranjestad",
         "North America",
         "106445",
         "106585",
         "104257",
         "100341",
         "89101",
         "65712",
         "62267",
         "59106",
         "180",
         "591.3611",
         "0.9991",
         "0.0"
        ],
        [
         "11",
         "55",
         "AUS",
         "Australia",
         "Canberra",
         "Oceania",
         "26177413",
         "25670051",
         "23820236",
         "22019168",
         "19017963",
         "17048003",
         "14706322",
         "12595034",
         "7692024",
         "3.4032",
         "1.0099",
         "0.33"
        ],
        [
         "12",
         "99",
         "AUT",
         "Austria",
         "Vienna",
         "Europe",
         "8939617",
         "8907777",
         "8642421",
         "8362829",
         "8010428",
         "7678729",
         "7547561",
         "7465301",
         "83871",
         "106.5877",
         "1.002",
         "0.11"
        ],
        [
         "13",
         "91",
         "AZE",
         "Azerbaijan",
         "Baku",
         "Asia",
         "10358074",
         "10284951",
         "9863480",
         "9237202",
         "8190337",
         "7427836",
         "6383060",
         "5425317",
         "86600",
         "119.6082",
         "1.0044",
         "0.13"
        ],
        [
         "14",
         "176",
         "BHS",
         "Bahamas",
         "Nassau",
         "North America",
         "409984",
         "406471",
         "392697",
         "373272",
         "325014",
         "270679",
         "223752",
         "179129",
         "13943",
         "29.4043",
         "1.0051",
         "0.01"
        ],
        [
         "15",
         "154",
         "BHR",
         "Bahrain",
         "Manama",
         "Asia",
         "1472233",
         "1477469",
         "1362142",
         "1213645",
         "711442",
         "517418",
         "362595",
         "222555",
         "765",
         "1924.4876",
         "1.0061",
         "0.02"
        ],
        [
         "16",
         "8",
         "BGD",
         "Bangladesh",
         "Dhaka",
         "Asia",
         "171186372",
         "167420951",
         "157830000",
         "148391139",
         "129193327",
         "107147651",
         "83929765",
         "67541860",
         "147570",
         "1160.035",
         "1.0108",
         "2.15"
        ],
        [
         "17",
         "186",
         "BRB",
         "Barbados",
         "Bridgetown",
         "North America",
         "281635",
         "280693",
         "278083",
         "274711",
         "264657",
         "258868",
         "253575",
         "241397",
         "430",
         "654.9651",
         "1.0015",
         "0.0"
        ],
        [
         "18",
         "96",
         "BLR",
         "Belarus",
         "Minsk",
         "Europe",
         "9534954",
         "9633740",
         "9700609",
         "9731427",
         "10256483",
         "10428525",
         "9817257",
         "9170786",
         "207600",
         "45.9295",
         "0.9955",
         "0.12"
        ],
        [
         "19",
         "81",
         "BEL",
         "Belgium",
         "Brussels",
         "Europe",
         "11655930",
         "11561717",
         "11248303",
         "10877947",
         "10264343",
         "9959560",
         "9828986",
         "9629376",
         "30528",
         "381.8111",
         "1.0038",
         "0.15"
        ],
        [
         "20",
         "177",
         "BLZ",
         "Belize",
         "Belmopan",
         "North America",
         "405272",
         "394921",
         "359871",
         "322106",
         "240406",
         "182589",
         "145133",
         "120905",
         "22966",
         "17.6466",
         "1.0131",
         "0.01"
        ],
        [
         "21",
         "77",
         "BEN",
         "Benin",
         "Porto-Novo",
         "Africa",
         "13352864",
         "12643123",
         "10932783",
         "9445710",
         "6998023",
         "5133419",
         "3833939",
         "3023443",
         "112622",
         "118.5635",
         "1.0274",
         "0.17"
        ],
        [
         "22",
         "206",
         "BMU",
         "Bermuda",
         "Hamilton",
         "North America",
         "64184",
         "64031",
         "63144",
         "63447",
         "61371",
         "57470",
         "53565",
         "52019",
         "54",
         "1188.5926",
         "1.0",
         "0.0"
        ],
        [
         "23",
         "165",
         "BTN",
         "Bhutan",
         "Thimphu",
         "Asia",
         "782455",
         "772506",
         "743274",
         "705516",
         "587207",
         "558442",
         "415257",
         "298894",
         "38394",
         "20.3796",
         "1.0064",
         "0.01"
        ],
        [
         "24",
         "80",
         "BOL",
         "Bolivia",
         "Sucre",
         "South America",
         "12224110",
         "11936162",
         "11090085",
         "10223270",
         "8592656",
         "7096194",
         "5736088",
         "4585693",
         "1098581",
         "11.1272",
         "1.012",
         "0.15"
        ],
        [
         "25",
         "137",
         "BIH",
         "Bosnia and Herzegovina",
         "Sarajevo",
         "Europe",
         "3233526",
         "3318407",
         "3524324",
         "3811088",
         "4179350",
         "4494310",
         "4199820",
         "3815561",
         "51209",
         "63.1437",
         "0.9886",
         "0.04"
        ],
        [
         "26",
         "144",
         "BWA",
         "Botswana",
         "Gaborone",
         "Africa",
         "2630296",
         "2546402",
         "2305171",
         "2091664",
         "1726985",
         "1341474",
         "938578",
         "592244",
         "582000",
         "4.5194",
         "1.0162",
         "0.03"
        ],
        [
         "27",
         "7",
         "BRA",
         "Brazil",
         "Brasilia",
         "South America",
         "215313498",
         "213196304",
         "205188205",
         "196353492",
         "175873720",
         "150706446",
         "122288383",
         "96369875",
         "8515767",
         "25.2841",
         "1.0046",
         "2.7"
        ],
        [
         "28",
         "221",
         "VGB",
         "British Virgin Islands",
         "Road Town",
         "North America",
         "31305",
         "30910",
         "29366",
         "27556",
         "20104",
         "15617",
         "11109",
         "9581",
         "151",
         "207.3179",
         "1.0059",
         "0.0"
        ],
        [
         "29",
         "175",
         "BRN",
         "Brunei",
         "Bandar Seri Begawan",
         "Asia",
         "449002",
         "441725",
         "421437",
         "396053",
         "333926",
         "261928",
         "187921",
         "133343",
         "5765",
         "77.8841",
         "1.0081",
         "0.01"
        ],
        [
         "30",
         "108",
         "BGR",
         "Bulgaria",
         "Sofia",
         "Europe",
         "6781953",
         "6979175",
         "7309253",
         "7592273",
         "8097691",
         "8767778",
         "8980606",
         "8582950",
         "110879",
         "61.1654",
         "0.9849",
         "0.09"
        ],
        [
         "31",
         "58",
         "BFA",
         "Burkina Faso",
         "Ouagadougou",
         "Africa",
         "22673762",
         "21522626",
         "18718019",
         "16116845",
         "11882888",
         "9131361",
         "6932967",
         "5611666",
         "272967",
         "83.0641",
         "1.0259",
         "0.28"
        ],
        [
         "32",
         "78",
         "BDI",
         "Burundi",
         "Bujumbura",
         "Africa",
         "12889576",
         "12220227",
         "10727148",
         "9126605",
         "6307659",
         "5483793",
         "4312834",
         "3497834",
         "27834",
         "463.0874",
         "1.027",
         "0.16"
        ],
        [
         "33",
         "73",
         "KHM",
         "Cambodia",
         "Phnom Penh",
         "Asia",
         "16767842",
         "16396860",
         "15417523",
         "14363532",
         "12118841",
         "8910808",
         "6198959",
         "6708525",
         "181035",
         "92.6221",
         "1.0108",
         "0.21"
        ],
        [
         "34",
         "53",
         "CMR",
         "Cameroon",
         "Yaounde",
         "Africa",
         "27914536",
         "26491087",
         "23012646",
         "19878036",
         "15091594",
         "11430520",
         "8519891",
         "6452787",
         "475442",
         "58.7128",
         "1.0263",
         "0.35"
        ],
        [
         "35",
         "39",
         "CAN",
         "Canada",
         "Ottawa",
         "North America",
         "38454327",
         "37888705",
         "35732126",
         "33963412",
         "30683313",
         "27657204",
         "24511510",
         "21434577",
         "9984670",
         "3.8513",
         "1.0078",
         "0.48"
        ],
        [
         "36",
         "171",
         "CPV",
         "Cape Verde",
         "Praia",
         "Africa",
         "593149",
         "582640",
         "552166",
         "521212",
         "458251",
         "364563",
         "317234",
         "287262",
         "4033",
         "147.0739",
         "1.0089",
         "0.01"
        ],
        [
         "37",
         "205",
         "CYM",
         "Cayman Islands",
         "George Town",
         "North America",
         "68706",
         "67311",
         "60911",
         "54074",
         "39658",
         "26027",
         "17100",
         "10533",
         "264",
         "260.25",
         "1.0084",
         "0.0"
        ],
        [
         "38",
         "117",
         "CAF",
         "Central African Republic",
         "Bangui",
         "Africa",
         "5579144",
         "5343020",
         "4819333",
         "4660067",
         "3759170",
         "2809221",
         "2415276",
         "2067356",
         "622984",
         "8.9555",
         "1.0224",
         "0.07"
        ],
        [
         "39",
         "69",
         "TCD",
         "Chad",
         "N'Djamena",
         "Africa",
         "17723315",
         "16644701",
         "14140274",
         "11894727",
         "8259137",
         "5827069",
         "4408230",
         "3667394",
         "1284000",
         "13.8032",
         "1.0316",
         "0.22"
        ],
        [
         "40",
         "65",
         "CHL",
         "Chile",
         "Santiago",
         "South America",
         "19603733",
         "19300315",
         "17870124",
         "17004162",
         "15351799",
         "13342868",
         "11469828",
         "9820481",
         "756102",
         "25.9274",
         "1.0057",
         "0.25"
        ],
        [
         "41",
         "1",
         "CHN",
         "China",
         "Beijing",
         "Asia",
         "1425887337",
         "1424929781",
         "1393715448",
         "1348191368",
         "1264099069",
         "1153704252",
         "982372466",
         "822534450",
         "9706961",
         "146.8933",
         "1.0",
         "17.88"
        ],
        [
         "42",
         "28",
         "COL",
         "Colombia",
         "Bogota",
         "South America",
         "51874024",
         "50930662",
         "47119728",
         "44816108",
         "39215135",
         "32601393",
         "26176195",
         "20905254",
         "1141748",
         "45.4339",
         "1.0069",
         "0.65"
        ],
        [
         "43",
         "163",
         "COM",
         "Comoros",
         "Moroni",
         "Africa",
         "836774",
         "806166",
         "730216",
         "656024",
         "536758",
         "431119",
         "328328",
         "242351",
         "1862",
         "449.3953",
         "1.0184",
         "0.01"
        ],
        [
         "44",
         "223",
         "COK",
         "Cook Islands",
         "Avarua",
         "Oceania",
         "17011",
         "17029",
         "17695",
         "17212",
         "15897",
         "17123",
         "17651",
         "20470",
         "236",
         "72.0805",
         "1.0005",
         "0.0"
        ],
        [
         "45",
         "124",
         "CRI",
         "Costa Rica",
         "San JosÃ©",
         "North America",
         "5180829",
         "5123105",
         "4895242",
         "4622252",
         "3979193",
         "3158253",
         "2414303",
         "1855697",
         "51100",
         "101.3861",
         "1.0052",
         "0.06"
        ],
        [
         "46",
         "130",
         "HRV",
         "Croatia",
         "Zagreb",
         "Europe",
         "4030358",
         "4096868",
         "4254815",
         "4368682",
         "4548434",
         "4873707",
         "4680144",
         "4492638",
         "56594",
         "71.2153",
         "0.9927",
         "0.05"
        ],
        [
         "47",
         "85",
         "CUB",
         "Cuba",
         "Havana",
         "North America",
         "11212191",
         "11300698",
         "11339894",
         "11290417",
         "11105791",
         "10626680",
         "9809107",
         "8869636",
         "109884",
         "102.0366",
         "0.9961",
         "0.14"
        ],
        [
         "48",
         "189",
         "CUW",
         "Curacao",
         "Willemstad",
         "North America",
         "191163",
         "189288",
         "169572",
         "159380",
         "141424",
         "155446",
         "156851",
         "150385",
         "444",
         "430.5473",
         "1.0043",
         "0.0"
        ],
        [
         "49",
         "158",
         "CYP",
         "Cyprus",
         "Nicosia",
         "Europe",
         "1251488",
         "1237537",
         "1187280",
         "1129686",
         "948237",
         "788500",
         "679327",
         "640804",
         "9251",
         "135.2814",
         "1.0059",
         "0.02"
        ]
       ],
       "shape": {
        "columns": 17,
        "rows": 234
       }
      },
      "text/html": [
       "<div>\n",
       "<style scoped>\n",
       "    .dataframe tbody tr th:only-of-type {\n",
       "        vertical-align: middle;\n",
       "    }\n",
       "\n",
       "    .dataframe tbody tr th {\n",
       "        vertical-align: top;\n",
       "    }\n",
       "\n",
       "    .dataframe thead th {\n",
       "        text-align: right;\n",
       "    }\n",
       "</style>\n",
       "<table border=\"1\" class=\"dataframe\">\n",
       "  <thead>\n",
       "    <tr style=\"text-align: right;\">\n",
       "      <th></th>\n",
       "      <th>Rank</th>\n",
       "      <th>CCA3</th>\n",
       "      <th>Country</th>\n",
       "      <th>Capital</th>\n",
       "      <th>Continent</th>\n",
       "      <th>2022 Population</th>\n",
       "      <th>2020 Population</th>\n",
       "      <th>2015 Population</th>\n",
       "      <th>2010 Population</th>\n",
       "      <th>2000 Population</th>\n",
       "      <th>1990 Population</th>\n",
       "      <th>1980 Population</th>\n",
       "      <th>1970 Population</th>\n",
       "      <th>Area (kmÂ²)</th>\n",
       "      <th>Density (per kmÂ²)</th>\n",
       "      <th>Growth Rate</th>\n",
       "      <th>World Population Percentage</th>\n",
       "    </tr>\n",
       "  </thead>\n",
       "  <tbody>\n",
       "    <tr>\n",
       "      <th>0</th>\n",
       "      <td>36</td>\n",
       "      <td>AFG</td>\n",
       "      <td>Afghanistan</td>\n",
       "      <td>Kabul</td>\n",
       "      <td>Asia</td>\n",
       "      <td>41128771</td>\n",
       "      <td>38972230</td>\n",
       "      <td>33753499</td>\n",
       "      <td>28189672</td>\n",
       "      <td>19542982</td>\n",
       "      <td>10694796</td>\n",
       "      <td>12486631</td>\n",
       "      <td>10752971</td>\n",
       "      <td>652230</td>\n",
       "      <td>63.0587</td>\n",
       "      <td>1.0257</td>\n",
       "      <td>0.52</td>\n",
       "    </tr>\n",
       "    <tr>\n",
       "      <th>1</th>\n",
       "      <td>138</td>\n",
       "      <td>ALB</td>\n",
       "      <td>Albania</td>\n",
       "      <td>Tirana</td>\n",
       "      <td>Europe</td>\n",
       "      <td>2842321</td>\n",
       "      <td>2866849</td>\n",
       "      <td>2882481</td>\n",
       "      <td>2913399</td>\n",
       "      <td>3182021</td>\n",
       "      <td>3295066</td>\n",
       "      <td>2941651</td>\n",
       "      <td>2324731</td>\n",
       "      <td>28748</td>\n",
       "      <td>98.8702</td>\n",
       "      <td>0.9957</td>\n",
       "      <td>0.04</td>\n",
       "    </tr>\n",
       "    <tr>\n",
       "      <th>2</th>\n",
       "      <td>34</td>\n",
       "      <td>DZA</td>\n",
       "      <td>Algeria</td>\n",
       "      <td>Algiers</td>\n",
       "      <td>Africa</td>\n",
       "      <td>44903225</td>\n",
       "      <td>43451666</td>\n",
       "      <td>39543154</td>\n",
       "      <td>35856344</td>\n",
       "      <td>30774621</td>\n",
       "      <td>25518074</td>\n",
       "      <td>18739378</td>\n",
       "      <td>13795915</td>\n",
       "      <td>2381741</td>\n",
       "      <td>18.8531</td>\n",
       "      <td>1.0164</td>\n",
       "      <td>0.56</td>\n",
       "    </tr>\n",
       "    <tr>\n",
       "      <th>3</th>\n",
       "      <td>213</td>\n",
       "      <td>ASM</td>\n",
       "      <td>American Samoa</td>\n",
       "      <td>Pago Pago</td>\n",
       "      <td>Oceania</td>\n",
       "      <td>44273</td>\n",
       "      <td>46189</td>\n",
       "      <td>51368</td>\n",
       "      <td>54849</td>\n",
       "      <td>58230</td>\n",
       "      <td>47818</td>\n",
       "      <td>32886</td>\n",
       "      <td>27075</td>\n",
       "      <td>199</td>\n",
       "      <td>222.4774</td>\n",
       "      <td>0.9831</td>\n",
       "      <td>0.00</td>\n",
       "    </tr>\n",
       "    <tr>\n",
       "      <th>4</th>\n",
       "      <td>203</td>\n",
       "      <td>AND</td>\n",
       "      <td>Andorra</td>\n",
       "      <td>Andorra la Vella</td>\n",
       "      <td>Europe</td>\n",
       "      <td>79824</td>\n",
       "      <td>77700</td>\n",
       "      <td>71746</td>\n",
       "      <td>71519</td>\n",
       "      <td>66097</td>\n",
       "      <td>53569</td>\n",
       "      <td>35611</td>\n",
       "      <td>19860</td>\n",
       "      <td>468</td>\n",
       "      <td>170.5641</td>\n",
       "      <td>1.0100</td>\n",
       "      <td>0.00</td>\n",
       "    </tr>\n",
       "    <tr>\n",
       "      <th>...</th>\n",
       "      <td>...</td>\n",
       "      <td>...</td>\n",
       "      <td>...</td>\n",
       "      <td>...</td>\n",
       "      <td>...</td>\n",
       "      <td>...</td>\n",
       "      <td>...</td>\n",
       "      <td>...</td>\n",
       "      <td>...</td>\n",
       "      <td>...</td>\n",
       "      <td>...</td>\n",
       "      <td>...</td>\n",
       "      <td>...</td>\n",
       "      <td>...</td>\n",
       "      <td>...</td>\n",
       "      <td>...</td>\n",
       "      <td>...</td>\n",
       "    </tr>\n",
       "    <tr>\n",
       "      <th>229</th>\n",
       "      <td>226</td>\n",
       "      <td>WLF</td>\n",
       "      <td>Wallis and Futuna</td>\n",
       "      <td>Mata-Utu</td>\n",
       "      <td>Oceania</td>\n",
       "      <td>11572</td>\n",
       "      <td>11655</td>\n",
       "      <td>12182</td>\n",
       "      <td>13142</td>\n",
       "      <td>14723</td>\n",
       "      <td>13454</td>\n",
       "      <td>11315</td>\n",
       "      <td>9377</td>\n",
       "      <td>142</td>\n",
       "      <td>81.4930</td>\n",
       "      <td>0.9953</td>\n",
       "      <td>0.00</td>\n",
       "    </tr>\n",
       "    <tr>\n",
       "      <th>230</th>\n",
       "      <td>172</td>\n",
       "      <td>ESH</td>\n",
       "      <td>Western Sahara</td>\n",
       "      <td>El AaiÃºn</td>\n",
       "      <td>Africa</td>\n",
       "      <td>575986</td>\n",
       "      <td>556048</td>\n",
       "      <td>491824</td>\n",
       "      <td>413296</td>\n",
       "      <td>270375</td>\n",
       "      <td>178529</td>\n",
       "      <td>116775</td>\n",
       "      <td>76371</td>\n",
       "      <td>266000</td>\n",
       "      <td>2.1654</td>\n",
       "      <td>1.0184</td>\n",
       "      <td>0.01</td>\n",
       "    </tr>\n",
       "    <tr>\n",
       "      <th>231</th>\n",
       "      <td>46</td>\n",
       "      <td>YEM</td>\n",
       "      <td>Yemen</td>\n",
       "      <td>Sanaa</td>\n",
       "      <td>Asia</td>\n",
       "      <td>33696614</td>\n",
       "      <td>32284046</td>\n",
       "      <td>28516545</td>\n",
       "      <td>24743946</td>\n",
       "      <td>18628700</td>\n",
       "      <td>13375121</td>\n",
       "      <td>9204938</td>\n",
       "      <td>6843607</td>\n",
       "      <td>527968</td>\n",
       "      <td>63.8232</td>\n",
       "      <td>1.0217</td>\n",
       "      <td>0.42</td>\n",
       "    </tr>\n",
       "    <tr>\n",
       "      <th>232</th>\n",
       "      <td>63</td>\n",
       "      <td>ZMB</td>\n",
       "      <td>Zambia</td>\n",
       "      <td>Lusaka</td>\n",
       "      <td>Africa</td>\n",
       "      <td>20017675</td>\n",
       "      <td>18927715</td>\n",
       "      <td>16248230</td>\n",
       "      <td>13792086</td>\n",
       "      <td>9891136</td>\n",
       "      <td>7686401</td>\n",
       "      <td>5720438</td>\n",
       "      <td>4281671</td>\n",
       "      <td>752612</td>\n",
       "      <td>26.5976</td>\n",
       "      <td>1.0280</td>\n",
       "      <td>0.25</td>\n",
       "    </tr>\n",
       "    <tr>\n",
       "      <th>233</th>\n",
       "      <td>74</td>\n",
       "      <td>ZWE</td>\n",
       "      <td>Zimbabwe</td>\n",
       "      <td>Harare</td>\n",
       "      <td>Africa</td>\n",
       "      <td>16320537</td>\n",
       "      <td>15669666</td>\n",
       "      <td>14154937</td>\n",
       "      <td>12839771</td>\n",
       "      <td>11834676</td>\n",
       "      <td>10113893</td>\n",
       "      <td>7049926</td>\n",
       "      <td>5202918</td>\n",
       "      <td>390757</td>\n",
       "      <td>41.7665</td>\n",
       "      <td>1.0204</td>\n",
       "      <td>0.20</td>\n",
       "    </tr>\n",
       "  </tbody>\n",
       "</table>\n",
       "<p>234 rows × 17 columns</p>\n",
       "</div>"
      ],
      "text/plain": [
       "     Rank CCA3            Country           Capital Continent  \\\n",
       "0      36  AFG        Afghanistan             Kabul      Asia   \n",
       "1     138  ALB            Albania            Tirana    Europe   \n",
       "2      34  DZA            Algeria           Algiers    Africa   \n",
       "3     213  ASM     American Samoa         Pago Pago   Oceania   \n",
       "4     203  AND            Andorra  Andorra la Vella    Europe   \n",
       "..    ...  ...                ...               ...       ...   \n",
       "229   226  WLF  Wallis and Futuna          Mata-Utu   Oceania   \n",
       "230   172  ESH     Western Sahara         El AaiÃºn    Africa   \n",
       "231    46  YEM              Yemen             Sanaa      Asia   \n",
       "232    63  ZMB             Zambia            Lusaka    Africa   \n",
       "233    74  ZWE           Zimbabwe            Harare    Africa   \n",
       "\n",
       "     2022 Population  2020 Population  2015 Population  2010 Population  \\\n",
       "0           41128771         38972230         33753499         28189672   \n",
       "1            2842321          2866849          2882481          2913399   \n",
       "2           44903225         43451666         39543154         35856344   \n",
       "3              44273            46189            51368            54849   \n",
       "4              79824            77700            71746            71519   \n",
       "..               ...              ...              ...              ...   \n",
       "229            11572            11655            12182            13142   \n",
       "230           575986           556048           491824           413296   \n",
       "231         33696614         32284046         28516545         24743946   \n",
       "232         20017675         18927715         16248230         13792086   \n",
       "233         16320537         15669666         14154937         12839771   \n",
       "\n",
       "     2000 Population  1990 Population  1980 Population  1970 Population  \\\n",
       "0           19542982         10694796         12486631         10752971   \n",
       "1            3182021          3295066          2941651          2324731   \n",
       "2           30774621         25518074         18739378         13795915   \n",
       "3              58230            47818            32886            27075   \n",
       "4              66097            53569            35611            19860   \n",
       "..               ...              ...              ...              ...   \n",
       "229            14723            13454            11315             9377   \n",
       "230           270375           178529           116775            76371   \n",
       "231         18628700         13375121          9204938          6843607   \n",
       "232          9891136          7686401          5720438          4281671   \n",
       "233         11834676         10113893          7049926          5202918   \n",
       "\n",
       "     Area (kmÂ²)  Density (per kmÂ²)  Growth Rate  World Population Percentage  \n",
       "0         652230             63.0587       1.0257                         0.52  \n",
       "1          28748             98.8702       0.9957                         0.04  \n",
       "2        2381741             18.8531       1.0164                         0.56  \n",
       "3            199            222.4774       0.9831                         0.00  \n",
       "4            468            170.5641       1.0100                         0.00  \n",
       "..           ...                 ...          ...                          ...  \n",
       "229          142             81.4930       0.9953                         0.00  \n",
       "230       266000              2.1654       1.0184                         0.01  \n",
       "231       527968             63.8232       1.0217                         0.42  \n",
       "232       752612             26.5976       1.0280                         0.25  \n",
       "233       390757             41.7665       1.0204                         0.20  \n",
       "\n",
       "[234 rows x 17 columns]"
      ]
     },
     "execution_count": 17,
     "metadata": {},
     "output_type": "execute_result"
    }
   ],
   "source": [
    "df = pd.read_excel(r\"D:\\Data Analyst Bootcamp\\Pandas for Data Analytics\\data\\world_population_excel_workbook.xlsx\")\n",
    "df"
   ]
  },
  {
   "cell_type": "code",
   "execution_count": 18,
   "id": "610477b7",
   "metadata": {},
   "outputs": [
    {
     "name": "stdout",
     "output_type": "stream",
     "text": [
      "<class 'pandas.core.frame.DataFrame'>\n",
      "RangeIndex: 234 entries, 0 to 233\n",
      "Data columns (total 17 columns):\n",
      " #   Column                       Non-Null Count  Dtype  \n",
      "---  ------                       --------------  -----  \n",
      " 0   Rank                         234 non-null    int64  \n",
      " 1   CCA3                         234 non-null    object \n",
      " 2   Country                      234 non-null    object \n",
      " 3   Capital                      234 non-null    object \n",
      " 4   Continent                    234 non-null    object \n",
      " 5   2022 Population              234 non-null    int64  \n",
      " 6   2020 Population              234 non-null    int64  \n",
      " 7   2015 Population              234 non-null    int64  \n",
      " 8   2010 Population              234 non-null    int64  \n",
      " 9   2000 Population              234 non-null    int64  \n",
      " 10  1990 Population              234 non-null    int64  \n",
      " 11  1980 Population              234 non-null    int64  \n",
      " 12  1970 Population              234 non-null    int64  \n",
      " 13  Area (kmÂ²)                  234 non-null    int64  \n",
      " 14  Density (per kmÂ²)           234 non-null    float64\n",
      " 15  Growth Rate                  234 non-null    float64\n",
      " 16  World Population Percentage  234 non-null    float64\n",
      "dtypes: float64(3), int64(10), object(4)\n",
      "memory usage: 31.2+ KB\n"
     ]
    }
   ],
   "source": [
    "df.info()"
   ]
  },
  {
   "cell_type": "code",
   "execution_count": 19,
   "id": "739b320f",
   "metadata": {},
   "outputs": [
    {
     "data": {
      "text/plain": [
       "(234, 17)"
      ]
     },
     "execution_count": 19,
     "metadata": {},
     "output_type": "execute_result"
    }
   ],
   "source": [
    "df.shape"
   ]
  },
  {
   "cell_type": "code",
   "execution_count": 20,
   "id": "ddfee9a5",
   "metadata": {},
   "outputs": [
    {
     "data": {
      "application/vnd.microsoft.datawrangler.viewer.v0+json": {
       "columns": [
        {
         "name": "index",
         "rawType": "int64",
         "type": "integer"
        },
        {
         "name": "Rank",
         "rawType": "int64",
         "type": "integer"
        },
        {
         "name": "CCA3",
         "rawType": "object",
         "type": "string"
        },
        {
         "name": "Country",
         "rawType": "object",
         "type": "string"
        },
        {
         "name": "Capital",
         "rawType": "object",
         "type": "string"
        },
        {
         "name": "Continent",
         "rawType": "object",
         "type": "string"
        },
        {
         "name": "2022 Population",
         "rawType": "int64",
         "type": "integer"
        },
        {
         "name": "2020 Population",
         "rawType": "int64",
         "type": "integer"
        },
        {
         "name": "2015 Population",
         "rawType": "int64",
         "type": "integer"
        },
        {
         "name": "2010 Population",
         "rawType": "int64",
         "type": "integer"
        },
        {
         "name": "2000 Population",
         "rawType": "int64",
         "type": "integer"
        },
        {
         "name": "1990 Population",
         "rawType": "int64",
         "type": "integer"
        },
        {
         "name": "1980 Population",
         "rawType": "int64",
         "type": "integer"
        },
        {
         "name": "1970 Population",
         "rawType": "int64",
         "type": "integer"
        },
        {
         "name": "Area (kmÂ²)",
         "rawType": "int64",
         "type": "integer"
        },
        {
         "name": "Density (per kmÂ²)",
         "rawType": "float64",
         "type": "float"
        },
        {
         "name": "Growth Rate",
         "rawType": "float64",
         "type": "float"
        },
        {
         "name": "World Population Percentage",
         "rawType": "float64",
         "type": "float"
        }
       ],
       "ref": "120cd44c-2855-40e1-a2c6-a335fec1967e",
       "rows": [
        [
         "0",
         "36",
         "AFG",
         "Afghanistan",
         "Kabul",
         "Asia",
         "41128771",
         "38972230",
         "33753499",
         "28189672",
         "19542982",
         "10694796",
         "12486631",
         "10752971",
         "652230",
         "63.0587",
         "1.0257",
         "0.52"
        ],
        [
         "1",
         "138",
         "ALB",
         "Albania",
         "Tirana",
         "Europe",
         "2842321",
         "2866849",
         "2882481",
         "2913399",
         "3182021",
         "3295066",
         "2941651",
         "2324731",
         "28748",
         "98.8702",
         "0.9957",
         "0.04"
        ],
        [
         "2",
         "34",
         "DZA",
         "Algeria",
         "Algiers",
         "Africa",
         "44903225",
         "43451666",
         "39543154",
         "35856344",
         "30774621",
         "25518074",
         "18739378",
         "13795915",
         "2381741",
         "18.8531",
         "1.0164",
         "0.56"
        ],
        [
         "3",
         "213",
         "ASM",
         "American Samoa",
         "Pago Pago",
         "Oceania",
         "44273",
         "46189",
         "51368",
         "54849",
         "58230",
         "47818",
         "32886",
         "27075",
         "199",
         "222.4774",
         "0.9831",
         "0.0"
        ],
        [
         "4",
         "203",
         "AND",
         "Andorra",
         "Andorra la Vella",
         "Europe",
         "79824",
         "77700",
         "71746",
         "71519",
         "66097",
         "53569",
         "35611",
         "19860",
         "468",
         "170.5641",
         "1.01",
         "0.0"
        ],
        [
         "5",
         "42",
         "AGO",
         "Angola",
         "Luanda",
         "Africa",
         "35588987",
         "33428485",
         "28127721",
         "23364185",
         "16394062",
         "11828638",
         "8330047",
         "6029700",
         "1246700",
         "28.5466",
         "1.0315",
         "0.45"
        ],
        [
         "6",
         "224",
         "AIA",
         "Anguilla",
         "The Valley",
         "North America",
         "15857",
         "15585",
         "14525",
         "13172",
         "11047",
         "8316",
         "6560",
         "6283",
         "91",
         "174.2527",
         "1.0066",
         "0.0"
        ],
        [
         "7",
         "201",
         "ATG",
         "Antigua and Barbuda",
         "Saint Johnâ€™s",
         "North America",
         "93763",
         "92664",
         "89941",
         "85695",
         "75055",
         "63328",
         "64888",
         "64516",
         "442",
         "212.1335",
         "1.0058",
         "0.0"
        ],
        [
         "8",
         "33",
         "ARG",
         "Argentina",
         "Buenos Aires",
         "South America",
         "45510318",
         "45036032",
         "43257065",
         "41100123",
         "37070774",
         "32637657",
         "28024803",
         "23842803",
         "2780400",
         "16.3683",
         "1.0052",
         "0.57"
        ],
        [
         "9",
         "140",
         "ARM",
         "Armenia",
         "Yerevan",
         "Asia",
         "2780469",
         "2805608",
         "2878595",
         "2946293",
         "3168523",
         "3556539",
         "3135123",
         "2534377",
         "29743",
         "93.4831",
         "0.9962",
         "0.03"
        ]
       ],
       "shape": {
        "columns": 17,
        "rows": 10
       }
      },
      "text/html": [
       "<div>\n",
       "<style scoped>\n",
       "    .dataframe tbody tr th:only-of-type {\n",
       "        vertical-align: middle;\n",
       "    }\n",
       "\n",
       "    .dataframe tbody tr th {\n",
       "        vertical-align: top;\n",
       "    }\n",
       "\n",
       "    .dataframe thead th {\n",
       "        text-align: right;\n",
       "    }\n",
       "</style>\n",
       "<table border=\"1\" class=\"dataframe\">\n",
       "  <thead>\n",
       "    <tr style=\"text-align: right;\">\n",
       "      <th></th>\n",
       "      <th>Rank</th>\n",
       "      <th>CCA3</th>\n",
       "      <th>Country</th>\n",
       "      <th>Capital</th>\n",
       "      <th>Continent</th>\n",
       "      <th>2022 Population</th>\n",
       "      <th>2020 Population</th>\n",
       "      <th>2015 Population</th>\n",
       "      <th>2010 Population</th>\n",
       "      <th>2000 Population</th>\n",
       "      <th>1990 Population</th>\n",
       "      <th>1980 Population</th>\n",
       "      <th>1970 Population</th>\n",
       "      <th>Area (kmÂ²)</th>\n",
       "      <th>Density (per kmÂ²)</th>\n",
       "      <th>Growth Rate</th>\n",
       "      <th>World Population Percentage</th>\n",
       "    </tr>\n",
       "  </thead>\n",
       "  <tbody>\n",
       "    <tr>\n",
       "      <th>0</th>\n",
       "      <td>36</td>\n",
       "      <td>AFG</td>\n",
       "      <td>Afghanistan</td>\n",
       "      <td>Kabul</td>\n",
       "      <td>Asia</td>\n",
       "      <td>41128771</td>\n",
       "      <td>38972230</td>\n",
       "      <td>33753499</td>\n",
       "      <td>28189672</td>\n",
       "      <td>19542982</td>\n",
       "      <td>10694796</td>\n",
       "      <td>12486631</td>\n",
       "      <td>10752971</td>\n",
       "      <td>652230</td>\n",
       "      <td>63.0587</td>\n",
       "      <td>1.0257</td>\n",
       "      <td>0.52</td>\n",
       "    </tr>\n",
       "    <tr>\n",
       "      <th>1</th>\n",
       "      <td>138</td>\n",
       "      <td>ALB</td>\n",
       "      <td>Albania</td>\n",
       "      <td>Tirana</td>\n",
       "      <td>Europe</td>\n",
       "      <td>2842321</td>\n",
       "      <td>2866849</td>\n",
       "      <td>2882481</td>\n",
       "      <td>2913399</td>\n",
       "      <td>3182021</td>\n",
       "      <td>3295066</td>\n",
       "      <td>2941651</td>\n",
       "      <td>2324731</td>\n",
       "      <td>28748</td>\n",
       "      <td>98.8702</td>\n",
       "      <td>0.9957</td>\n",
       "      <td>0.04</td>\n",
       "    </tr>\n",
       "    <tr>\n",
       "      <th>2</th>\n",
       "      <td>34</td>\n",
       "      <td>DZA</td>\n",
       "      <td>Algeria</td>\n",
       "      <td>Algiers</td>\n",
       "      <td>Africa</td>\n",
       "      <td>44903225</td>\n",
       "      <td>43451666</td>\n",
       "      <td>39543154</td>\n",
       "      <td>35856344</td>\n",
       "      <td>30774621</td>\n",
       "      <td>25518074</td>\n",
       "      <td>18739378</td>\n",
       "      <td>13795915</td>\n",
       "      <td>2381741</td>\n",
       "      <td>18.8531</td>\n",
       "      <td>1.0164</td>\n",
       "      <td>0.56</td>\n",
       "    </tr>\n",
       "    <tr>\n",
       "      <th>3</th>\n",
       "      <td>213</td>\n",
       "      <td>ASM</td>\n",
       "      <td>American Samoa</td>\n",
       "      <td>Pago Pago</td>\n",
       "      <td>Oceania</td>\n",
       "      <td>44273</td>\n",
       "      <td>46189</td>\n",
       "      <td>51368</td>\n",
       "      <td>54849</td>\n",
       "      <td>58230</td>\n",
       "      <td>47818</td>\n",
       "      <td>32886</td>\n",
       "      <td>27075</td>\n",
       "      <td>199</td>\n",
       "      <td>222.4774</td>\n",
       "      <td>0.9831</td>\n",
       "      <td>0.00</td>\n",
       "    </tr>\n",
       "    <tr>\n",
       "      <th>4</th>\n",
       "      <td>203</td>\n",
       "      <td>AND</td>\n",
       "      <td>Andorra</td>\n",
       "      <td>Andorra la Vella</td>\n",
       "      <td>Europe</td>\n",
       "      <td>79824</td>\n",
       "      <td>77700</td>\n",
       "      <td>71746</td>\n",
       "      <td>71519</td>\n",
       "      <td>66097</td>\n",
       "      <td>53569</td>\n",
       "      <td>35611</td>\n",
       "      <td>19860</td>\n",
       "      <td>468</td>\n",
       "      <td>170.5641</td>\n",
       "      <td>1.0100</td>\n",
       "      <td>0.00</td>\n",
       "    </tr>\n",
       "    <tr>\n",
       "      <th>5</th>\n",
       "      <td>42</td>\n",
       "      <td>AGO</td>\n",
       "      <td>Angola</td>\n",
       "      <td>Luanda</td>\n",
       "      <td>Africa</td>\n",
       "      <td>35588987</td>\n",
       "      <td>33428485</td>\n",
       "      <td>28127721</td>\n",
       "      <td>23364185</td>\n",
       "      <td>16394062</td>\n",
       "      <td>11828638</td>\n",
       "      <td>8330047</td>\n",
       "      <td>6029700</td>\n",
       "      <td>1246700</td>\n",
       "      <td>28.5466</td>\n",
       "      <td>1.0315</td>\n",
       "      <td>0.45</td>\n",
       "    </tr>\n",
       "    <tr>\n",
       "      <th>6</th>\n",
       "      <td>224</td>\n",
       "      <td>AIA</td>\n",
       "      <td>Anguilla</td>\n",
       "      <td>The Valley</td>\n",
       "      <td>North America</td>\n",
       "      <td>15857</td>\n",
       "      <td>15585</td>\n",
       "      <td>14525</td>\n",
       "      <td>13172</td>\n",
       "      <td>11047</td>\n",
       "      <td>8316</td>\n",
       "      <td>6560</td>\n",
       "      <td>6283</td>\n",
       "      <td>91</td>\n",
       "      <td>174.2527</td>\n",
       "      <td>1.0066</td>\n",
       "      <td>0.00</td>\n",
       "    </tr>\n",
       "    <tr>\n",
       "      <th>7</th>\n",
       "      <td>201</td>\n",
       "      <td>ATG</td>\n",
       "      <td>Antigua and Barbuda</td>\n",
       "      <td>Saint Johnâ€™s</td>\n",
       "      <td>North America</td>\n",
       "      <td>93763</td>\n",
       "      <td>92664</td>\n",
       "      <td>89941</td>\n",
       "      <td>85695</td>\n",
       "      <td>75055</td>\n",
       "      <td>63328</td>\n",
       "      <td>64888</td>\n",
       "      <td>64516</td>\n",
       "      <td>442</td>\n",
       "      <td>212.1335</td>\n",
       "      <td>1.0058</td>\n",
       "      <td>0.00</td>\n",
       "    </tr>\n",
       "    <tr>\n",
       "      <th>8</th>\n",
       "      <td>33</td>\n",
       "      <td>ARG</td>\n",
       "      <td>Argentina</td>\n",
       "      <td>Buenos Aires</td>\n",
       "      <td>South America</td>\n",
       "      <td>45510318</td>\n",
       "      <td>45036032</td>\n",
       "      <td>43257065</td>\n",
       "      <td>41100123</td>\n",
       "      <td>37070774</td>\n",
       "      <td>32637657</td>\n",
       "      <td>28024803</td>\n",
       "      <td>23842803</td>\n",
       "      <td>2780400</td>\n",
       "      <td>16.3683</td>\n",
       "      <td>1.0052</td>\n",
       "      <td>0.57</td>\n",
       "    </tr>\n",
       "    <tr>\n",
       "      <th>9</th>\n",
       "      <td>140</td>\n",
       "      <td>ARM</td>\n",
       "      <td>Armenia</td>\n",
       "      <td>Yerevan</td>\n",
       "      <td>Asia</td>\n",
       "      <td>2780469</td>\n",
       "      <td>2805608</td>\n",
       "      <td>2878595</td>\n",
       "      <td>2946293</td>\n",
       "      <td>3168523</td>\n",
       "      <td>3556539</td>\n",
       "      <td>3135123</td>\n",
       "      <td>2534377</td>\n",
       "      <td>29743</td>\n",
       "      <td>93.4831</td>\n",
       "      <td>0.9962</td>\n",
       "      <td>0.03</td>\n",
       "    </tr>\n",
       "  </tbody>\n",
       "</table>\n",
       "</div>"
      ],
      "text/plain": [
       "   Rank CCA3              Country           Capital      Continent  \\\n",
       "0    36  AFG          Afghanistan             Kabul           Asia   \n",
       "1   138  ALB              Albania            Tirana         Europe   \n",
       "2    34  DZA              Algeria           Algiers         Africa   \n",
       "3   213  ASM       American Samoa         Pago Pago        Oceania   \n",
       "4   203  AND              Andorra  Andorra la Vella         Europe   \n",
       "5    42  AGO               Angola            Luanda         Africa   \n",
       "6   224  AIA             Anguilla        The Valley  North America   \n",
       "7   201  ATG  Antigua and Barbuda    Saint Johnâ€™s  North America   \n",
       "8    33  ARG            Argentina      Buenos Aires  South America   \n",
       "9   140  ARM              Armenia           Yerevan           Asia   \n",
       "\n",
       "   2022 Population  2020 Population  2015 Population  2010 Population  \\\n",
       "0         41128771         38972230         33753499         28189672   \n",
       "1          2842321          2866849          2882481          2913399   \n",
       "2         44903225         43451666         39543154         35856344   \n",
       "3            44273            46189            51368            54849   \n",
       "4            79824            77700            71746            71519   \n",
       "5         35588987         33428485         28127721         23364185   \n",
       "6            15857            15585            14525            13172   \n",
       "7            93763            92664            89941            85695   \n",
       "8         45510318         45036032         43257065         41100123   \n",
       "9          2780469          2805608          2878595          2946293   \n",
       "\n",
       "   2000 Population  1990 Population  1980 Population  1970 Population  \\\n",
       "0         19542982         10694796         12486631         10752971   \n",
       "1          3182021          3295066          2941651          2324731   \n",
       "2         30774621         25518074         18739378         13795915   \n",
       "3            58230            47818            32886            27075   \n",
       "4            66097            53569            35611            19860   \n",
       "5         16394062         11828638          8330047          6029700   \n",
       "6            11047             8316             6560             6283   \n",
       "7            75055            63328            64888            64516   \n",
       "8         37070774         32637657         28024803         23842803   \n",
       "9          3168523          3556539          3135123          2534377   \n",
       "\n",
       "   Area (kmÂ²)  Density (per kmÂ²)  Growth Rate  World Population Percentage  \n",
       "0       652230             63.0587       1.0257                         0.52  \n",
       "1        28748             98.8702       0.9957                         0.04  \n",
       "2      2381741             18.8531       1.0164                         0.56  \n",
       "3          199            222.4774       0.9831                         0.00  \n",
       "4          468            170.5641       1.0100                         0.00  \n",
       "5      1246700             28.5466       1.0315                         0.45  \n",
       "6           91            174.2527       1.0066                         0.00  \n",
       "7          442            212.1335       1.0058                         0.00  \n",
       "8      2780400             16.3683       1.0052                         0.57  \n",
       "9        29743             93.4831       0.9962                         0.03  "
      ]
     },
     "execution_count": 20,
     "metadata": {},
     "output_type": "execute_result"
    }
   ],
   "source": [
    "df.head(10)"
   ]
  },
  {
   "cell_type": "code",
   "execution_count": 21,
   "id": "92485fae",
   "metadata": {},
   "outputs": [
    {
     "data": {
      "application/vnd.microsoft.datawrangler.viewer.v0+json": {
       "columns": [
        {
         "name": "index",
         "rawType": "int64",
         "type": "integer"
        },
        {
         "name": "Rank",
         "rawType": "int64",
         "type": "integer"
        },
        {
         "name": "CCA3",
         "rawType": "object",
         "type": "string"
        },
        {
         "name": "Country",
         "rawType": "object",
         "type": "string"
        },
        {
         "name": "Capital",
         "rawType": "object",
         "type": "string"
        },
        {
         "name": "Continent",
         "rawType": "object",
         "type": "string"
        },
        {
         "name": "2022 Population",
         "rawType": "int64",
         "type": "integer"
        },
        {
         "name": "2020 Population",
         "rawType": "int64",
         "type": "integer"
        },
        {
         "name": "2015 Population",
         "rawType": "int64",
         "type": "integer"
        },
        {
         "name": "2010 Population",
         "rawType": "int64",
         "type": "integer"
        },
        {
         "name": "2000 Population",
         "rawType": "int64",
         "type": "integer"
        },
        {
         "name": "1990 Population",
         "rawType": "int64",
         "type": "integer"
        },
        {
         "name": "1980 Population",
         "rawType": "int64",
         "type": "integer"
        },
        {
         "name": "1970 Population",
         "rawType": "int64",
         "type": "integer"
        },
        {
         "name": "Area (kmÂ²)",
         "rawType": "int64",
         "type": "integer"
        },
        {
         "name": "Density (per kmÂ²)",
         "rawType": "float64",
         "type": "float"
        },
        {
         "name": "Growth Rate",
         "rawType": "float64",
         "type": "float"
        },
        {
         "name": "World Population Percentage",
         "rawType": "float64",
         "type": "float"
        }
       ],
       "ref": "c7ebb099-05ac-45a5-a8fd-6bc02a80521d",
       "rows": [
        [
         "224",
         "43",
         "UZB",
         "Uzbekistan",
         "Tashkent",
         "Asia",
         "34627652",
         "33526656",
         "30949417",
         "28614227",
         "24925554",
         "20579100",
         "15947129",
         "12011361",
         "447400",
         "77.3975",
         "1.016",
         "0.43"
        ],
        [
         "225",
         "181",
         "VUT",
         "Vanuatu",
         "Port-Vila",
         "Oceania",
         "326740",
         "311685",
         "276438",
         "245453",
         "192074",
         "150882",
         "118156",
         "87019",
         "12189",
         "26.8061",
         "1.0238",
         "0.0"
        ],
        [
         "226",
         "234",
         "VAT",
         "Vatican City",
         "Vatican City",
         "Europe",
         "510",
         "520",
         "564",
         "596",
         "651",
         "700",
         "733",
         "752",
         "1",
         "510.0",
         "0.998",
         "0.0"
        ],
        [
         "227",
         "51",
         "VEN",
         "Venezuela",
         "Caracas",
         "South America",
         "28301696",
         "28490453",
         "30529716",
         "28715022",
         "24427729",
         "19750579",
         "15210443",
         "11355475",
         "916445",
         "30.882",
         "1.0036",
         "0.35"
        ],
        [
         "228",
         "16",
         "VNM",
         "Vietnam",
         "Hanoi",
         "Asia",
         "98186856",
         "96648685",
         "92191398",
         "87411012",
         "79001142",
         "66912613",
         "52968270",
         "41928849",
         "331212",
         "296.4472",
         "1.0074",
         "1.23"
        ],
        [
         "229",
         "226",
         "WLF",
         "Wallis and Futuna",
         "Mata-Utu",
         "Oceania",
         "11572",
         "11655",
         "12182",
         "13142",
         "14723",
         "13454",
         "11315",
         "9377",
         "142",
         "81.493",
         "0.9953",
         "0.0"
        ],
        [
         "230",
         "172",
         "ESH",
         "Western Sahara",
         "El AaiÃºn",
         "Africa",
         "575986",
         "556048",
         "491824",
         "413296",
         "270375",
         "178529",
         "116775",
         "76371",
         "266000",
         "2.1654",
         "1.0184",
         "0.01"
        ],
        [
         "231",
         "46",
         "YEM",
         "Yemen",
         "Sanaa",
         "Asia",
         "33696614",
         "32284046",
         "28516545",
         "24743946",
         "18628700",
         "13375121",
         "9204938",
         "6843607",
         "527968",
         "63.8232",
         "1.0217",
         "0.42"
        ],
        [
         "232",
         "63",
         "ZMB",
         "Zambia",
         "Lusaka",
         "Africa",
         "20017675",
         "18927715",
         "16248230",
         "13792086",
         "9891136",
         "7686401",
         "5720438",
         "4281671",
         "752612",
         "26.5976",
         "1.028",
         "0.25"
        ],
        [
         "233",
         "74",
         "ZWE",
         "Zimbabwe",
         "Harare",
         "Africa",
         "16320537",
         "15669666",
         "14154937",
         "12839771",
         "11834676",
         "10113893",
         "7049926",
         "5202918",
         "390757",
         "41.7665",
         "1.0204",
         "0.2"
        ]
       ],
       "shape": {
        "columns": 17,
        "rows": 10
       }
      },
      "text/html": [
       "<div>\n",
       "<style scoped>\n",
       "    .dataframe tbody tr th:only-of-type {\n",
       "        vertical-align: middle;\n",
       "    }\n",
       "\n",
       "    .dataframe tbody tr th {\n",
       "        vertical-align: top;\n",
       "    }\n",
       "\n",
       "    .dataframe thead th {\n",
       "        text-align: right;\n",
       "    }\n",
       "</style>\n",
       "<table border=\"1\" class=\"dataframe\">\n",
       "  <thead>\n",
       "    <tr style=\"text-align: right;\">\n",
       "      <th></th>\n",
       "      <th>Rank</th>\n",
       "      <th>CCA3</th>\n",
       "      <th>Country</th>\n",
       "      <th>Capital</th>\n",
       "      <th>Continent</th>\n",
       "      <th>2022 Population</th>\n",
       "      <th>2020 Population</th>\n",
       "      <th>2015 Population</th>\n",
       "      <th>2010 Population</th>\n",
       "      <th>2000 Population</th>\n",
       "      <th>1990 Population</th>\n",
       "      <th>1980 Population</th>\n",
       "      <th>1970 Population</th>\n",
       "      <th>Area (kmÂ²)</th>\n",
       "      <th>Density (per kmÂ²)</th>\n",
       "      <th>Growth Rate</th>\n",
       "      <th>World Population Percentage</th>\n",
       "    </tr>\n",
       "  </thead>\n",
       "  <tbody>\n",
       "    <tr>\n",
       "      <th>224</th>\n",
       "      <td>43</td>\n",
       "      <td>UZB</td>\n",
       "      <td>Uzbekistan</td>\n",
       "      <td>Tashkent</td>\n",
       "      <td>Asia</td>\n",
       "      <td>34627652</td>\n",
       "      <td>33526656</td>\n",
       "      <td>30949417</td>\n",
       "      <td>28614227</td>\n",
       "      <td>24925554</td>\n",
       "      <td>20579100</td>\n",
       "      <td>15947129</td>\n",
       "      <td>12011361</td>\n",
       "      <td>447400</td>\n",
       "      <td>77.3975</td>\n",
       "      <td>1.0160</td>\n",
       "      <td>0.43</td>\n",
       "    </tr>\n",
       "    <tr>\n",
       "      <th>225</th>\n",
       "      <td>181</td>\n",
       "      <td>VUT</td>\n",
       "      <td>Vanuatu</td>\n",
       "      <td>Port-Vila</td>\n",
       "      <td>Oceania</td>\n",
       "      <td>326740</td>\n",
       "      <td>311685</td>\n",
       "      <td>276438</td>\n",
       "      <td>245453</td>\n",
       "      <td>192074</td>\n",
       "      <td>150882</td>\n",
       "      <td>118156</td>\n",
       "      <td>87019</td>\n",
       "      <td>12189</td>\n",
       "      <td>26.8061</td>\n",
       "      <td>1.0238</td>\n",
       "      <td>0.00</td>\n",
       "    </tr>\n",
       "    <tr>\n",
       "      <th>226</th>\n",
       "      <td>234</td>\n",
       "      <td>VAT</td>\n",
       "      <td>Vatican City</td>\n",
       "      <td>Vatican City</td>\n",
       "      <td>Europe</td>\n",
       "      <td>510</td>\n",
       "      <td>520</td>\n",
       "      <td>564</td>\n",
       "      <td>596</td>\n",
       "      <td>651</td>\n",
       "      <td>700</td>\n",
       "      <td>733</td>\n",
       "      <td>752</td>\n",
       "      <td>1</td>\n",
       "      <td>510.0000</td>\n",
       "      <td>0.9980</td>\n",
       "      <td>0.00</td>\n",
       "    </tr>\n",
       "    <tr>\n",
       "      <th>227</th>\n",
       "      <td>51</td>\n",
       "      <td>VEN</td>\n",
       "      <td>Venezuela</td>\n",
       "      <td>Caracas</td>\n",
       "      <td>South America</td>\n",
       "      <td>28301696</td>\n",
       "      <td>28490453</td>\n",
       "      <td>30529716</td>\n",
       "      <td>28715022</td>\n",
       "      <td>24427729</td>\n",
       "      <td>19750579</td>\n",
       "      <td>15210443</td>\n",
       "      <td>11355475</td>\n",
       "      <td>916445</td>\n",
       "      <td>30.8820</td>\n",
       "      <td>1.0036</td>\n",
       "      <td>0.35</td>\n",
       "    </tr>\n",
       "    <tr>\n",
       "      <th>228</th>\n",
       "      <td>16</td>\n",
       "      <td>VNM</td>\n",
       "      <td>Vietnam</td>\n",
       "      <td>Hanoi</td>\n",
       "      <td>Asia</td>\n",
       "      <td>98186856</td>\n",
       "      <td>96648685</td>\n",
       "      <td>92191398</td>\n",
       "      <td>87411012</td>\n",
       "      <td>79001142</td>\n",
       "      <td>66912613</td>\n",
       "      <td>52968270</td>\n",
       "      <td>41928849</td>\n",
       "      <td>331212</td>\n",
       "      <td>296.4472</td>\n",
       "      <td>1.0074</td>\n",
       "      <td>1.23</td>\n",
       "    </tr>\n",
       "    <tr>\n",
       "      <th>229</th>\n",
       "      <td>226</td>\n",
       "      <td>WLF</td>\n",
       "      <td>Wallis and Futuna</td>\n",
       "      <td>Mata-Utu</td>\n",
       "      <td>Oceania</td>\n",
       "      <td>11572</td>\n",
       "      <td>11655</td>\n",
       "      <td>12182</td>\n",
       "      <td>13142</td>\n",
       "      <td>14723</td>\n",
       "      <td>13454</td>\n",
       "      <td>11315</td>\n",
       "      <td>9377</td>\n",
       "      <td>142</td>\n",
       "      <td>81.4930</td>\n",
       "      <td>0.9953</td>\n",
       "      <td>0.00</td>\n",
       "    </tr>\n",
       "    <tr>\n",
       "      <th>230</th>\n",
       "      <td>172</td>\n",
       "      <td>ESH</td>\n",
       "      <td>Western Sahara</td>\n",
       "      <td>El AaiÃºn</td>\n",
       "      <td>Africa</td>\n",
       "      <td>575986</td>\n",
       "      <td>556048</td>\n",
       "      <td>491824</td>\n",
       "      <td>413296</td>\n",
       "      <td>270375</td>\n",
       "      <td>178529</td>\n",
       "      <td>116775</td>\n",
       "      <td>76371</td>\n",
       "      <td>266000</td>\n",
       "      <td>2.1654</td>\n",
       "      <td>1.0184</td>\n",
       "      <td>0.01</td>\n",
       "    </tr>\n",
       "    <tr>\n",
       "      <th>231</th>\n",
       "      <td>46</td>\n",
       "      <td>YEM</td>\n",
       "      <td>Yemen</td>\n",
       "      <td>Sanaa</td>\n",
       "      <td>Asia</td>\n",
       "      <td>33696614</td>\n",
       "      <td>32284046</td>\n",
       "      <td>28516545</td>\n",
       "      <td>24743946</td>\n",
       "      <td>18628700</td>\n",
       "      <td>13375121</td>\n",
       "      <td>9204938</td>\n",
       "      <td>6843607</td>\n",
       "      <td>527968</td>\n",
       "      <td>63.8232</td>\n",
       "      <td>1.0217</td>\n",
       "      <td>0.42</td>\n",
       "    </tr>\n",
       "    <tr>\n",
       "      <th>232</th>\n",
       "      <td>63</td>\n",
       "      <td>ZMB</td>\n",
       "      <td>Zambia</td>\n",
       "      <td>Lusaka</td>\n",
       "      <td>Africa</td>\n",
       "      <td>20017675</td>\n",
       "      <td>18927715</td>\n",
       "      <td>16248230</td>\n",
       "      <td>13792086</td>\n",
       "      <td>9891136</td>\n",
       "      <td>7686401</td>\n",
       "      <td>5720438</td>\n",
       "      <td>4281671</td>\n",
       "      <td>752612</td>\n",
       "      <td>26.5976</td>\n",
       "      <td>1.0280</td>\n",
       "      <td>0.25</td>\n",
       "    </tr>\n",
       "    <tr>\n",
       "      <th>233</th>\n",
       "      <td>74</td>\n",
       "      <td>ZWE</td>\n",
       "      <td>Zimbabwe</td>\n",
       "      <td>Harare</td>\n",
       "      <td>Africa</td>\n",
       "      <td>16320537</td>\n",
       "      <td>15669666</td>\n",
       "      <td>14154937</td>\n",
       "      <td>12839771</td>\n",
       "      <td>11834676</td>\n",
       "      <td>10113893</td>\n",
       "      <td>7049926</td>\n",
       "      <td>5202918</td>\n",
       "      <td>390757</td>\n",
       "      <td>41.7665</td>\n",
       "      <td>1.0204</td>\n",
       "      <td>0.20</td>\n",
       "    </tr>\n",
       "  </tbody>\n",
       "</table>\n",
       "</div>"
      ],
      "text/plain": [
       "     Rank CCA3            Country       Capital      Continent  \\\n",
       "224    43  UZB         Uzbekistan      Tashkent           Asia   \n",
       "225   181  VUT            Vanuatu     Port-Vila        Oceania   \n",
       "226   234  VAT       Vatican City  Vatican City         Europe   \n",
       "227    51  VEN          Venezuela       Caracas  South America   \n",
       "228    16  VNM            Vietnam         Hanoi           Asia   \n",
       "229   226  WLF  Wallis and Futuna      Mata-Utu        Oceania   \n",
       "230   172  ESH     Western Sahara     El AaiÃºn         Africa   \n",
       "231    46  YEM              Yemen         Sanaa           Asia   \n",
       "232    63  ZMB             Zambia        Lusaka         Africa   \n",
       "233    74  ZWE           Zimbabwe        Harare         Africa   \n",
       "\n",
       "     2022 Population  2020 Population  2015 Population  2010 Population  \\\n",
       "224         34627652         33526656         30949417         28614227   \n",
       "225           326740           311685           276438           245453   \n",
       "226              510              520              564              596   \n",
       "227         28301696         28490453         30529716         28715022   \n",
       "228         98186856         96648685         92191398         87411012   \n",
       "229            11572            11655            12182            13142   \n",
       "230           575986           556048           491824           413296   \n",
       "231         33696614         32284046         28516545         24743946   \n",
       "232         20017675         18927715         16248230         13792086   \n",
       "233         16320537         15669666         14154937         12839771   \n",
       "\n",
       "     2000 Population  1990 Population  1980 Population  1970 Population  \\\n",
       "224         24925554         20579100         15947129         12011361   \n",
       "225           192074           150882           118156            87019   \n",
       "226              651              700              733              752   \n",
       "227         24427729         19750579         15210443         11355475   \n",
       "228         79001142         66912613         52968270         41928849   \n",
       "229            14723            13454            11315             9377   \n",
       "230           270375           178529           116775            76371   \n",
       "231         18628700         13375121          9204938          6843607   \n",
       "232          9891136          7686401          5720438          4281671   \n",
       "233         11834676         10113893          7049926          5202918   \n",
       "\n",
       "     Area (kmÂ²)  Density (per kmÂ²)  Growth Rate  World Population Percentage  \n",
       "224       447400             77.3975       1.0160                         0.43  \n",
       "225        12189             26.8061       1.0238                         0.00  \n",
       "226            1            510.0000       0.9980                         0.00  \n",
       "227       916445             30.8820       1.0036                         0.35  \n",
       "228       331212            296.4472       1.0074                         1.23  \n",
       "229          142             81.4930       0.9953                         0.00  \n",
       "230       266000              2.1654       1.0184                         0.01  \n",
       "231       527968             63.8232       1.0217                         0.42  \n",
       "232       752612             26.5976       1.0280                         0.25  \n",
       "233       390757             41.7665       1.0204                         0.20  "
      ]
     },
     "execution_count": 21,
     "metadata": {},
     "output_type": "execute_result"
    }
   ],
   "source": [
    "df.tail(10)"
   ]
  },
  {
   "cell_type": "code",
   "execution_count": 22,
   "id": "32d6a3ff",
   "metadata": {},
   "outputs": [
    {
     "data": {
      "application/vnd.microsoft.datawrangler.viewer.v0+json": {
       "columns": [
        {
         "name": "index",
         "rawType": "int64",
         "type": "integer"
        },
        {
         "name": "Country",
         "rawType": "object",
         "type": "string"
        },
        {
         "name": "Capital",
         "rawType": "object",
         "type": "string"
        },
        {
         "name": "Continent",
         "rawType": "object",
         "type": "string"
        },
        {
         "name": "2022 Population",
         "rawType": "int64",
         "type": "integer"
        }
       ],
       "ref": "35c0ed2f-7041-410e-b0fc-b95da17132fe",
       "rows": [
        [
         "0",
         "Afghanistan",
         "Kabul",
         "Asia",
         "41128771"
        ],
        [
         "1",
         "Albania",
         "Tirana",
         "Europe",
         "2842321"
        ],
        [
         "2",
         "Algeria",
         "Algiers",
         "Africa",
         "44903225"
        ],
        [
         "3",
         "American Samoa",
         "Pago Pago",
         "Oceania",
         "44273"
        ],
        [
         "4",
         "Andorra",
         "Andorra la Vella",
         "Europe",
         "79824"
        ],
        [
         "5",
         "Angola",
         "Luanda",
         "Africa",
         "35588987"
        ],
        [
         "6",
         "Anguilla",
         "The Valley",
         "North America",
         "15857"
        ],
        [
         "7",
         "Antigua and Barbuda",
         "Saint Johnâ€™s",
         "North America",
         "93763"
        ],
        [
         "8",
         "Argentina",
         "Buenos Aires",
         "South America",
         "45510318"
        ],
        [
         "9",
         "Armenia",
         "Yerevan",
         "Asia",
         "2780469"
        ],
        [
         "10",
         "Aruba",
         "Oranjestad",
         "North America",
         "106445"
        ],
        [
         "11",
         "Australia",
         "Canberra",
         "Oceania",
         "26177413"
        ],
        [
         "12",
         "Austria",
         "Vienna",
         "Europe",
         "8939617"
        ],
        [
         "13",
         "Azerbaijan",
         "Baku",
         "Asia",
         "10358074"
        ],
        [
         "14",
         "Bahamas",
         "Nassau",
         "North America",
         "409984"
        ],
        [
         "15",
         "Bahrain",
         "Manama",
         "Asia",
         "1472233"
        ],
        [
         "16",
         "Bangladesh",
         "Dhaka",
         "Asia",
         "171186372"
        ],
        [
         "17",
         "Barbados",
         "Bridgetown",
         "North America",
         "281635"
        ],
        [
         "18",
         "Belarus",
         "Minsk",
         "Europe",
         "9534954"
        ],
        [
         "19",
         "Belgium",
         "Brussels",
         "Europe",
         "11655930"
        ],
        [
         "20",
         "Belize",
         "Belmopan",
         "North America",
         "405272"
        ],
        [
         "21",
         "Benin",
         "Porto-Novo",
         "Africa",
         "13352864"
        ],
        [
         "22",
         "Bermuda",
         "Hamilton",
         "North America",
         "64184"
        ],
        [
         "23",
         "Bhutan",
         "Thimphu",
         "Asia",
         "782455"
        ],
        [
         "24",
         "Bolivia",
         "Sucre",
         "South America",
         "12224110"
        ],
        [
         "25",
         "Bosnia and Herzegovina",
         "Sarajevo",
         "Europe",
         "3233526"
        ],
        [
         "26",
         "Botswana",
         "Gaborone",
         "Africa",
         "2630296"
        ],
        [
         "27",
         "Brazil",
         "Brasilia",
         "South America",
         "215313498"
        ],
        [
         "28",
         "British Virgin Islands",
         "Road Town",
         "North America",
         "31305"
        ],
        [
         "29",
         "Brunei",
         "Bandar Seri Begawan",
         "Asia",
         "449002"
        ],
        [
         "30",
         "Bulgaria",
         "Sofia",
         "Europe",
         "6781953"
        ],
        [
         "31",
         "Burkina Faso",
         "Ouagadougou",
         "Africa",
         "22673762"
        ],
        [
         "32",
         "Burundi",
         "Bujumbura",
         "Africa",
         "12889576"
        ],
        [
         "33",
         "Cambodia",
         "Phnom Penh",
         "Asia",
         "16767842"
        ],
        [
         "34",
         "Cameroon",
         "Yaounde",
         "Africa",
         "27914536"
        ],
        [
         "35",
         "Canada",
         "Ottawa",
         "North America",
         "38454327"
        ],
        [
         "36",
         "Cape Verde",
         "Praia",
         "Africa",
         "593149"
        ],
        [
         "37",
         "Cayman Islands",
         "George Town",
         "North America",
         "68706"
        ],
        [
         "38",
         "Central African Republic",
         "Bangui",
         "Africa",
         "5579144"
        ],
        [
         "39",
         "Chad",
         "N'Djamena",
         "Africa",
         "17723315"
        ],
        [
         "40",
         "Chile",
         "Santiago",
         "South America",
         "19603733"
        ],
        [
         "41",
         "China",
         "Beijing",
         "Asia",
         "1425887337"
        ],
        [
         "42",
         "Colombia",
         "Bogota",
         "South America",
         "51874024"
        ],
        [
         "43",
         "Comoros",
         "Moroni",
         "Africa",
         "836774"
        ],
        [
         "44",
         "Cook Islands",
         "Avarua",
         "Oceania",
         "17011"
        ],
        [
         "45",
         "Costa Rica",
         "San JosÃ©",
         "North America",
         "5180829"
        ],
        [
         "46",
         "Croatia",
         "Zagreb",
         "Europe",
         "4030358"
        ],
        [
         "47",
         "Cuba",
         "Havana",
         "North America",
         "11212191"
        ],
        [
         "48",
         "Curacao",
         "Willemstad",
         "North America",
         "191163"
        ],
        [
         "49",
         "Cyprus",
         "Nicosia",
         "Europe",
         "1251488"
        ]
       ],
       "shape": {
        "columns": 4,
        "rows": 234
       }
      },
      "text/html": [
       "<div>\n",
       "<style scoped>\n",
       "    .dataframe tbody tr th:only-of-type {\n",
       "        vertical-align: middle;\n",
       "    }\n",
       "\n",
       "    .dataframe tbody tr th {\n",
       "        vertical-align: top;\n",
       "    }\n",
       "\n",
       "    .dataframe thead th {\n",
       "        text-align: right;\n",
       "    }\n",
       "</style>\n",
       "<table border=\"1\" class=\"dataframe\">\n",
       "  <thead>\n",
       "    <tr style=\"text-align: right;\">\n",
       "      <th></th>\n",
       "      <th>Country</th>\n",
       "      <th>Capital</th>\n",
       "      <th>Continent</th>\n",
       "      <th>2022 Population</th>\n",
       "    </tr>\n",
       "  </thead>\n",
       "  <tbody>\n",
       "    <tr>\n",
       "      <th>0</th>\n",
       "      <td>Afghanistan</td>\n",
       "      <td>Kabul</td>\n",
       "      <td>Asia</td>\n",
       "      <td>41128771</td>\n",
       "    </tr>\n",
       "    <tr>\n",
       "      <th>1</th>\n",
       "      <td>Albania</td>\n",
       "      <td>Tirana</td>\n",
       "      <td>Europe</td>\n",
       "      <td>2842321</td>\n",
       "    </tr>\n",
       "    <tr>\n",
       "      <th>2</th>\n",
       "      <td>Algeria</td>\n",
       "      <td>Algiers</td>\n",
       "      <td>Africa</td>\n",
       "      <td>44903225</td>\n",
       "    </tr>\n",
       "    <tr>\n",
       "      <th>3</th>\n",
       "      <td>American Samoa</td>\n",
       "      <td>Pago Pago</td>\n",
       "      <td>Oceania</td>\n",
       "      <td>44273</td>\n",
       "    </tr>\n",
       "    <tr>\n",
       "      <th>4</th>\n",
       "      <td>Andorra</td>\n",
       "      <td>Andorra la Vella</td>\n",
       "      <td>Europe</td>\n",
       "      <td>79824</td>\n",
       "    </tr>\n",
       "    <tr>\n",
       "      <th>...</th>\n",
       "      <td>...</td>\n",
       "      <td>...</td>\n",
       "      <td>...</td>\n",
       "      <td>...</td>\n",
       "    </tr>\n",
       "    <tr>\n",
       "      <th>229</th>\n",
       "      <td>Wallis and Futuna</td>\n",
       "      <td>Mata-Utu</td>\n",
       "      <td>Oceania</td>\n",
       "      <td>11572</td>\n",
       "    </tr>\n",
       "    <tr>\n",
       "      <th>230</th>\n",
       "      <td>Western Sahara</td>\n",
       "      <td>El AaiÃºn</td>\n",
       "      <td>Africa</td>\n",
       "      <td>575986</td>\n",
       "    </tr>\n",
       "    <tr>\n",
       "      <th>231</th>\n",
       "      <td>Yemen</td>\n",
       "      <td>Sanaa</td>\n",
       "      <td>Asia</td>\n",
       "      <td>33696614</td>\n",
       "    </tr>\n",
       "    <tr>\n",
       "      <th>232</th>\n",
       "      <td>Zambia</td>\n",
       "      <td>Lusaka</td>\n",
       "      <td>Africa</td>\n",
       "      <td>20017675</td>\n",
       "    </tr>\n",
       "    <tr>\n",
       "      <th>233</th>\n",
       "      <td>Zimbabwe</td>\n",
       "      <td>Harare</td>\n",
       "      <td>Africa</td>\n",
       "      <td>16320537</td>\n",
       "    </tr>\n",
       "  </tbody>\n",
       "</table>\n",
       "<p>234 rows × 4 columns</p>\n",
       "</div>"
      ],
      "text/plain": [
       "               Country           Capital Continent  2022 Population\n",
       "0          Afghanistan             Kabul      Asia         41128771\n",
       "1              Albania            Tirana    Europe          2842321\n",
       "2              Algeria           Algiers    Africa         44903225\n",
       "3       American Samoa         Pago Pago   Oceania            44273\n",
       "4              Andorra  Andorra la Vella    Europe            79824\n",
       "..                 ...               ...       ...              ...\n",
       "229  Wallis and Futuna          Mata-Utu   Oceania            11572\n",
       "230     Western Sahara         El AaiÃºn    Africa           575986\n",
       "231              Yemen             Sanaa      Asia         33696614\n",
       "232             Zambia            Lusaka    Africa         20017675\n",
       "233           Zimbabwe            Harare    Africa         16320537\n",
       "\n",
       "[234 rows x 4 columns]"
      ]
     },
     "execution_count": 22,
     "metadata": {},
     "output_type": "execute_result"
    }
   ],
   "source": [
    "df[[\"Country\", \"Capital\",\"Continent\",\"2022 Population\"]]"
   ]
  },
  {
   "cell_type": "code",
   "execution_count": 23,
   "id": "b5993211",
   "metadata": {},
   "outputs": [
    {
     "data": {
      "application/vnd.microsoft.datawrangler.viewer.v0+json": {
       "columns": [
        {
         "name": "index",
         "rawType": "object",
         "type": "string"
        },
        {
         "name": "20",
         "rawType": "object",
         "type": "unknown"
        }
       ],
       "ref": "52a63399-0cd4-4570-9be4-e17730781333",
       "rows": [
        [
         "Rank",
         "177"
        ],
        [
         "CCA3",
         "BLZ"
        ],
        [
         "Country",
         "Belize"
        ],
        [
         "Capital",
         "Belmopan"
        ],
        [
         "Continent",
         "North America"
        ],
        [
         "2022 Population",
         "405272"
        ],
        [
         "2020 Population",
         "394921"
        ],
        [
         "2015 Population",
         "359871"
        ],
        [
         "2010 Population",
         "322106"
        ],
        [
         "2000 Population",
         "240406"
        ],
        [
         "1990 Population",
         "182589"
        ],
        [
         "1980 Population",
         "145133"
        ],
        [
         "1970 Population",
         "120905"
        ],
        [
         "Area (kmÂ²)",
         "22966"
        ],
        [
         "Density (per kmÂ²)",
         "17.6466"
        ],
        [
         "Growth Rate",
         "1.0131"
        ],
        [
         "World Population Percentage",
         "0.01"
        ]
       ],
       "shape": {
        "columns": 1,
        "rows": 17
       }
      },
      "text/plain": [
       "Rank                                     177\n",
       "CCA3                                     BLZ\n",
       "Country                               Belize\n",
       "Capital                             Belmopan\n",
       "Continent                      North America\n",
       "2022 Population                       405272\n",
       "2020 Population                       394921\n",
       "2015 Population                       359871\n",
       "2010 Population                       322106\n",
       "2000 Population                       240406\n",
       "1990 Population                       182589\n",
       "1980 Population                       145133\n",
       "1970 Population                       120905\n",
       "Area (kmÂ²)                            22966\n",
       "Density (per kmÂ²)                   17.6466\n",
       "Growth Rate                           1.0131\n",
       "World Population Percentage             0.01\n",
       "Name: 20, dtype: object"
      ]
     },
     "execution_count": 23,
     "metadata": {},
     "output_type": "execute_result"
    }
   ],
   "source": [
    "# show a particular row data\n",
    "df.loc[20]"
   ]
  },
  {
   "cell_type": "code",
   "execution_count": 24,
   "id": "1224e456",
   "metadata": {},
   "outputs": [
    {
     "data": {
      "application/vnd.microsoft.datawrangler.viewer.v0+json": {
       "columns": [
        {
         "name": "index",
         "rawType": "object",
         "type": "string"
        },
        {
         "name": "20",
         "rawType": "object",
         "type": "unknown"
        }
       ],
       "ref": "3890a9f8-2e81-44bf-ab0c-a30a91f5d893",
       "rows": [
        [
         "Rank",
         "177"
        ],
        [
         "CCA3",
         "BLZ"
        ],
        [
         "Country",
         "Belize"
        ],
        [
         "Capital",
         "Belmopan"
        ],
        [
         "Continent",
         "North America"
        ],
        [
         "2022 Population",
         "405272"
        ],
        [
         "2020 Population",
         "394921"
        ],
        [
         "2015 Population",
         "359871"
        ],
        [
         "2010 Population",
         "322106"
        ],
        [
         "2000 Population",
         "240406"
        ],
        [
         "1990 Population",
         "182589"
        ],
        [
         "1980 Population",
         "145133"
        ],
        [
         "1970 Population",
         "120905"
        ],
        [
         "Area (kmÂ²)",
         "22966"
        ],
        [
         "Density (per kmÂ²)",
         "17.6466"
        ],
        [
         "Growth Rate",
         "1.0131"
        ],
        [
         "World Population Percentage",
         "0.01"
        ]
       ],
       "shape": {
        "columns": 1,
        "rows": 17
       }
      },
      "text/plain": [
       "Rank                                     177\n",
       "CCA3                                     BLZ\n",
       "Country                               Belize\n",
       "Capital                             Belmopan\n",
       "Continent                      North America\n",
       "2022 Population                       405272\n",
       "2020 Population                       394921\n",
       "2015 Population                       359871\n",
       "2010 Population                       322106\n",
       "2000 Population                       240406\n",
       "1990 Population                       182589\n",
       "1980 Population                       145133\n",
       "1970 Population                       120905\n",
       "Area (kmÂ²)                            22966\n",
       "Density (per kmÂ²)                   17.6466\n",
       "Growth Rate                           1.0131\n",
       "World Population Percentage             0.01\n",
       "Name: 20, dtype: object"
      ]
     },
     "execution_count": 24,
     "metadata": {},
     "output_type": "execute_result"
    }
   ],
   "source": [
    "df.iloc[20]"
   ]
  },
  {
   "cell_type": "code",
   "execution_count": 25,
   "id": "0efd9d09",
   "metadata": {},
   "outputs": [
    {
     "data": {
      "application/vnd.microsoft.datawrangler.viewer.v0+json": {
       "columns": [
        {
         "name": "index",
         "rawType": "int64",
         "type": "integer"
        },
        {
         "name": "Version",
         "rawType": "float64",
         "type": "float"
        },
        {
         "name": "MessageId",
         "rawType": "float64",
         "type": "float"
        },
        {
         "name": "DateRequest",
         "rawType": "object",
         "type": "unknown"
        },
        {
         "name": "TimeRequest",
         "rawType": "object",
         "type": "unknown"
        },
        {
         "name": "RequestingSite",
         "rawType": "object",
         "type": "unknown"
        },
        {
         "name": "ServicingSite",
         "rawType": "object",
         "type": "unknown"
        },
        {
         "name": "TaskDescription",
         "rawType": "object",
         "type": "unknown"
        },
        {
         "name": "CtImageFile",
         "rawType": "object",
         "type": "unknown"
        },
        {
         "name": "SeriesInstanceUid",
         "rawType": "object",
         "type": "unknown"
        },
        {
         "name": "DateService",
         "rawType": "object",
         "type": "unknown"
        },
        {
         "name": "TimeService",
         "rawType": "object",
         "type": "unknown"
        },
        {
         "name": "ResponseDescription",
         "rawType": "object",
         "type": "unknown"
        },
        {
         "name": "StudyInstanceUID",
         "rawType": "object",
         "type": "unknown"
        },
        {
         "name": "annotationVersion",
         "rawType": "float64",
         "type": "float"
        },
        {
         "name": "servicingRadiologistID",
         "rawType": "object",
         "type": "unknown"
        },
        {
         "name": "unblindedReadNodule",
         "rawType": "object",
         "type": "unknown"
        },
        {
         "name": "nonNodule",
         "rawType": "object",
         "type": "unknown"
        }
       ],
       "ref": "e2b7ba18-b8fb-453b-9ef8-eacb89067275",
       "rows": [
        [
         "0",
         "1.8",
         "2980194.0",
         "2005-10-26",
         "00:00:00",
         "removed",
         "removed",
         "Second unblinded read",
         "removed",
         "1.3.6.1.4.1.14519.5.2.1.6279.6001.267957701183569638795986183786",
         "2005-10-26",
         "00:00:00",
         "1 - Reading complete",
         "1.3.6.1.4.1.14519.5.2.1.6279.6001.160881090830720390023167668360",
         null,
         null,
         null,
         null
        ],
        [
         "1",
         null,
         null,
         null,
         null,
         null,
         null,
         null,
         null,
         null,
         null,
         null,
         null,
         null,
         "3.12",
         "anon",
         "\n",
         "\n"
        ],
        [
         "2",
         null,
         null,
         null,
         null,
         null,
         null,
         null,
         null,
         null,
         null,
         null,
         null,
         null,
         "3.12",
         "anon",
         "\n      ",
         "\n      "
        ],
        [
         "3",
         null,
         null,
         null,
         null,
         null,
         null,
         null,
         null,
         null,
         null,
         null,
         null,
         null,
         "3.12",
         "anon",
         "\n",
         "\n"
        ],
        [
         "4",
         null,
         null,
         null,
         null,
         null,
         null,
         null,
         null,
         null,
         null,
         null,
         null,
         null,
         "3.12",
         "anon",
         "\n\t\t\t\t",
         "\n\t\t\t\t"
        ]
       ],
       "shape": {
        "columns": 17,
        "rows": 5
       }
      },
      "text/html": [
       "<div>\n",
       "<style scoped>\n",
       "    .dataframe tbody tr th:only-of-type {\n",
       "        vertical-align: middle;\n",
       "    }\n",
       "\n",
       "    .dataframe tbody tr th {\n",
       "        vertical-align: top;\n",
       "    }\n",
       "\n",
       "    .dataframe thead th {\n",
       "        text-align: right;\n",
       "    }\n",
       "</style>\n",
       "<table border=\"1\" class=\"dataframe\">\n",
       "  <thead>\n",
       "    <tr style=\"text-align: right;\">\n",
       "      <th></th>\n",
       "      <th>Version</th>\n",
       "      <th>MessageId</th>\n",
       "      <th>DateRequest</th>\n",
       "      <th>TimeRequest</th>\n",
       "      <th>RequestingSite</th>\n",
       "      <th>ServicingSite</th>\n",
       "      <th>TaskDescription</th>\n",
       "      <th>CtImageFile</th>\n",
       "      <th>SeriesInstanceUid</th>\n",
       "      <th>DateService</th>\n",
       "      <th>TimeService</th>\n",
       "      <th>ResponseDescription</th>\n",
       "      <th>StudyInstanceUID</th>\n",
       "      <th>annotationVersion</th>\n",
       "      <th>servicingRadiologistID</th>\n",
       "      <th>unblindedReadNodule</th>\n",
       "      <th>nonNodule</th>\n",
       "    </tr>\n",
       "  </thead>\n",
       "  <tbody>\n",
       "    <tr>\n",
       "      <th>0</th>\n",
       "      <td>1.8</td>\n",
       "      <td>2980194.0</td>\n",
       "      <td>2005-10-26</td>\n",
       "      <td>00:00:00</td>\n",
       "      <td>removed</td>\n",
       "      <td>removed</td>\n",
       "      <td>Second unblinded read</td>\n",
       "      <td>removed</td>\n",
       "      <td>1.3.6.1.4.1.14519.5.2.1.6279.6001.267957701183...</td>\n",
       "      <td>2005-10-26</td>\n",
       "      <td>00:00:00</td>\n",
       "      <td>1 - Reading complete</td>\n",
       "      <td>1.3.6.1.4.1.14519.5.2.1.6279.6001.160881090830...</td>\n",
       "      <td>NaN</td>\n",
       "      <td>None</td>\n",
       "      <td>None</td>\n",
       "      <td>None</td>\n",
       "    </tr>\n",
       "    <tr>\n",
       "      <th>1</th>\n",
       "      <td>NaN</td>\n",
       "      <td>NaN</td>\n",
       "      <td>None</td>\n",
       "      <td>None</td>\n",
       "      <td>None</td>\n",
       "      <td>None</td>\n",
       "      <td>None</td>\n",
       "      <td>None</td>\n",
       "      <td>None</td>\n",
       "      <td>None</td>\n",
       "      <td>None</td>\n",
       "      <td>None</td>\n",
       "      <td>None</td>\n",
       "      <td>3.12</td>\n",
       "      <td>anon</td>\n",
       "      <td>\\n</td>\n",
       "      <td>\\n</td>\n",
       "    </tr>\n",
       "    <tr>\n",
       "      <th>2</th>\n",
       "      <td>NaN</td>\n",
       "      <td>NaN</td>\n",
       "      <td>None</td>\n",
       "      <td>None</td>\n",
       "      <td>None</td>\n",
       "      <td>None</td>\n",
       "      <td>None</td>\n",
       "      <td>None</td>\n",
       "      <td>None</td>\n",
       "      <td>None</td>\n",
       "      <td>None</td>\n",
       "      <td>None</td>\n",
       "      <td>None</td>\n",
       "      <td>3.12</td>\n",
       "      <td>anon</td>\n",
       "      <td>\\n</td>\n",
       "      <td>\\n</td>\n",
       "    </tr>\n",
       "    <tr>\n",
       "      <th>3</th>\n",
       "      <td>NaN</td>\n",
       "      <td>NaN</td>\n",
       "      <td>None</td>\n",
       "      <td>None</td>\n",
       "      <td>None</td>\n",
       "      <td>None</td>\n",
       "      <td>None</td>\n",
       "      <td>None</td>\n",
       "      <td>None</td>\n",
       "      <td>None</td>\n",
       "      <td>None</td>\n",
       "      <td>None</td>\n",
       "      <td>None</td>\n",
       "      <td>3.12</td>\n",
       "      <td>anon</td>\n",
       "      <td>\\n</td>\n",
       "      <td>\\n</td>\n",
       "    </tr>\n",
       "    <tr>\n",
       "      <th>4</th>\n",
       "      <td>NaN</td>\n",
       "      <td>NaN</td>\n",
       "      <td>None</td>\n",
       "      <td>None</td>\n",
       "      <td>None</td>\n",
       "      <td>None</td>\n",
       "      <td>None</td>\n",
       "      <td>None</td>\n",
       "      <td>None</td>\n",
       "      <td>None</td>\n",
       "      <td>None</td>\n",
       "      <td>None</td>\n",
       "      <td>None</td>\n",
       "      <td>3.12</td>\n",
       "      <td>anon</td>\n",
       "      <td>\\n\\t\\t\\t\\t</td>\n",
       "      <td>\\n\\t\\t\\t\\t</td>\n",
       "    </tr>\n",
       "  </tbody>\n",
       "</table>\n",
       "</div>"
      ],
      "text/plain": [
       "   Version  MessageId DateRequest TimeRequest RequestingSite ServicingSite  \\\n",
       "0      1.8  2980194.0  2005-10-26    00:00:00        removed       removed   \n",
       "1      NaN        NaN        None        None           None          None   \n",
       "2      NaN        NaN        None        None           None          None   \n",
       "3      NaN        NaN        None        None           None          None   \n",
       "4      NaN        NaN        None        None           None          None   \n",
       "\n",
       "         TaskDescription CtImageFile  \\\n",
       "0  Second unblinded read     removed   \n",
       "1                   None        None   \n",
       "2                   None        None   \n",
       "3                   None        None   \n",
       "4                   None        None   \n",
       "\n",
       "                                   SeriesInstanceUid DateService TimeService  \\\n",
       "0  1.3.6.1.4.1.14519.5.2.1.6279.6001.267957701183...  2005-10-26    00:00:00   \n",
       "1                                               None        None        None   \n",
       "2                                               None        None        None   \n",
       "3                                               None        None        None   \n",
       "4                                               None        None        None   \n",
       "\n",
       "    ResponseDescription                                   StudyInstanceUID  \\\n",
       "0  1 - Reading complete  1.3.6.1.4.1.14519.5.2.1.6279.6001.160881090830...   \n",
       "1                  None                                               None   \n",
       "2                  None                                               None   \n",
       "3                  None                                               None   \n",
       "4                  None                                               None   \n",
       "\n",
       "   annotationVersion servicingRadiologistID unblindedReadNodule   nonNodule  \n",
       "0                NaN                   None                None        None  \n",
       "1               3.12                   anon                  \\n          \\n  \n",
       "2               3.12                   anon            \\n          \\n        \n",
       "3               3.12                   anon                  \\n          \\n  \n",
       "4               3.12                   anon          \\n\\t\\t\\t\\t  \\n\\t\\t\\t\\t  "
      ]
     },
     "execution_count": 25,
     "metadata": {},
     "output_type": "execute_result"
    }
   ],
   "source": [
    "# Read the 039.xml file and display all data as a table\n",
    "import pandas as pd\n",
    "df_xml = pd.read_xml(r\"D:\\Data Analyst Bootcamp\\Pandas for Data Analytics\\data\\039.xml\")\n",
    "df_xml"
   ]
  }
 ],
 "metadata": {
  "kernelspec": {
   "display_name": "anaconda-ml-ai",
   "language": "python",
   "name": "python3"
  },
  "language_info": {
   "codemirror_mode": {
    "name": "ipython",
    "version": 3
   },
   "file_extension": ".py",
   "mimetype": "text/x-python",
   "name": "python",
   "nbconvert_exporter": "python",
   "pygments_lexer": "ipython3",
   "version": "3.11.11"
  }
 },
 "nbformat": 4,
 "nbformat_minor": 5
}
