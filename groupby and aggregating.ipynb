{
 "cells": [
  {
   "cell_type": "markdown",
   "id": "0ac35f0a",
   "metadata": {},
   "source": [
    "### Group by and aggregating function"
   ]
  },
  {
   "cell_type": "code",
   "execution_count": 1,
   "id": "3c520b7a",
   "metadata": {},
   "outputs": [],
   "source": [
    "import pandas as pd"
   ]
  },
  {
   "cell_type": "code",
   "execution_count": 2,
   "id": "d5ab1a4a",
   "metadata": {},
   "outputs": [
    {
     "data": {
      "application/vnd.microsoft.datawrangler.viewer.v0+json": {
       "columns": [
        {
         "name": "index",
         "rawType": "int64",
         "type": "integer"
        },
        {
         "name": "Flavor",
         "rawType": "object",
         "type": "string"
        },
        {
         "name": "Base Flavor",
         "rawType": "object",
         "type": "string"
        },
        {
         "name": "Liked",
         "rawType": "object",
         "type": "string"
        },
        {
         "name": "Flavor Rating",
         "rawType": "float64",
         "type": "float"
        },
        {
         "name": "Texture Rating",
         "rawType": "float64",
         "type": "float"
        },
        {
         "name": "Total Rating",
         "rawType": "float64",
         "type": "float"
        }
       ],
       "ref": "5f97c44b-4100-4090-823b-0f7d07b42201",
       "rows": [
        [
         "0",
         "Mint Chocolate Chip",
         "Vanilla",
         "Yes",
         "10.0",
         "8.0",
         "18.0"
        ],
        [
         "1",
         "Chocolate",
         "Chocolate",
         "Yes",
         "8.8",
         "7.6",
         "16.6"
        ],
        [
         "2",
         "Vanilla",
         "Vanilla",
         "No",
         "4.7",
         "5.0",
         "9.7"
        ],
        [
         "3",
         "Cookie Dough",
         "Vanilla",
         "Yes",
         "6.9",
         "6.5",
         "13.4"
        ],
        [
         "4",
         "Rocky Road",
         "Chocolate",
         "Yes",
         "8.2",
         "7.0",
         "15.2"
        ],
        [
         "5",
         "Pistachio",
         "Vanilla",
         "No",
         "2.3",
         "3.4",
         "5.7"
        ],
        [
         "6",
         "Cake Batter",
         "Vanilla",
         "Yes",
         "6.5",
         "6.0",
         "12.5"
        ],
        [
         "7",
         "Neapolitan",
         "Vanilla",
         "No",
         "3.8",
         "5.0",
         "8.8"
        ],
        [
         "8",
         "Chocolte Fudge Brownie",
         "Chocolate",
         "Yes",
         "8.2",
         "7.1",
         "15.3"
        ]
       ],
       "shape": {
        "columns": 6,
        "rows": 9
       }
      },
      "text/html": [
       "<div>\n",
       "<style scoped>\n",
       "    .dataframe tbody tr th:only-of-type {\n",
       "        vertical-align: middle;\n",
       "    }\n",
       "\n",
       "    .dataframe tbody tr th {\n",
       "        vertical-align: top;\n",
       "    }\n",
       "\n",
       "    .dataframe thead th {\n",
       "        text-align: right;\n",
       "    }\n",
       "</style>\n",
       "<table border=\"1\" class=\"dataframe\">\n",
       "  <thead>\n",
       "    <tr style=\"text-align: right;\">\n",
       "      <th></th>\n",
       "      <th>Flavor</th>\n",
       "      <th>Base Flavor</th>\n",
       "      <th>Liked</th>\n",
       "      <th>Flavor Rating</th>\n",
       "      <th>Texture Rating</th>\n",
       "      <th>Total Rating</th>\n",
       "    </tr>\n",
       "  </thead>\n",
       "  <tbody>\n",
       "    <tr>\n",
       "      <th>0</th>\n",
       "      <td>Mint Chocolate Chip</td>\n",
       "      <td>Vanilla</td>\n",
       "      <td>Yes</td>\n",
       "      <td>10.0</td>\n",
       "      <td>8.0</td>\n",
       "      <td>18.0</td>\n",
       "    </tr>\n",
       "    <tr>\n",
       "      <th>1</th>\n",
       "      <td>Chocolate</td>\n",
       "      <td>Chocolate</td>\n",
       "      <td>Yes</td>\n",
       "      <td>8.8</td>\n",
       "      <td>7.6</td>\n",
       "      <td>16.6</td>\n",
       "    </tr>\n",
       "    <tr>\n",
       "      <th>2</th>\n",
       "      <td>Vanilla</td>\n",
       "      <td>Vanilla</td>\n",
       "      <td>No</td>\n",
       "      <td>4.7</td>\n",
       "      <td>5.0</td>\n",
       "      <td>9.7</td>\n",
       "    </tr>\n",
       "    <tr>\n",
       "      <th>3</th>\n",
       "      <td>Cookie Dough</td>\n",
       "      <td>Vanilla</td>\n",
       "      <td>Yes</td>\n",
       "      <td>6.9</td>\n",
       "      <td>6.5</td>\n",
       "      <td>13.4</td>\n",
       "    </tr>\n",
       "    <tr>\n",
       "      <th>4</th>\n",
       "      <td>Rocky Road</td>\n",
       "      <td>Chocolate</td>\n",
       "      <td>Yes</td>\n",
       "      <td>8.2</td>\n",
       "      <td>7.0</td>\n",
       "      <td>15.2</td>\n",
       "    </tr>\n",
       "    <tr>\n",
       "      <th>5</th>\n",
       "      <td>Pistachio</td>\n",
       "      <td>Vanilla</td>\n",
       "      <td>No</td>\n",
       "      <td>2.3</td>\n",
       "      <td>3.4</td>\n",
       "      <td>5.7</td>\n",
       "    </tr>\n",
       "    <tr>\n",
       "      <th>6</th>\n",
       "      <td>Cake Batter</td>\n",
       "      <td>Vanilla</td>\n",
       "      <td>Yes</td>\n",
       "      <td>6.5</td>\n",
       "      <td>6.0</td>\n",
       "      <td>12.5</td>\n",
       "    </tr>\n",
       "    <tr>\n",
       "      <th>7</th>\n",
       "      <td>Neapolitan</td>\n",
       "      <td>Vanilla</td>\n",
       "      <td>No</td>\n",
       "      <td>3.8</td>\n",
       "      <td>5.0</td>\n",
       "      <td>8.8</td>\n",
       "    </tr>\n",
       "    <tr>\n",
       "      <th>8</th>\n",
       "      <td>Chocolte Fudge Brownie</td>\n",
       "      <td>Chocolate</td>\n",
       "      <td>Yes</td>\n",
       "      <td>8.2</td>\n",
       "      <td>7.1</td>\n",
       "      <td>15.3</td>\n",
       "    </tr>\n",
       "  </tbody>\n",
       "</table>\n",
       "</div>"
      ],
      "text/plain": [
       "                   Flavor Base Flavor Liked  Flavor Rating  Texture Rating  \\\n",
       "0     Mint Chocolate Chip     Vanilla   Yes           10.0             8.0   \n",
       "1               Chocolate   Chocolate   Yes            8.8             7.6   \n",
       "2                 Vanilla     Vanilla    No            4.7             5.0   \n",
       "3            Cookie Dough     Vanilla   Yes            6.9             6.5   \n",
       "4              Rocky Road   Chocolate   Yes            8.2             7.0   \n",
       "5               Pistachio     Vanilla    No            2.3             3.4   \n",
       "6             Cake Batter     Vanilla   Yes            6.5             6.0   \n",
       "7              Neapolitan     Vanilla    No            3.8             5.0   \n",
       "8  Chocolte Fudge Brownie   Chocolate   Yes            8.2             7.1   \n",
       "\n",
       "   Total Rating  \n",
       "0          18.0  \n",
       "1          16.6  \n",
       "2           9.7  \n",
       "3          13.4  \n",
       "4          15.2  \n",
       "5           5.7  \n",
       "6          12.5  \n",
       "7           8.8  \n",
       "8          15.3  "
      ]
     },
     "execution_count": 2,
     "metadata": {},
     "output_type": "execute_result"
    }
   ],
   "source": [
    "df = pd.read_csv(r\"D:\\Data Analyst Bootcamp\\Pandas for Data Analytics\\data\\Flavors.csv\")\n",
    "df"
   ]
  },
  {
   "cell_type": "code",
   "execution_count": null,
   "id": "f8344a37",
   "metadata": {},
   "outputs": [
    {
     "data": {
      "text/plain": [
       "<pandas.core.groupby.generic.DataFrameGroupBy object at 0x000001FF5B1E3110>"
      ]
     },
     "execution_count": 10,
     "metadata": {},
     "output_type": "execute_result"
    }
   ],
   "source": [
    "group_by_flavor = df.groupby('Base Flavor')"
   ]
  },
  {
   "cell_type": "code",
   "execution_count": 11,
   "id": "9fa32d07",
   "metadata": {},
   "outputs": [
    {
     "data": {
      "application/vnd.microsoft.datawrangler.viewer.v0+json": {
       "columns": [
        {
         "name": "Base Flavor",
         "rawType": "object",
         "type": "string"
        },
        {
         "name": "Flavor Rating",
         "rawType": "float64",
         "type": "float"
        },
        {
         "name": "Texture Rating",
         "rawType": "float64",
         "type": "float"
        },
        {
         "name": "Total Rating",
         "rawType": "float64",
         "type": "float"
        }
       ],
       "ref": "44f1c253-d212-4b52-a04a-edb3a821e4a8",
       "rows": [
        [
         "Chocolate",
         "8.4",
         "7.233333333333333",
         "15.700000000000001"
        ],
        [
         "Vanilla",
         "5.7",
         "5.6499999999999995",
         "11.35"
        ]
       ],
       "shape": {
        "columns": 3,
        "rows": 2
       }
      },
      "text/html": [
       "<div>\n",
       "<style scoped>\n",
       "    .dataframe tbody tr th:only-of-type {\n",
       "        vertical-align: middle;\n",
       "    }\n",
       "\n",
       "    .dataframe tbody tr th {\n",
       "        vertical-align: top;\n",
       "    }\n",
       "\n",
       "    .dataframe thead th {\n",
       "        text-align: right;\n",
       "    }\n",
       "</style>\n",
       "<table border=\"1\" class=\"dataframe\">\n",
       "  <thead>\n",
       "    <tr style=\"text-align: right;\">\n",
       "      <th></th>\n",
       "      <th>Flavor Rating</th>\n",
       "      <th>Texture Rating</th>\n",
       "      <th>Total Rating</th>\n",
       "    </tr>\n",
       "    <tr>\n",
       "      <th>Base Flavor</th>\n",
       "      <th></th>\n",
       "      <th></th>\n",
       "      <th></th>\n",
       "    </tr>\n",
       "  </thead>\n",
       "  <tbody>\n",
       "    <tr>\n",
       "      <th>Chocolate</th>\n",
       "      <td>8.4</td>\n",
       "      <td>7.233333</td>\n",
       "      <td>15.70</td>\n",
       "    </tr>\n",
       "    <tr>\n",
       "      <th>Vanilla</th>\n",
       "      <td>5.7</td>\n",
       "      <td>5.650000</td>\n",
       "      <td>11.35</td>\n",
       "    </tr>\n",
       "  </tbody>\n",
       "</table>\n",
       "</div>"
      ],
      "text/plain": [
       "             Flavor Rating  Texture Rating  Total Rating\n",
       "Base Flavor                                             \n",
       "Chocolate              8.4        7.233333         15.70\n",
       "Vanilla                5.7        5.650000         11.35"
      ]
     },
     "execution_count": 11,
     "metadata": {},
     "output_type": "execute_result"
    }
   ],
   "source": [
    "group_by_flavor[['Flavor Rating', 'Texture Rating', 'Total Rating']].mean()"
   ]
  },
  {
   "cell_type": "code",
   "execution_count": 12,
   "id": "1e904ff4",
   "metadata": {},
   "outputs": [
    {
     "data": {
      "application/vnd.microsoft.datawrangler.viewer.v0+json": {
       "columns": [
        {
         "name": "Base Flavor",
         "rawType": "object",
         "type": "string"
        },
        {
         "name": "Flavor Rating",
         "rawType": "int64",
         "type": "integer"
        },
        {
         "name": "Texture Rating",
         "rawType": "int64",
         "type": "integer"
        },
        {
         "name": "Total Rating",
         "rawType": "int64",
         "type": "integer"
        }
       ],
       "ref": "7fec0a46-5011-4193-81f3-f003262dba5a",
       "rows": [
        [
         "Chocolate",
         "3",
         "3",
         "3"
        ],
        [
         "Vanilla",
         "6",
         "6",
         "6"
        ]
       ],
       "shape": {
        "columns": 3,
        "rows": 2
       }
      },
      "text/html": [
       "<div>\n",
       "<style scoped>\n",
       "    .dataframe tbody tr th:only-of-type {\n",
       "        vertical-align: middle;\n",
       "    }\n",
       "\n",
       "    .dataframe tbody tr th {\n",
       "        vertical-align: top;\n",
       "    }\n",
       "\n",
       "    .dataframe thead th {\n",
       "        text-align: right;\n",
       "    }\n",
       "</style>\n",
       "<table border=\"1\" class=\"dataframe\">\n",
       "  <thead>\n",
       "    <tr style=\"text-align: right;\">\n",
       "      <th></th>\n",
       "      <th>Flavor Rating</th>\n",
       "      <th>Texture Rating</th>\n",
       "      <th>Total Rating</th>\n",
       "    </tr>\n",
       "    <tr>\n",
       "      <th>Base Flavor</th>\n",
       "      <th></th>\n",
       "      <th></th>\n",
       "      <th></th>\n",
       "    </tr>\n",
       "  </thead>\n",
       "  <tbody>\n",
       "    <tr>\n",
       "      <th>Chocolate</th>\n",
       "      <td>3</td>\n",
       "      <td>3</td>\n",
       "      <td>3</td>\n",
       "    </tr>\n",
       "    <tr>\n",
       "      <th>Vanilla</th>\n",
       "      <td>6</td>\n",
       "      <td>6</td>\n",
       "      <td>6</td>\n",
       "    </tr>\n",
       "  </tbody>\n",
       "</table>\n",
       "</div>"
      ],
      "text/plain": [
       "             Flavor Rating  Texture Rating  Total Rating\n",
       "Base Flavor                                             \n",
       "Chocolate                3               3             3\n",
       "Vanilla                  6               6             6"
      ]
     },
     "execution_count": 12,
     "metadata": {},
     "output_type": "execute_result"
    }
   ],
   "source": [
    "group_by_flavor[['Flavor Rating', 'Texture Rating', 'Total Rating']].count()"
   ]
  },
  {
   "cell_type": "code",
   "execution_count": null,
   "id": "e2462b7b",
   "metadata": {},
   "outputs": [],
   "source": []
  }
 ],
 "metadata": {
  "kernelspec": {
   "display_name": "Python 3",
   "language": "python",
   "name": "python3"
  },
  "language_info": {
   "codemirror_mode": {
    "name": "ipython",
    "version": 3
   },
   "file_extension": ".py",
   "mimetype": "text/x-python",
   "name": "python",
   "nbconvert_exporter": "python",
   "pygments_lexer": "ipython3",
   "version": "3.11.9"
  }
 },
 "nbformat": 4,
 "nbformat_minor": 5
}
