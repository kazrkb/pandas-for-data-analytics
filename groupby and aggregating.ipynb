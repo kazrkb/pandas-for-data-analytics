{
 "cells": [
  {
   "cell_type": "markdown",
   "id": "0ac35f0a",
   "metadata": {},
   "source": [
    "### Group by and aggregating function"
   ]
  },
  {
   "cell_type": "markdown",
   "id": "4ba4484c",
   "metadata": {},
   "source": []
  }
 ],
 "metadata": {
  "language_info": {
   "name": "python"
  }
 },
 "nbformat": 4,
 "nbformat_minor": 5
}
