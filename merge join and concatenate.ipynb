{
 "cells": [
  {
   "cell_type": "markdown",
   "id": "ee809f42",
   "metadata": {},
   "source": [
    "## merge join concatenate"
   ]
  },
  {
   "cell_type": "code",
   "execution_count": 1,
   "id": "e1130bce",
   "metadata": {},
   "outputs": [],
   "source": [
    "import pandas as pd"
   ]
  },
  {
   "cell_type": "code",
   "execution_count": 2,
   "id": "e2c18eef",
   "metadata": {},
   "outputs": [
    {
     "data": {
      "application/vnd.microsoft.datawrangler.viewer.v0+json": {
       "columns": [
        {
         "name": "index",
         "rawType": "int64",
         "type": "integer"
        },
        {
         "name": "FellowshipID",
         "rawType": "int64",
         "type": "integer"
        },
        {
         "name": "FirstName",
         "rawType": "object",
         "type": "string"
        },
        {
         "name": "Skills",
         "rawType": "object",
         "type": "string"
        }
       ],
       "ref": "6bfddfc9-e3c4-47d5-96bd-979afc2caf74",
       "rows": [
        [
         "0",
         "1001",
         "Frodo",
         "Hiding"
        ],
        [
         "1",
         "1002",
         "Samwise",
         "Gardening"
        ],
        [
         "2",
         "1003",
         "Gandalf",
         "Spells"
        ],
        [
         "3",
         "1004",
         "Pippin",
         "Fireworks"
        ]
       ],
       "shape": {
        "columns": 3,
        "rows": 4
       }
      },
      "text/html": [
       "<div>\n",
       "<style scoped>\n",
       "    .dataframe tbody tr th:only-of-type {\n",
       "        vertical-align: middle;\n",
       "    }\n",
       "\n",
       "    .dataframe tbody tr th {\n",
       "        vertical-align: top;\n",
       "    }\n",
       "\n",
       "    .dataframe thead th {\n",
       "        text-align: right;\n",
       "    }\n",
       "</style>\n",
       "<table border=\"1\" class=\"dataframe\">\n",
       "  <thead>\n",
       "    <tr style=\"text-align: right;\">\n",
       "      <th></th>\n",
       "      <th>FellowshipID</th>\n",
       "      <th>FirstName</th>\n",
       "      <th>Skills</th>\n",
       "    </tr>\n",
       "  </thead>\n",
       "  <tbody>\n",
       "    <tr>\n",
       "      <th>0</th>\n",
       "      <td>1001</td>\n",
       "      <td>Frodo</td>\n",
       "      <td>Hiding</td>\n",
       "    </tr>\n",
       "    <tr>\n",
       "      <th>1</th>\n",
       "      <td>1002</td>\n",
       "      <td>Samwise</td>\n",
       "      <td>Gardening</td>\n",
       "    </tr>\n",
       "    <tr>\n",
       "      <th>2</th>\n",
       "      <td>1003</td>\n",
       "      <td>Gandalf</td>\n",
       "      <td>Spells</td>\n",
       "    </tr>\n",
       "    <tr>\n",
       "      <th>3</th>\n",
       "      <td>1004</td>\n",
       "      <td>Pippin</td>\n",
       "      <td>Fireworks</td>\n",
       "    </tr>\n",
       "  </tbody>\n",
       "</table>\n",
       "</div>"
      ],
      "text/plain": [
       "   FellowshipID FirstName     Skills\n",
       "0          1001     Frodo     Hiding\n",
       "1          1002   Samwise  Gardening\n",
       "2          1003   Gandalf     Spells\n",
       "3          1004    Pippin  Fireworks"
      ]
     },
     "execution_count": 2,
     "metadata": {},
     "output_type": "execute_result"
    }
   ],
   "source": [
    "df1 = pd.read_csv(r\"D:\\Data Analyst Bootcamp\\Pandas for Data Analytics\\data\\LOTR.csv\")\n",
    "df1"
   ]
  },
  {
   "cell_type": "code",
   "execution_count": 3,
   "id": "b5b7d1b1",
   "metadata": {},
   "outputs": [
    {
     "data": {
      "application/vnd.microsoft.datawrangler.viewer.v0+json": {
       "columns": [
        {
         "name": "index",
         "rawType": "int64",
         "type": "integer"
        },
        {
         "name": "FellowshipID",
         "rawType": "int64",
         "type": "integer"
        },
        {
         "name": "FirstName",
         "rawType": "object",
         "type": "string"
        },
        {
         "name": "Age",
         "rawType": "int64",
         "type": "integer"
        }
       ],
       "ref": "dc8dee74-085b-40f8-abd1-841add9bf064",
       "rows": [
        [
         "0",
         "1001",
         "Frodo",
         "50"
        ],
        [
         "1",
         "1002",
         "Samwise",
         "39"
        ],
        [
         "2",
         "1006",
         "Legolas",
         "2931"
        ],
        [
         "3",
         "1007",
         "Elrond",
         "6520"
        ],
        [
         "4",
         "1008",
         "Barromir",
         "51"
        ]
       ],
       "shape": {
        "columns": 3,
        "rows": 5
       }
      },
      "text/html": [
       "<div>\n",
       "<style scoped>\n",
       "    .dataframe tbody tr th:only-of-type {\n",
       "        vertical-align: middle;\n",
       "    }\n",
       "\n",
       "    .dataframe tbody tr th {\n",
       "        vertical-align: top;\n",
       "    }\n",
       "\n",
       "    .dataframe thead th {\n",
       "        text-align: right;\n",
       "    }\n",
       "</style>\n",
       "<table border=\"1\" class=\"dataframe\">\n",
       "  <thead>\n",
       "    <tr style=\"text-align: right;\">\n",
       "      <th></th>\n",
       "      <th>FellowshipID</th>\n",
       "      <th>FirstName</th>\n",
       "      <th>Age</th>\n",
       "    </tr>\n",
       "  </thead>\n",
       "  <tbody>\n",
       "    <tr>\n",
       "      <th>0</th>\n",
       "      <td>1001</td>\n",
       "      <td>Frodo</td>\n",
       "      <td>50</td>\n",
       "    </tr>\n",
       "    <tr>\n",
       "      <th>1</th>\n",
       "      <td>1002</td>\n",
       "      <td>Samwise</td>\n",
       "      <td>39</td>\n",
       "    </tr>\n",
       "    <tr>\n",
       "      <th>2</th>\n",
       "      <td>1006</td>\n",
       "      <td>Legolas</td>\n",
       "      <td>2931</td>\n",
       "    </tr>\n",
       "    <tr>\n",
       "      <th>3</th>\n",
       "      <td>1007</td>\n",
       "      <td>Elrond</td>\n",
       "      <td>6520</td>\n",
       "    </tr>\n",
       "    <tr>\n",
       "      <th>4</th>\n",
       "      <td>1008</td>\n",
       "      <td>Barromir</td>\n",
       "      <td>51</td>\n",
       "    </tr>\n",
       "  </tbody>\n",
       "</table>\n",
       "</div>"
      ],
      "text/plain": [
       "   FellowshipID FirstName   Age\n",
       "0          1001     Frodo    50\n",
       "1          1002   Samwise    39\n",
       "2          1006   Legolas  2931\n",
       "3          1007    Elrond  6520\n",
       "4          1008  Barromir    51"
      ]
     },
     "execution_count": 3,
     "metadata": {},
     "output_type": "execute_result"
    }
   ],
   "source": [
    "df2 = pd.read_csv(r\"D:\\Data Analyst Bootcamp\\Pandas for Data Analytics\\data\\LOTR 2.csv\")\n",
    "df2"
   ]
  },
  {
   "cell_type": "markdown",
   "id": "2b87bca5",
   "metadata": {},
   "source": [
    "### MERGE"
   ]
  },
  {
   "cell_type": "code",
   "execution_count": 4,
   "id": "bfbbf86a",
   "metadata": {},
   "outputs": [
    {
     "data": {
      "application/vnd.microsoft.datawrangler.viewer.v0+json": {
       "columns": [
        {
         "name": "index",
         "rawType": "int64",
         "type": "integer"
        },
        {
         "name": "FellowshipID",
         "rawType": "int64",
         "type": "integer"
        },
        {
         "name": "FirstName",
         "rawType": "object",
         "type": "string"
        },
        {
         "name": "Skills",
         "rawType": "object",
         "type": "string"
        },
        {
         "name": "Age",
         "rawType": "int64",
         "type": "integer"
        }
       ],
       "ref": "14fdcd03-e3ef-41a3-af7a-73e9c47da758",
       "rows": [
        [
         "0",
         "1001",
         "Frodo",
         "Hiding",
         "50"
        ],
        [
         "1",
         "1002",
         "Samwise",
         "Gardening",
         "39"
        ]
       ],
       "shape": {
        "columns": 4,
        "rows": 2
       }
      },
      "text/html": [
       "<div>\n",
       "<style scoped>\n",
       "    .dataframe tbody tr th:only-of-type {\n",
       "        vertical-align: middle;\n",
       "    }\n",
       "\n",
       "    .dataframe tbody tr th {\n",
       "        vertical-align: top;\n",
       "    }\n",
       "\n",
       "    .dataframe thead th {\n",
       "        text-align: right;\n",
       "    }\n",
       "</style>\n",
       "<table border=\"1\" class=\"dataframe\">\n",
       "  <thead>\n",
       "    <tr style=\"text-align: right;\">\n",
       "      <th></th>\n",
       "      <th>FellowshipID</th>\n",
       "      <th>FirstName</th>\n",
       "      <th>Skills</th>\n",
       "      <th>Age</th>\n",
       "    </tr>\n",
       "  </thead>\n",
       "  <tbody>\n",
       "    <tr>\n",
       "      <th>0</th>\n",
       "      <td>1001</td>\n",
       "      <td>Frodo</td>\n",
       "      <td>Hiding</td>\n",
       "      <td>50</td>\n",
       "    </tr>\n",
       "    <tr>\n",
       "      <th>1</th>\n",
       "      <td>1002</td>\n",
       "      <td>Samwise</td>\n",
       "      <td>Gardening</td>\n",
       "      <td>39</td>\n",
       "    </tr>\n",
       "  </tbody>\n",
       "</table>\n",
       "</div>"
      ],
      "text/plain": [
       "   FellowshipID FirstName     Skills  Age\n",
       "0          1001     Frodo     Hiding   50\n",
       "1          1002   Samwise  Gardening   39"
      ]
     },
     "execution_count": 4,
     "metadata": {},
     "output_type": "execute_result"
    }
   ],
   "source": [
    "df1.merge(df2)"
   ]
  },
  {
   "cell_type": "code",
   "execution_count": 5,
   "id": "0e245b29",
   "metadata": {},
   "outputs": [
    {
     "data": {
      "application/vnd.microsoft.datawrangler.viewer.v0+json": {
       "columns": [
        {
         "name": "index",
         "rawType": "int64",
         "type": "integer"
        },
        {
         "name": "FellowshipID",
         "rawType": "int64",
         "type": "integer"
        },
        {
         "name": "FirstName_x",
         "rawType": "object",
         "type": "string"
        },
        {
         "name": "Skills",
         "rawType": "object",
         "type": "string"
        },
        {
         "name": "FirstName_y",
         "rawType": "object",
         "type": "string"
        },
        {
         "name": "Age",
         "rawType": "int64",
         "type": "integer"
        }
       ],
       "ref": "81c82e50-01e2-4b7b-9923-7a123c3768ac",
       "rows": [
        [
         "0",
         "1001",
         "Frodo",
         "Hiding",
         "Frodo",
         "50"
        ],
        [
         "1",
         "1002",
         "Samwise",
         "Gardening",
         "Samwise",
         "39"
        ]
       ],
       "shape": {
        "columns": 5,
        "rows": 2
       }
      },
      "text/html": [
       "<div>\n",
       "<style scoped>\n",
       "    .dataframe tbody tr th:only-of-type {\n",
       "        vertical-align: middle;\n",
       "    }\n",
       "\n",
       "    .dataframe tbody tr th {\n",
       "        vertical-align: top;\n",
       "    }\n",
       "\n",
       "    .dataframe thead th {\n",
       "        text-align: right;\n",
       "    }\n",
       "</style>\n",
       "<table border=\"1\" class=\"dataframe\">\n",
       "  <thead>\n",
       "    <tr style=\"text-align: right;\">\n",
       "      <th></th>\n",
       "      <th>FellowshipID</th>\n",
       "      <th>FirstName_x</th>\n",
       "      <th>Skills</th>\n",
       "      <th>FirstName_y</th>\n",
       "      <th>Age</th>\n",
       "    </tr>\n",
       "  </thead>\n",
       "  <tbody>\n",
       "    <tr>\n",
       "      <th>0</th>\n",
       "      <td>1001</td>\n",
       "      <td>Frodo</td>\n",
       "      <td>Hiding</td>\n",
       "      <td>Frodo</td>\n",
       "      <td>50</td>\n",
       "    </tr>\n",
       "    <tr>\n",
       "      <th>1</th>\n",
       "      <td>1002</td>\n",
       "      <td>Samwise</td>\n",
       "      <td>Gardening</td>\n",
       "      <td>Samwise</td>\n",
       "      <td>39</td>\n",
       "    </tr>\n",
       "  </tbody>\n",
       "</table>\n",
       "</div>"
      ],
      "text/plain": [
       "   FellowshipID FirstName_x     Skills FirstName_y  Age\n",
       "0          1001       Frodo     Hiding       Frodo   50\n",
       "1          1002     Samwise  Gardening     Samwise   39"
      ]
     },
     "execution_count": 5,
     "metadata": {},
     "output_type": "execute_result"
    }
   ],
   "source": [
    "df1.merge(df2, how='inner', on=['FellowshipID'])"
   ]
  },
  {
   "cell_type": "code",
   "execution_count": 6,
   "id": "7947173d",
   "metadata": {},
   "outputs": [
    {
     "data": {
      "application/vnd.microsoft.datawrangler.viewer.v0+json": {
       "columns": [
        {
         "name": "index",
         "rawType": "int64",
         "type": "integer"
        },
        {
         "name": "FellowshipID",
         "rawType": "int64",
         "type": "integer"
        },
        {
         "name": "FirstName",
         "rawType": "object",
         "type": "string"
        },
        {
         "name": "Skills",
         "rawType": "object",
         "type": "string"
        },
        {
         "name": "Age",
         "rawType": "int64",
         "type": "integer"
        }
       ],
       "ref": "0da0e08f-aa6d-4ccd-972b-2c753add70c2",
       "rows": [
        [
         "0",
         "1001",
         "Frodo",
         "Hiding",
         "50"
        ],
        [
         "1",
         "1002",
         "Samwise",
         "Gardening",
         "39"
        ]
       ],
       "shape": {
        "columns": 4,
        "rows": 2
       }
      },
      "text/html": [
       "<div>\n",
       "<style scoped>\n",
       "    .dataframe tbody tr th:only-of-type {\n",
       "        vertical-align: middle;\n",
       "    }\n",
       "\n",
       "    .dataframe tbody tr th {\n",
       "        vertical-align: top;\n",
       "    }\n",
       "\n",
       "    .dataframe thead th {\n",
       "        text-align: right;\n",
       "    }\n",
       "</style>\n",
       "<table border=\"1\" class=\"dataframe\">\n",
       "  <thead>\n",
       "    <tr style=\"text-align: right;\">\n",
       "      <th></th>\n",
       "      <th>FellowshipID</th>\n",
       "      <th>FirstName</th>\n",
       "      <th>Skills</th>\n",
       "      <th>Age</th>\n",
       "    </tr>\n",
       "  </thead>\n",
       "  <tbody>\n",
       "    <tr>\n",
       "      <th>0</th>\n",
       "      <td>1001</td>\n",
       "      <td>Frodo</td>\n",
       "      <td>Hiding</td>\n",
       "      <td>50</td>\n",
       "    </tr>\n",
       "    <tr>\n",
       "      <th>1</th>\n",
       "      <td>1002</td>\n",
       "      <td>Samwise</td>\n",
       "      <td>Gardening</td>\n",
       "      <td>39</td>\n",
       "    </tr>\n",
       "  </tbody>\n",
       "</table>\n",
       "</div>"
      ],
      "text/plain": [
       "   FellowshipID FirstName     Skills  Age\n",
       "0          1001     Frodo     Hiding   50\n",
       "1          1002   Samwise  Gardening   39"
      ]
     },
     "execution_count": 6,
     "metadata": {},
     "output_type": "execute_result"
    }
   ],
   "source": [
    "df1.merge(df2, how='inner', on=['FellowshipID', 'FirstName'])"
   ]
  },
  {
   "cell_type": "code",
   "execution_count": 8,
   "id": "758d0edb",
   "metadata": {},
   "outputs": [
    {
     "data": {
      "application/vnd.microsoft.datawrangler.viewer.v0+json": {
       "columns": [
        {
         "name": "index",
         "rawType": "int64",
         "type": "integer"
        },
        {
         "name": "FellowshipID",
         "rawType": "int64",
         "type": "integer"
        },
        {
         "name": "FirstName",
         "rawType": "object",
         "type": "string"
        },
        {
         "name": "Skills",
         "rawType": "object",
         "type": "unknown"
        },
        {
         "name": "Age",
         "rawType": "float64",
         "type": "float"
        }
       ],
       "ref": "47f29502-2a64-49f0-bd1f-620801dc268b",
       "rows": [
        [
         "0",
         "1001",
         "Frodo",
         "Hiding",
         "50.0"
        ],
        [
         "1",
         "1002",
         "Samwise",
         "Gardening",
         "39.0"
        ],
        [
         "2",
         "1003",
         "Gandalf",
         "Spells",
         null
        ],
        [
         "3",
         "1004",
         "Pippin",
         "Fireworks",
         null
        ],
        [
         "4",
         "1006",
         "Legolas",
         null,
         "2931.0"
        ],
        [
         "5",
         "1007",
         "Elrond",
         null,
         "6520.0"
        ],
        [
         "6",
         "1008",
         "Barromir",
         null,
         "51.0"
        ]
       ],
       "shape": {
        "columns": 4,
        "rows": 7
       }
      },
      "text/html": [
       "<div>\n",
       "<style scoped>\n",
       "    .dataframe tbody tr th:only-of-type {\n",
       "        vertical-align: middle;\n",
       "    }\n",
       "\n",
       "    .dataframe tbody tr th {\n",
       "        vertical-align: top;\n",
       "    }\n",
       "\n",
       "    .dataframe thead th {\n",
       "        text-align: right;\n",
       "    }\n",
       "</style>\n",
       "<table border=\"1\" class=\"dataframe\">\n",
       "  <thead>\n",
       "    <tr style=\"text-align: right;\">\n",
       "      <th></th>\n",
       "      <th>FellowshipID</th>\n",
       "      <th>FirstName</th>\n",
       "      <th>Skills</th>\n",
       "      <th>Age</th>\n",
       "    </tr>\n",
       "  </thead>\n",
       "  <tbody>\n",
       "    <tr>\n",
       "      <th>0</th>\n",
       "      <td>1001</td>\n",
       "      <td>Frodo</td>\n",
       "      <td>Hiding</td>\n",
       "      <td>50.0</td>\n",
       "    </tr>\n",
       "    <tr>\n",
       "      <th>1</th>\n",
       "      <td>1002</td>\n",
       "      <td>Samwise</td>\n",
       "      <td>Gardening</td>\n",
       "      <td>39.0</td>\n",
       "    </tr>\n",
       "    <tr>\n",
       "      <th>2</th>\n",
       "      <td>1003</td>\n",
       "      <td>Gandalf</td>\n",
       "      <td>Spells</td>\n",
       "      <td>NaN</td>\n",
       "    </tr>\n",
       "    <tr>\n",
       "      <th>3</th>\n",
       "      <td>1004</td>\n",
       "      <td>Pippin</td>\n",
       "      <td>Fireworks</td>\n",
       "      <td>NaN</td>\n",
       "    </tr>\n",
       "    <tr>\n",
       "      <th>4</th>\n",
       "      <td>1006</td>\n",
       "      <td>Legolas</td>\n",
       "      <td>NaN</td>\n",
       "      <td>2931.0</td>\n",
       "    </tr>\n",
       "    <tr>\n",
       "      <th>5</th>\n",
       "      <td>1007</td>\n",
       "      <td>Elrond</td>\n",
       "      <td>NaN</td>\n",
       "      <td>6520.0</td>\n",
       "    </tr>\n",
       "    <tr>\n",
       "      <th>6</th>\n",
       "      <td>1008</td>\n",
       "      <td>Barromir</td>\n",
       "      <td>NaN</td>\n",
       "      <td>51.0</td>\n",
       "    </tr>\n",
       "  </tbody>\n",
       "</table>\n",
       "</div>"
      ],
      "text/plain": [
       "   FellowshipID FirstName     Skills     Age\n",
       "0          1001     Frodo     Hiding    50.0\n",
       "1          1002   Samwise  Gardening    39.0\n",
       "2          1003   Gandalf     Spells     NaN\n",
       "3          1004    Pippin  Fireworks     NaN\n",
       "4          1006   Legolas        NaN  2931.0\n",
       "5          1007    Elrond        NaN  6520.0\n",
       "6          1008  Barromir        NaN    51.0"
      ]
     },
     "execution_count": 8,
     "metadata": {},
     "output_type": "execute_result"
    }
   ],
   "source": [
    "df1.merge(df2, how='outer')"
   ]
  },
  {
   "cell_type": "code",
   "execution_count": 9,
   "id": "98b7714c",
   "metadata": {},
   "outputs": [
    {
     "data": {
      "application/vnd.microsoft.datawrangler.viewer.v0+json": {
       "columns": [
        {
         "name": "index",
         "rawType": "int64",
         "type": "integer"
        },
        {
         "name": "FellowshipID",
         "rawType": "int64",
         "type": "integer"
        },
        {
         "name": "FirstName",
         "rawType": "object",
         "type": "string"
        },
        {
         "name": "Skills",
         "rawType": "object",
         "type": "string"
        },
        {
         "name": "Age",
         "rawType": "float64",
         "type": "float"
        }
       ],
       "ref": "b3324d09-842f-427c-896e-75d63c3c975e",
       "rows": [
        [
         "0",
         "1001",
         "Frodo",
         "Hiding",
         "50.0"
        ],
        [
         "1",
         "1002",
         "Samwise",
         "Gardening",
         "39.0"
        ],
        [
         "2",
         "1003",
         "Gandalf",
         "Spells",
         null
        ],
        [
         "3",
         "1004",
         "Pippin",
         "Fireworks",
         null
        ]
       ],
       "shape": {
        "columns": 4,
        "rows": 4
       }
      },
      "text/html": [
       "<div>\n",
       "<style scoped>\n",
       "    .dataframe tbody tr th:only-of-type {\n",
       "        vertical-align: middle;\n",
       "    }\n",
       "\n",
       "    .dataframe tbody tr th {\n",
       "        vertical-align: top;\n",
       "    }\n",
       "\n",
       "    .dataframe thead th {\n",
       "        text-align: right;\n",
       "    }\n",
       "</style>\n",
       "<table border=\"1\" class=\"dataframe\">\n",
       "  <thead>\n",
       "    <tr style=\"text-align: right;\">\n",
       "      <th></th>\n",
       "      <th>FellowshipID</th>\n",
       "      <th>FirstName</th>\n",
       "      <th>Skills</th>\n",
       "      <th>Age</th>\n",
       "    </tr>\n",
       "  </thead>\n",
       "  <tbody>\n",
       "    <tr>\n",
       "      <th>0</th>\n",
       "      <td>1001</td>\n",
       "      <td>Frodo</td>\n",
       "      <td>Hiding</td>\n",
       "      <td>50.0</td>\n",
       "    </tr>\n",
       "    <tr>\n",
       "      <th>1</th>\n",
       "      <td>1002</td>\n",
       "      <td>Samwise</td>\n",
       "      <td>Gardening</td>\n",
       "      <td>39.0</td>\n",
       "    </tr>\n",
       "    <tr>\n",
       "      <th>2</th>\n",
       "      <td>1003</td>\n",
       "      <td>Gandalf</td>\n",
       "      <td>Spells</td>\n",
       "      <td>NaN</td>\n",
       "    </tr>\n",
       "    <tr>\n",
       "      <th>3</th>\n",
       "      <td>1004</td>\n",
       "      <td>Pippin</td>\n",
       "      <td>Fireworks</td>\n",
       "      <td>NaN</td>\n",
       "    </tr>\n",
       "  </tbody>\n",
       "</table>\n",
       "</div>"
      ],
      "text/plain": [
       "   FellowshipID FirstName     Skills   Age\n",
       "0          1001     Frodo     Hiding  50.0\n",
       "1          1002   Samwise  Gardening  39.0\n",
       "2          1003   Gandalf     Spells   NaN\n",
       "3          1004    Pippin  Fireworks   NaN"
      ]
     },
     "execution_count": 9,
     "metadata": {},
     "output_type": "execute_result"
    }
   ],
   "source": [
    "df1.merge(df2, how='left')"
   ]
  },
  {
   "cell_type": "code",
   "execution_count": 10,
   "id": "dd8f269c",
   "metadata": {},
   "outputs": [
    {
     "data": {
      "application/vnd.microsoft.datawrangler.viewer.v0+json": {
       "columns": [
        {
         "name": "index",
         "rawType": "int64",
         "type": "integer"
        },
        {
         "name": "FellowshipID",
         "rawType": "int64",
         "type": "integer"
        },
        {
         "name": "FirstName",
         "rawType": "object",
         "type": "string"
        },
        {
         "name": "Skills",
         "rawType": "object",
         "type": "unknown"
        },
        {
         "name": "Age",
         "rawType": "int64",
         "type": "integer"
        }
       ],
       "ref": "ef03b227-f506-4605-a9d5-1fb54f431e59",
       "rows": [
        [
         "0",
         "1001",
         "Frodo",
         "Hiding",
         "50"
        ],
        [
         "1",
         "1002",
         "Samwise",
         "Gardening",
         "39"
        ],
        [
         "2",
         "1006",
         "Legolas",
         null,
         "2931"
        ],
        [
         "3",
         "1007",
         "Elrond",
         null,
         "6520"
        ],
        [
         "4",
         "1008",
         "Barromir",
         null,
         "51"
        ]
       ],
       "shape": {
        "columns": 4,
        "rows": 5
       }
      },
      "text/html": [
       "<div>\n",
       "<style scoped>\n",
       "    .dataframe tbody tr th:only-of-type {\n",
       "        vertical-align: middle;\n",
       "    }\n",
       "\n",
       "    .dataframe tbody tr th {\n",
       "        vertical-align: top;\n",
       "    }\n",
       "\n",
       "    .dataframe thead th {\n",
       "        text-align: right;\n",
       "    }\n",
       "</style>\n",
       "<table border=\"1\" class=\"dataframe\">\n",
       "  <thead>\n",
       "    <tr style=\"text-align: right;\">\n",
       "      <th></th>\n",
       "      <th>FellowshipID</th>\n",
       "      <th>FirstName</th>\n",
       "      <th>Skills</th>\n",
       "      <th>Age</th>\n",
       "    </tr>\n",
       "  </thead>\n",
       "  <tbody>\n",
       "    <tr>\n",
       "      <th>0</th>\n",
       "      <td>1001</td>\n",
       "      <td>Frodo</td>\n",
       "      <td>Hiding</td>\n",
       "      <td>50</td>\n",
       "    </tr>\n",
       "    <tr>\n",
       "      <th>1</th>\n",
       "      <td>1002</td>\n",
       "      <td>Samwise</td>\n",
       "      <td>Gardening</td>\n",
       "      <td>39</td>\n",
       "    </tr>\n",
       "    <tr>\n",
       "      <th>2</th>\n",
       "      <td>1006</td>\n",
       "      <td>Legolas</td>\n",
       "      <td>NaN</td>\n",
       "      <td>2931</td>\n",
       "    </tr>\n",
       "    <tr>\n",
       "      <th>3</th>\n",
       "      <td>1007</td>\n",
       "      <td>Elrond</td>\n",
       "      <td>NaN</td>\n",
       "      <td>6520</td>\n",
       "    </tr>\n",
       "    <tr>\n",
       "      <th>4</th>\n",
       "      <td>1008</td>\n",
       "      <td>Barromir</td>\n",
       "      <td>NaN</td>\n",
       "      <td>51</td>\n",
       "    </tr>\n",
       "  </tbody>\n",
       "</table>\n",
       "</div>"
      ],
      "text/plain": [
       "   FellowshipID FirstName     Skills   Age\n",
       "0          1001     Frodo     Hiding    50\n",
       "1          1002   Samwise  Gardening    39\n",
       "2          1006   Legolas        NaN  2931\n",
       "3          1007    Elrond        NaN  6520\n",
       "4          1008  Barromir        NaN    51"
      ]
     },
     "execution_count": 10,
     "metadata": {},
     "output_type": "execute_result"
    }
   ],
   "source": [
    "df1.merge(df2, how='right')"
   ]
  },
  {
   "cell_type": "code",
   "execution_count": 17,
   "id": "9cdcb258",
   "metadata": {},
   "outputs": [
    {
     "name": "stdout",
     "output_type": "stream",
     "text": [
      "   FellowshipID FirstName     Skills\n",
      "0          1001     Frodo     Hiding\n",
      "1          1002   Samwise  Gardening\n",
      "2          1003   Gandalf     Spells\n",
      "3          1004    Pippin  Fireworks\n",
      "   FellowshipID FirstName   Age\n",
      "0          1001     Frodo    50\n",
      "1          1002   Samwise    39\n",
      "2          1006   Legolas  2931\n",
      "3          1007    Elrond  6520\n",
      "4          1008  Barromir    51\n"
     ]
    },
    {
     "data": {
      "application/vnd.microsoft.datawrangler.viewer.v0+json": {
       "columns": [
        {
         "name": "index",
         "rawType": "int64",
         "type": "integer"
        },
        {
         "name": "FellowshipID_x",
         "rawType": "int64",
         "type": "integer"
        },
        {
         "name": "FirstName_x",
         "rawType": "object",
         "type": "string"
        },
        {
         "name": "Skills",
         "rawType": "object",
         "type": "string"
        },
        {
         "name": "FellowshipID_y",
         "rawType": "int64",
         "type": "integer"
        },
        {
         "name": "FirstName_y",
         "rawType": "object",
         "type": "string"
        },
        {
         "name": "Age",
         "rawType": "int64",
         "type": "integer"
        }
       ],
       "ref": "83d5b5fb-4015-4861-8560-eed71fb284a2",
       "rows": [
        [
         "0",
         "1001",
         "Frodo",
         "Hiding",
         "1001",
         "Frodo",
         "50"
        ],
        [
         "1",
         "1001",
         "Frodo",
         "Hiding",
         "1002",
         "Samwise",
         "39"
        ],
        [
         "2",
         "1001",
         "Frodo",
         "Hiding",
         "1006",
         "Legolas",
         "2931"
        ],
        [
         "3",
         "1001",
         "Frodo",
         "Hiding",
         "1007",
         "Elrond",
         "6520"
        ],
        [
         "4",
         "1001",
         "Frodo",
         "Hiding",
         "1008",
         "Barromir",
         "51"
        ],
        [
         "5",
         "1002",
         "Samwise",
         "Gardening",
         "1001",
         "Frodo",
         "50"
        ],
        [
         "6",
         "1002",
         "Samwise",
         "Gardening",
         "1002",
         "Samwise",
         "39"
        ],
        [
         "7",
         "1002",
         "Samwise",
         "Gardening",
         "1006",
         "Legolas",
         "2931"
        ],
        [
         "8",
         "1002",
         "Samwise",
         "Gardening",
         "1007",
         "Elrond",
         "6520"
        ],
        [
         "9",
         "1002",
         "Samwise",
         "Gardening",
         "1008",
         "Barromir",
         "51"
        ],
        [
         "10",
         "1003",
         "Gandalf",
         "Spells",
         "1001",
         "Frodo",
         "50"
        ],
        [
         "11",
         "1003",
         "Gandalf",
         "Spells",
         "1002",
         "Samwise",
         "39"
        ],
        [
         "12",
         "1003",
         "Gandalf",
         "Spells",
         "1006",
         "Legolas",
         "2931"
        ],
        [
         "13",
         "1003",
         "Gandalf",
         "Spells",
         "1007",
         "Elrond",
         "6520"
        ],
        [
         "14",
         "1003",
         "Gandalf",
         "Spells",
         "1008",
         "Barromir",
         "51"
        ],
        [
         "15",
         "1004",
         "Pippin",
         "Fireworks",
         "1001",
         "Frodo",
         "50"
        ],
        [
         "16",
         "1004",
         "Pippin",
         "Fireworks",
         "1002",
         "Samwise",
         "39"
        ],
        [
         "17",
         "1004",
         "Pippin",
         "Fireworks",
         "1006",
         "Legolas",
         "2931"
        ],
        [
         "18",
         "1004",
         "Pippin",
         "Fireworks",
         "1007",
         "Elrond",
         "6520"
        ],
        [
         "19",
         "1004",
         "Pippin",
         "Fireworks",
         "1008",
         "Barromir",
         "51"
        ]
       ],
       "shape": {
        "columns": 6,
        "rows": 20
       }
      },
      "text/html": [
       "<div>\n",
       "<style scoped>\n",
       "    .dataframe tbody tr th:only-of-type {\n",
       "        vertical-align: middle;\n",
       "    }\n",
       "\n",
       "    .dataframe tbody tr th {\n",
       "        vertical-align: top;\n",
       "    }\n",
       "\n",
       "    .dataframe thead th {\n",
       "        text-align: right;\n",
       "    }\n",
       "</style>\n",
       "<table border=\"1\" class=\"dataframe\">\n",
       "  <thead>\n",
       "    <tr style=\"text-align: right;\">\n",
       "      <th></th>\n",
       "      <th>FellowshipID_x</th>\n",
       "      <th>FirstName_x</th>\n",
       "      <th>Skills</th>\n",
       "      <th>FellowshipID_y</th>\n",
       "      <th>FirstName_y</th>\n",
       "      <th>Age</th>\n",
       "    </tr>\n",
       "  </thead>\n",
       "  <tbody>\n",
       "    <tr>\n",
       "      <th>0</th>\n",
       "      <td>1001</td>\n",
       "      <td>Frodo</td>\n",
       "      <td>Hiding</td>\n",
       "      <td>1001</td>\n",
       "      <td>Frodo</td>\n",
       "      <td>50</td>\n",
       "    </tr>\n",
       "    <tr>\n",
       "      <th>1</th>\n",
       "      <td>1001</td>\n",
       "      <td>Frodo</td>\n",
       "      <td>Hiding</td>\n",
       "      <td>1002</td>\n",
       "      <td>Samwise</td>\n",
       "      <td>39</td>\n",
       "    </tr>\n",
       "    <tr>\n",
       "      <th>2</th>\n",
       "      <td>1001</td>\n",
       "      <td>Frodo</td>\n",
       "      <td>Hiding</td>\n",
       "      <td>1006</td>\n",
       "      <td>Legolas</td>\n",
       "      <td>2931</td>\n",
       "    </tr>\n",
       "    <tr>\n",
       "      <th>3</th>\n",
       "      <td>1001</td>\n",
       "      <td>Frodo</td>\n",
       "      <td>Hiding</td>\n",
       "      <td>1007</td>\n",
       "      <td>Elrond</td>\n",
       "      <td>6520</td>\n",
       "    </tr>\n",
       "    <tr>\n",
       "      <th>4</th>\n",
       "      <td>1001</td>\n",
       "      <td>Frodo</td>\n",
       "      <td>Hiding</td>\n",
       "      <td>1008</td>\n",
       "      <td>Barromir</td>\n",
       "      <td>51</td>\n",
       "    </tr>\n",
       "    <tr>\n",
       "      <th>5</th>\n",
       "      <td>1002</td>\n",
       "      <td>Samwise</td>\n",
       "      <td>Gardening</td>\n",
       "      <td>1001</td>\n",
       "      <td>Frodo</td>\n",
       "      <td>50</td>\n",
       "    </tr>\n",
       "    <tr>\n",
       "      <th>6</th>\n",
       "      <td>1002</td>\n",
       "      <td>Samwise</td>\n",
       "      <td>Gardening</td>\n",
       "      <td>1002</td>\n",
       "      <td>Samwise</td>\n",
       "      <td>39</td>\n",
       "    </tr>\n",
       "    <tr>\n",
       "      <th>7</th>\n",
       "      <td>1002</td>\n",
       "      <td>Samwise</td>\n",
       "      <td>Gardening</td>\n",
       "      <td>1006</td>\n",
       "      <td>Legolas</td>\n",
       "      <td>2931</td>\n",
       "    </tr>\n",
       "    <tr>\n",
       "      <th>8</th>\n",
       "      <td>1002</td>\n",
       "      <td>Samwise</td>\n",
       "      <td>Gardening</td>\n",
       "      <td>1007</td>\n",
       "      <td>Elrond</td>\n",
       "      <td>6520</td>\n",
       "    </tr>\n",
       "    <tr>\n",
       "      <th>9</th>\n",
       "      <td>1002</td>\n",
       "      <td>Samwise</td>\n",
       "      <td>Gardening</td>\n",
       "      <td>1008</td>\n",
       "      <td>Barromir</td>\n",
       "      <td>51</td>\n",
       "    </tr>\n",
       "    <tr>\n",
       "      <th>10</th>\n",
       "      <td>1003</td>\n",
       "      <td>Gandalf</td>\n",
       "      <td>Spells</td>\n",
       "      <td>1001</td>\n",
       "      <td>Frodo</td>\n",
       "      <td>50</td>\n",
       "    </tr>\n",
       "    <tr>\n",
       "      <th>11</th>\n",
       "      <td>1003</td>\n",
       "      <td>Gandalf</td>\n",
       "      <td>Spells</td>\n",
       "      <td>1002</td>\n",
       "      <td>Samwise</td>\n",
       "      <td>39</td>\n",
       "    </tr>\n",
       "    <tr>\n",
       "      <th>12</th>\n",
       "      <td>1003</td>\n",
       "      <td>Gandalf</td>\n",
       "      <td>Spells</td>\n",
       "      <td>1006</td>\n",
       "      <td>Legolas</td>\n",
       "      <td>2931</td>\n",
       "    </tr>\n",
       "    <tr>\n",
       "      <th>13</th>\n",
       "      <td>1003</td>\n",
       "      <td>Gandalf</td>\n",
       "      <td>Spells</td>\n",
       "      <td>1007</td>\n",
       "      <td>Elrond</td>\n",
       "      <td>6520</td>\n",
       "    </tr>\n",
       "    <tr>\n",
       "      <th>14</th>\n",
       "      <td>1003</td>\n",
       "      <td>Gandalf</td>\n",
       "      <td>Spells</td>\n",
       "      <td>1008</td>\n",
       "      <td>Barromir</td>\n",
       "      <td>51</td>\n",
       "    </tr>\n",
       "    <tr>\n",
       "      <th>15</th>\n",
       "      <td>1004</td>\n",
       "      <td>Pippin</td>\n",
       "      <td>Fireworks</td>\n",
       "      <td>1001</td>\n",
       "      <td>Frodo</td>\n",
       "      <td>50</td>\n",
       "    </tr>\n",
       "    <tr>\n",
       "      <th>16</th>\n",
       "      <td>1004</td>\n",
       "      <td>Pippin</td>\n",
       "      <td>Fireworks</td>\n",
       "      <td>1002</td>\n",
       "      <td>Samwise</td>\n",
       "      <td>39</td>\n",
       "    </tr>\n",
       "    <tr>\n",
       "      <th>17</th>\n",
       "      <td>1004</td>\n",
       "      <td>Pippin</td>\n",
       "      <td>Fireworks</td>\n",
       "      <td>1006</td>\n",
       "      <td>Legolas</td>\n",
       "      <td>2931</td>\n",
       "    </tr>\n",
       "    <tr>\n",
       "      <th>18</th>\n",
       "      <td>1004</td>\n",
       "      <td>Pippin</td>\n",
       "      <td>Fireworks</td>\n",
       "      <td>1007</td>\n",
       "      <td>Elrond</td>\n",
       "      <td>6520</td>\n",
       "    </tr>\n",
       "    <tr>\n",
       "      <th>19</th>\n",
       "      <td>1004</td>\n",
       "      <td>Pippin</td>\n",
       "      <td>Fireworks</td>\n",
       "      <td>1008</td>\n",
       "      <td>Barromir</td>\n",
       "      <td>51</td>\n",
       "    </tr>\n",
       "  </tbody>\n",
       "</table>\n",
       "</div>"
      ],
      "text/plain": [
       "    FellowshipID_x FirstName_x     Skills  FellowshipID_y FirstName_y   Age\n",
       "0             1001       Frodo     Hiding            1001       Frodo    50\n",
       "1             1001       Frodo     Hiding            1002     Samwise    39\n",
       "2             1001       Frodo     Hiding            1006     Legolas  2931\n",
       "3             1001       Frodo     Hiding            1007      Elrond  6520\n",
       "4             1001       Frodo     Hiding            1008    Barromir    51\n",
       "5             1002     Samwise  Gardening            1001       Frodo    50\n",
       "6             1002     Samwise  Gardening            1002     Samwise    39\n",
       "7             1002     Samwise  Gardening            1006     Legolas  2931\n",
       "8             1002     Samwise  Gardening            1007      Elrond  6520\n",
       "9             1002     Samwise  Gardening            1008    Barromir    51\n",
       "10            1003     Gandalf     Spells            1001       Frodo    50\n",
       "11            1003     Gandalf     Spells            1002     Samwise    39\n",
       "12            1003     Gandalf     Spells            1006     Legolas  2931\n",
       "13            1003     Gandalf     Spells            1007      Elrond  6520\n",
       "14            1003     Gandalf     Spells            1008    Barromir    51\n",
       "15            1004      Pippin  Fireworks            1001       Frodo    50\n",
       "16            1004      Pippin  Fireworks            1002     Samwise    39\n",
       "17            1004      Pippin  Fireworks            1006     Legolas  2931\n",
       "18            1004      Pippin  Fireworks            1007      Elrond  6520\n",
       "19            1004      Pippin  Fireworks            1008    Barromir    51"
      ]
     },
     "execution_count": 17,
     "metadata": {},
     "output_type": "execute_result"
    }
   ],
   "source": [
    "print(df1)\n",
    "print(df2)\n",
    "df1.merge(df2, how='cross')"
   ]
  },
  {
   "cell_type": "markdown",
   "id": "beae2956",
   "metadata": {},
   "source": [
    "### JOIN"
   ]
  },
  {
   "cell_type": "code",
   "execution_count": 18,
   "id": "9e72227b",
   "metadata": {},
   "outputs": [
    {
     "data": {
      "application/vnd.microsoft.datawrangler.viewer.v0+json": {
       "columns": [
        {
         "name": "index",
         "rawType": "float64",
         "type": "float"
        },
        {
         "name": "FellowshipID",
         "rawType": "int64",
         "type": "integer"
        },
        {
         "name": "FellowshipID_Left",
         "rawType": "float64",
         "type": "float"
        },
        {
         "name": "FirstName_Left",
         "rawType": "object",
         "type": "unknown"
        },
        {
         "name": "Skills",
         "rawType": "object",
         "type": "unknown"
        },
        {
         "name": "FellowshipID_Right",
         "rawType": "float64",
         "type": "float"
        },
        {
         "name": "FirstName_Right",
         "rawType": "object",
         "type": "unknown"
        },
        {
         "name": "Age",
         "rawType": "float64",
         "type": "float"
        }
       ],
       "ref": "336af5c7-1586-4974-a83e-95df69dcb563",
       "rows": [
        [
         null,
         "0",
         null,
         null,
         null,
         "1001.0",
         "Frodo",
         "50.0"
        ],
        [
         null,
         "1",
         null,
         null,
         null,
         "1002.0",
         "Samwise",
         "39.0"
        ],
        [
         null,
         "2",
         null,
         null,
         null,
         "1006.0",
         "Legolas",
         "2931.0"
        ],
        [
         null,
         "3",
         null,
         null,
         null,
         "1007.0",
         "Elrond",
         "6520.0"
        ],
        [
         null,
         "4",
         null,
         null,
         null,
         "1008.0",
         "Barromir",
         "51.0"
        ],
        [
         "0.0",
         "1001",
         "1001.0",
         "Frodo",
         "Hiding",
         null,
         null,
         null
        ],
        [
         "1.0",
         "1002",
         "1002.0",
         "Samwise",
         "Gardening",
         null,
         null,
         null
        ],
        [
         "2.0",
         "1003",
         "1003.0",
         "Gandalf",
         "Spells",
         null,
         null,
         null
        ],
        [
         "3.0",
         "1004",
         "1004.0",
         "Pippin",
         "Fireworks",
         null,
         null,
         null
        ]
       ],
       "shape": {
        "columns": 7,
        "rows": 9
       }
      },
      "text/html": [
       "<div>\n",
       "<style scoped>\n",
       "    .dataframe tbody tr th:only-of-type {\n",
       "        vertical-align: middle;\n",
       "    }\n",
       "\n",
       "    .dataframe tbody tr th {\n",
       "        vertical-align: top;\n",
       "    }\n",
       "\n",
       "    .dataframe thead th {\n",
       "        text-align: right;\n",
       "    }\n",
       "</style>\n",
       "<table border=\"1\" class=\"dataframe\">\n",
       "  <thead>\n",
       "    <tr style=\"text-align: right;\">\n",
       "      <th></th>\n",
       "      <th>FellowshipID</th>\n",
       "      <th>FellowshipID_Left</th>\n",
       "      <th>FirstName_Left</th>\n",
       "      <th>Skills</th>\n",
       "      <th>FellowshipID_Right</th>\n",
       "      <th>FirstName_Right</th>\n",
       "      <th>Age</th>\n",
       "    </tr>\n",
       "  </thead>\n",
       "  <tbody>\n",
       "    <tr>\n",
       "      <th>NaN</th>\n",
       "      <td>0</td>\n",
       "      <td>NaN</td>\n",
       "      <td>NaN</td>\n",
       "      <td>NaN</td>\n",
       "      <td>1001.0</td>\n",
       "      <td>Frodo</td>\n",
       "      <td>50.0</td>\n",
       "    </tr>\n",
       "    <tr>\n",
       "      <th>NaN</th>\n",
       "      <td>1</td>\n",
       "      <td>NaN</td>\n",
       "      <td>NaN</td>\n",
       "      <td>NaN</td>\n",
       "      <td>1002.0</td>\n",
       "      <td>Samwise</td>\n",
       "      <td>39.0</td>\n",
       "    </tr>\n",
       "    <tr>\n",
       "      <th>NaN</th>\n",
       "      <td>2</td>\n",
       "      <td>NaN</td>\n",
       "      <td>NaN</td>\n",
       "      <td>NaN</td>\n",
       "      <td>1006.0</td>\n",
       "      <td>Legolas</td>\n",
       "      <td>2931.0</td>\n",
       "    </tr>\n",
       "    <tr>\n",
       "      <th>NaN</th>\n",
       "      <td>3</td>\n",
       "      <td>NaN</td>\n",
       "      <td>NaN</td>\n",
       "      <td>NaN</td>\n",
       "      <td>1007.0</td>\n",
       "      <td>Elrond</td>\n",
       "      <td>6520.0</td>\n",
       "    </tr>\n",
       "    <tr>\n",
       "      <th>NaN</th>\n",
       "      <td>4</td>\n",
       "      <td>NaN</td>\n",
       "      <td>NaN</td>\n",
       "      <td>NaN</td>\n",
       "      <td>1008.0</td>\n",
       "      <td>Barromir</td>\n",
       "      <td>51.0</td>\n",
       "    </tr>\n",
       "    <tr>\n",
       "      <th>0.0</th>\n",
       "      <td>1001</td>\n",
       "      <td>1001.0</td>\n",
       "      <td>Frodo</td>\n",
       "      <td>Hiding</td>\n",
       "      <td>NaN</td>\n",
       "      <td>NaN</td>\n",
       "      <td>NaN</td>\n",
       "    </tr>\n",
       "    <tr>\n",
       "      <th>1.0</th>\n",
       "      <td>1002</td>\n",
       "      <td>1002.0</td>\n",
       "      <td>Samwise</td>\n",
       "      <td>Gardening</td>\n",
       "      <td>NaN</td>\n",
       "      <td>NaN</td>\n",
       "      <td>NaN</td>\n",
       "    </tr>\n",
       "    <tr>\n",
       "      <th>2.0</th>\n",
       "      <td>1003</td>\n",
       "      <td>1003.0</td>\n",
       "      <td>Gandalf</td>\n",
       "      <td>Spells</td>\n",
       "      <td>NaN</td>\n",
       "      <td>NaN</td>\n",
       "      <td>NaN</td>\n",
       "    </tr>\n",
       "    <tr>\n",
       "      <th>3.0</th>\n",
       "      <td>1004</td>\n",
       "      <td>1004.0</td>\n",
       "      <td>Pippin</td>\n",
       "      <td>Fireworks</td>\n",
       "      <td>NaN</td>\n",
       "      <td>NaN</td>\n",
       "      <td>NaN</td>\n",
       "    </tr>\n",
       "  </tbody>\n",
       "</table>\n",
       "</div>"
      ],
      "text/plain": [
       "     FellowshipID  FellowshipID_Left FirstName_Left     Skills  \\\n",
       "NaN             0                NaN            NaN        NaN   \n",
       "NaN             1                NaN            NaN        NaN   \n",
       "NaN             2                NaN            NaN        NaN   \n",
       "NaN             3                NaN            NaN        NaN   \n",
       "NaN             4                NaN            NaN        NaN   \n",
       "0.0          1001             1001.0          Frodo     Hiding   \n",
       "1.0          1002             1002.0        Samwise  Gardening   \n",
       "2.0          1003             1003.0        Gandalf     Spells   \n",
       "3.0          1004             1004.0         Pippin  Fireworks   \n",
       "\n",
       "     FellowshipID_Right FirstName_Right     Age  \n",
       "NaN              1001.0           Frodo    50.0  \n",
       "NaN              1002.0         Samwise    39.0  \n",
       "NaN              1006.0         Legolas  2931.0  \n",
       "NaN              1007.0          Elrond  6520.0  \n",
       "NaN              1008.0        Barromir    51.0  \n",
       "0.0                 NaN             NaN     NaN  \n",
       "1.0                 NaN             NaN     NaN  \n",
       "2.0                 NaN             NaN     NaN  \n",
       "3.0                 NaN             NaN     NaN  "
      ]
     },
     "execution_count": 18,
     "metadata": {},
     "output_type": "execute_result"
    }
   ],
   "source": [
    "df1.join(df2, on='FellowshipID', how='outer', lsuffix='_Left', rsuffix='_Right')"
   ]
  },
  {
   "cell_type": "code",
   "execution_count": 27,
   "id": "273f121e",
   "metadata": {},
   "outputs": [
    {
     "data": {
      "application/vnd.microsoft.datawrangler.viewer.v0+json": {
       "columns": [
        {
         "name": "FellowshipID",
         "rawType": "int64",
         "type": "integer"
        },
        {
         "name": "FirstName_Left",
         "rawType": "object",
         "type": "unknown"
        },
        {
         "name": "Skills",
         "rawType": "object",
         "type": "unknown"
        },
        {
         "name": "FirstName_Right",
         "rawType": "object",
         "type": "unknown"
        },
        {
         "name": "Age",
         "rawType": "float64",
         "type": "float"
        }
       ],
       "ref": "6e8402d6-2857-44f0-a97a-1998ebee41fc",
       "rows": [
        [
         "1001",
         "Frodo",
         "Hiding",
         "Frodo",
         "50.0"
        ],
        [
         "1002",
         "Samwise",
         "Gardening",
         "Samwise",
         "39.0"
        ],
        [
         "1003",
         "Gandalf",
         "Spells",
         null,
         null
        ],
        [
         "1004",
         "Pippin",
         "Fireworks",
         null,
         null
        ],
        [
         "1006",
         null,
         null,
         "Legolas",
         "2931.0"
        ],
        [
         "1007",
         null,
         null,
         "Elrond",
         "6520.0"
        ],
        [
         "1008",
         null,
         null,
         "Barromir",
         "51.0"
        ]
       ],
       "shape": {
        "columns": 4,
        "rows": 7
       }
      },
      "text/html": [
       "<div>\n",
       "<style scoped>\n",
       "    .dataframe tbody tr th:only-of-type {\n",
       "        vertical-align: middle;\n",
       "    }\n",
       "\n",
       "    .dataframe tbody tr th {\n",
       "        vertical-align: top;\n",
       "    }\n",
       "\n",
       "    .dataframe thead th {\n",
       "        text-align: right;\n",
       "    }\n",
       "</style>\n",
       "<table border=\"1\" class=\"dataframe\">\n",
       "  <thead>\n",
       "    <tr style=\"text-align: right;\">\n",
       "      <th></th>\n",
       "      <th>FirstName_Left</th>\n",
       "      <th>Skills</th>\n",
       "      <th>FirstName_Right</th>\n",
       "      <th>Age</th>\n",
       "    </tr>\n",
       "    <tr>\n",
       "      <th>FellowshipID</th>\n",
       "      <th></th>\n",
       "      <th></th>\n",
       "      <th></th>\n",
       "      <th></th>\n",
       "    </tr>\n",
       "  </thead>\n",
       "  <tbody>\n",
       "    <tr>\n",
       "      <th>1001</th>\n",
       "      <td>Frodo</td>\n",
       "      <td>Hiding</td>\n",
       "      <td>Frodo</td>\n",
       "      <td>50.0</td>\n",
       "    </tr>\n",
       "    <tr>\n",
       "      <th>1002</th>\n",
       "      <td>Samwise</td>\n",
       "      <td>Gardening</td>\n",
       "      <td>Samwise</td>\n",
       "      <td>39.0</td>\n",
       "    </tr>\n",
       "    <tr>\n",
       "      <th>1003</th>\n",
       "      <td>Gandalf</td>\n",
       "      <td>Spells</td>\n",
       "      <td>NaN</td>\n",
       "      <td>NaN</td>\n",
       "    </tr>\n",
       "    <tr>\n",
       "      <th>1004</th>\n",
       "      <td>Pippin</td>\n",
       "      <td>Fireworks</td>\n",
       "      <td>NaN</td>\n",
       "      <td>NaN</td>\n",
       "    </tr>\n",
       "    <tr>\n",
       "      <th>1006</th>\n",
       "      <td>NaN</td>\n",
       "      <td>NaN</td>\n",
       "      <td>Legolas</td>\n",
       "      <td>2931.0</td>\n",
       "    </tr>\n",
       "    <tr>\n",
       "      <th>1007</th>\n",
       "      <td>NaN</td>\n",
       "      <td>NaN</td>\n",
       "      <td>Elrond</td>\n",
       "      <td>6520.0</td>\n",
       "    </tr>\n",
       "    <tr>\n",
       "      <th>1008</th>\n",
       "      <td>NaN</td>\n",
       "      <td>NaN</td>\n",
       "      <td>Barromir</td>\n",
       "      <td>51.0</td>\n",
       "    </tr>\n",
       "  </tbody>\n",
       "</table>\n",
       "</div>"
      ],
      "text/plain": [
       "             FirstName_Left     Skills FirstName_Right     Age\n",
       "FellowshipID                                                  \n",
       "1001                  Frodo     Hiding           Frodo    50.0\n",
       "1002                Samwise  Gardening         Samwise    39.0\n",
       "1003                Gandalf     Spells             NaN     NaN\n",
       "1004                 Pippin  Fireworks             NaN     NaN\n",
       "1006                    NaN        NaN         Legolas  2931.0\n",
       "1007                    NaN        NaN          Elrond  6520.0\n",
       "1008                    NaN        NaN        Barromir    51.0"
      ]
     },
     "execution_count": 27,
     "metadata": {},
     "output_type": "execute_result"
    }
   ],
   "source": [
    "df4 = df1.set_index('FellowshipID').join(df2.set_index('FellowshipID'),lsuffix='_Left', rsuffix='_Right', how='outer')\n",
    "df4"
   ]
  },
  {
   "cell_type": "markdown",
   "id": "fae9f821",
   "metadata": {},
   "source": [
    "### Concatenate"
   ]
  },
  {
   "cell_type": "code",
   "execution_count": 32,
   "id": "9f7ed4c6",
   "metadata": {},
   "outputs": [
    {
     "data": {
      "application/vnd.microsoft.datawrangler.viewer.v0+json": {
       "columns": [
        {
         "name": "index",
         "rawType": "int64",
         "type": "integer"
        },
        {
         "name": "FellowshipID",
         "rawType": "int64",
         "type": "integer"
        },
        {
         "name": "FirstName",
         "rawType": "object",
         "type": "string"
        },
        {
         "name": "Skills",
         "rawType": "object",
         "type": "unknown"
        },
        {
         "name": "Age",
         "rawType": "float64",
         "type": "float"
        }
       ],
       "ref": "f7e7cd76-0438-41a1-b6ea-404778627e3f",
       "rows": [
        [
         "0",
         "1001",
         "Frodo",
         "Hiding",
         null
        ],
        [
         "1",
         "1002",
         "Samwise",
         "Gardening",
         null
        ],
        [
         "2",
         "1003",
         "Gandalf",
         "Spells",
         null
        ],
        [
         "3",
         "1004",
         "Pippin",
         "Fireworks",
         null
        ],
        [
         "0",
         "1001",
         "Frodo",
         null,
         "50.0"
        ],
        [
         "1",
         "1002",
         "Samwise",
         null,
         "39.0"
        ],
        [
         "2",
         "1006",
         "Legolas",
         null,
         "2931.0"
        ],
        [
         "3",
         "1007",
         "Elrond",
         null,
         "6520.0"
        ],
        [
         "4",
         "1008",
         "Barromir",
         null,
         "51.0"
        ]
       ],
       "shape": {
        "columns": 4,
        "rows": 9
       }
      },
      "text/html": [
       "<div>\n",
       "<style scoped>\n",
       "    .dataframe tbody tr th:only-of-type {\n",
       "        vertical-align: middle;\n",
       "    }\n",
       "\n",
       "    .dataframe tbody tr th {\n",
       "        vertical-align: top;\n",
       "    }\n",
       "\n",
       "    .dataframe thead th {\n",
       "        text-align: right;\n",
       "    }\n",
       "</style>\n",
       "<table border=\"1\" class=\"dataframe\">\n",
       "  <thead>\n",
       "    <tr style=\"text-align: right;\">\n",
       "      <th></th>\n",
       "      <th>FellowshipID</th>\n",
       "      <th>FirstName</th>\n",
       "      <th>Skills</th>\n",
       "      <th>Age</th>\n",
       "    </tr>\n",
       "  </thead>\n",
       "  <tbody>\n",
       "    <tr>\n",
       "      <th>0</th>\n",
       "      <td>1001</td>\n",
       "      <td>Frodo</td>\n",
       "      <td>Hiding</td>\n",
       "      <td>NaN</td>\n",
       "    </tr>\n",
       "    <tr>\n",
       "      <th>1</th>\n",
       "      <td>1002</td>\n",
       "      <td>Samwise</td>\n",
       "      <td>Gardening</td>\n",
       "      <td>NaN</td>\n",
       "    </tr>\n",
       "    <tr>\n",
       "      <th>2</th>\n",
       "      <td>1003</td>\n",
       "      <td>Gandalf</td>\n",
       "      <td>Spells</td>\n",
       "      <td>NaN</td>\n",
       "    </tr>\n",
       "    <tr>\n",
       "      <th>3</th>\n",
       "      <td>1004</td>\n",
       "      <td>Pippin</td>\n",
       "      <td>Fireworks</td>\n",
       "      <td>NaN</td>\n",
       "    </tr>\n",
       "    <tr>\n",
       "      <th>0</th>\n",
       "      <td>1001</td>\n",
       "      <td>Frodo</td>\n",
       "      <td>NaN</td>\n",
       "      <td>50.0</td>\n",
       "    </tr>\n",
       "    <tr>\n",
       "      <th>1</th>\n",
       "      <td>1002</td>\n",
       "      <td>Samwise</td>\n",
       "      <td>NaN</td>\n",
       "      <td>39.0</td>\n",
       "    </tr>\n",
       "    <tr>\n",
       "      <th>2</th>\n",
       "      <td>1006</td>\n",
       "      <td>Legolas</td>\n",
       "      <td>NaN</td>\n",
       "      <td>2931.0</td>\n",
       "    </tr>\n",
       "    <tr>\n",
       "      <th>3</th>\n",
       "      <td>1007</td>\n",
       "      <td>Elrond</td>\n",
       "      <td>NaN</td>\n",
       "      <td>6520.0</td>\n",
       "    </tr>\n",
       "    <tr>\n",
       "      <th>4</th>\n",
       "      <td>1008</td>\n",
       "      <td>Barromir</td>\n",
       "      <td>NaN</td>\n",
       "      <td>51.0</td>\n",
       "    </tr>\n",
       "  </tbody>\n",
       "</table>\n",
       "</div>"
      ],
      "text/plain": [
       "   FellowshipID FirstName     Skills     Age\n",
       "0          1001     Frodo     Hiding     NaN\n",
       "1          1002   Samwise  Gardening     NaN\n",
       "2          1003   Gandalf     Spells     NaN\n",
       "3          1004    Pippin  Fireworks     NaN\n",
       "0          1001     Frodo        NaN    50.0\n",
       "1          1002   Samwise        NaN    39.0\n",
       "2          1006   Legolas        NaN  2931.0\n",
       "3          1007    Elrond        NaN  6520.0\n",
       "4          1008  Barromir        NaN    51.0"
      ]
     },
     "execution_count": 32,
     "metadata": {},
     "output_type": "execute_result"
    }
   ],
   "source": [
    "pd.concat([df1,df2], join='outer', axis=0)"
   ]
  },
  {
   "cell_type": "code",
   "execution_count": 33,
   "id": "e11ddf97",
   "metadata": {},
   "outputs": [
    {
     "data": {
      "application/vnd.microsoft.datawrangler.viewer.v0+json": {
       "columns": [
        {
         "name": "index",
         "rawType": "int64",
         "type": "integer"
        },
        {
         "name": "FellowshipID",
         "rawType": "float64",
         "type": "float"
        },
        {
         "name": "FirstName",
         "rawType": "object",
         "type": "unknown"
        },
        {
         "name": "Skills",
         "rawType": "object",
         "type": "unknown"
        },
        {
         "name": "FellowshipID",
         "rawType": "int64",
         "type": "integer"
        },
        {
         "name": "FirstName",
         "rawType": "object",
         "type": "string"
        },
        {
         "name": "Age",
         "rawType": "int64",
         "type": "integer"
        }
       ],
       "ref": "101f99c7-a2b6-4f6c-b814-497ebe3c8222",
       "rows": [
        [
         "0",
         "1001.0",
         "Frodo",
         "Hiding",
         "1001",
         "Frodo",
         "50"
        ],
        [
         "1",
         "1002.0",
         "Samwise",
         "Gardening",
         "1002",
         "Samwise",
         "39"
        ],
        [
         "2",
         "1003.0",
         "Gandalf",
         "Spells",
         "1006",
         "Legolas",
         "2931"
        ],
        [
         "3",
         "1004.0",
         "Pippin",
         "Fireworks",
         "1007",
         "Elrond",
         "6520"
        ],
        [
         "4",
         null,
         null,
         null,
         "1008",
         "Barromir",
         "51"
        ]
       ],
       "shape": {
        "columns": 6,
        "rows": 5
       }
      },
      "text/html": [
       "<div>\n",
       "<style scoped>\n",
       "    .dataframe tbody tr th:only-of-type {\n",
       "        vertical-align: middle;\n",
       "    }\n",
       "\n",
       "    .dataframe tbody tr th {\n",
       "        vertical-align: top;\n",
       "    }\n",
       "\n",
       "    .dataframe thead th {\n",
       "        text-align: right;\n",
       "    }\n",
       "</style>\n",
       "<table border=\"1\" class=\"dataframe\">\n",
       "  <thead>\n",
       "    <tr style=\"text-align: right;\">\n",
       "      <th></th>\n",
       "      <th>FellowshipID</th>\n",
       "      <th>FirstName</th>\n",
       "      <th>Skills</th>\n",
       "      <th>FellowshipID</th>\n",
       "      <th>FirstName</th>\n",
       "      <th>Age</th>\n",
       "    </tr>\n",
       "  </thead>\n",
       "  <tbody>\n",
       "    <tr>\n",
       "      <th>0</th>\n",
       "      <td>1001.0</td>\n",
       "      <td>Frodo</td>\n",
       "      <td>Hiding</td>\n",
       "      <td>1001</td>\n",
       "      <td>Frodo</td>\n",
       "      <td>50</td>\n",
       "    </tr>\n",
       "    <tr>\n",
       "      <th>1</th>\n",
       "      <td>1002.0</td>\n",
       "      <td>Samwise</td>\n",
       "      <td>Gardening</td>\n",
       "      <td>1002</td>\n",
       "      <td>Samwise</td>\n",
       "      <td>39</td>\n",
       "    </tr>\n",
       "    <tr>\n",
       "      <th>2</th>\n",
       "      <td>1003.0</td>\n",
       "      <td>Gandalf</td>\n",
       "      <td>Spells</td>\n",
       "      <td>1006</td>\n",
       "      <td>Legolas</td>\n",
       "      <td>2931</td>\n",
       "    </tr>\n",
       "    <tr>\n",
       "      <th>3</th>\n",
       "      <td>1004.0</td>\n",
       "      <td>Pippin</td>\n",
       "      <td>Fireworks</td>\n",
       "      <td>1007</td>\n",
       "      <td>Elrond</td>\n",
       "      <td>6520</td>\n",
       "    </tr>\n",
       "    <tr>\n",
       "      <th>4</th>\n",
       "      <td>NaN</td>\n",
       "      <td>NaN</td>\n",
       "      <td>NaN</td>\n",
       "      <td>1008</td>\n",
       "      <td>Barromir</td>\n",
       "      <td>51</td>\n",
       "    </tr>\n",
       "  </tbody>\n",
       "</table>\n",
       "</div>"
      ],
      "text/plain": [
       "   FellowshipID FirstName     Skills  FellowshipID FirstName   Age\n",
       "0        1001.0     Frodo     Hiding          1001     Frodo    50\n",
       "1        1002.0   Samwise  Gardening          1002   Samwise    39\n",
       "2        1003.0   Gandalf     Spells          1006   Legolas  2931\n",
       "3        1004.0    Pippin  Fireworks          1007    Elrond  6520\n",
       "4           NaN       NaN        NaN          1008  Barromir    51"
      ]
     },
     "execution_count": 33,
     "metadata": {},
     "output_type": "execute_result"
    }
   ],
   "source": [
    "pd.concat([df1,df2], join='outer', axis=1)"
   ]
  }
 ],
 "metadata": {
  "kernelspec": {
   "display_name": "Python 3",
   "language": "python",
   "name": "python3"
  },
  "language_info": {
   "codemirror_mode": {
    "name": "ipython",
    "version": 3
   },
   "file_extension": ".py",
   "mimetype": "text/x-python",
   "name": "python",
   "nbconvert_exporter": "python",
   "pygments_lexer": "ipython3",
   "version": "3.11.9"
  }
 },
 "nbformat": 4,
 "nbformat_minor": 5
}
