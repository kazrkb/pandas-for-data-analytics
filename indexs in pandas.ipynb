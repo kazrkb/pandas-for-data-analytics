{
 "cells": [
  {
   "cell_type": "markdown",
   "id": "99a3fb7b",
   "metadata": {},
   "source": [
    "## Indexing in pandas"
   ]
  },
  {
   "cell_type": "code",
   "execution_count": 1,
   "id": "d158f8a8",
   "metadata": {},
   "outputs": [],
   "source": [
    "## Indexing in pandas"
   ]
  },
  {
   "cell_type": "code",
   "execution_count": null,
   "id": "d0d96db3",
   "metadata": {},
   "outputs": [],
   "source": []
  }
 ],
 "metadata": {
  "kernelspec": {
   "display_name": "Python 3",
   "language": "python",
   "name": "python3"
  },
  "language_info": {
   "codemirror_mode": {
    "name": "ipython",
    "version": 3
   },
   "file_extension": ".py",
   "mimetype": "text/x-python",
   "name": "python",
   "nbconvert_exporter": "python",
   "pygments_lexer": "ipython3",
   "version": "3.11.9"
  }
 },
 "nbformat": 4,
 "nbformat_minor": 5
}
